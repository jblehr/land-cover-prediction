{
 "cells": [
  {
   "cell_type": "code",
   "execution_count": 13,
   "metadata": {},
   "outputs": [],
   "source": [
    "import baseline_logistic\n",
    "import seaborn as sns\n",
    "import numpy as np\n",
    "from tqdm import tqdm\n",
    "import torch\n",
    "from torch.utils.data import Dataset, DataLoader, random_split\n",
    "import argparse\n",
    "import matplotlib.pyplot as plt\n",
    "from sklearn.metrics import confusion_matrix"
   ]
  },
  {
   "cell_type": "code",
   "execution_count": 20,
   "metadata": {},
   "outputs": [
    {
     "name": "stderr",
     "output_type": "stream",
     "text": [
      "Training Epochs:   0%|          | 0/25 [00:00<?, ?it/s]/media/nick/Data/GitRepos/land-cover-prediction/scripts/baseline_logistic.py:20: UserWarning: Implicit dimension choice for log_softmax has been deprecated. Change the call to include dim=X as an argument.\n",
      "  outputs = self.sm(self.linear(x))\n"
     ]
    },
    {
     "name": "stdout",
     "output_type": "stream",
     "text": [
      "At iteration 1000 the loss is 3338.251.\n",
      "At iteration 2000 the loss is 18490.113.\n",
      "At iteration 3000 the loss is 8673.331.\n",
      "At iteration 4000 the loss is 10897.041.\n",
      "At iteration 5000 the loss is 4900.606.\n",
      "At iteration 6000 the loss is 7905.937.\n"
     ]
    },
    {
     "name": "stderr",
     "output_type": "stream",
     "text": [
      "Training Epochs:   4%|▍         | 1/25 [00:14<05:39, 14.15s/it]"
     ]
    },
    {
     "name": "stdout",
     "output_type": "stream",
     "text": [
      "After epoch: accuracy is 0.682.\n",
      "At iteration 1000 the loss is 4340.128.\n",
      "At iteration 2000 the loss is 26919.289.\n",
      "At iteration 3000 the loss is 19796.094.\n",
      "At iteration 4000 the loss is 4202.650.\n",
      "At iteration 5000 the loss is 4567.820.\n",
      "At iteration 6000 the loss is 5081.574.\n"
     ]
    },
    {
     "name": "stderr",
     "output_type": "stream",
     "text": [
      "Training Epochs:   8%|▊         | 2/25 [00:29<05:41, 14.84s/it]"
     ]
    },
    {
     "name": "stdout",
     "output_type": "stream",
     "text": [
      "After epoch: accuracy is 0.746.\n",
      "At iteration 1000 the loss is 3686.271.\n",
      "At iteration 2000 the loss is 6974.332.\n",
      "At iteration 3000 the loss is 15625.716.\n",
      "At iteration 4000 the loss is 10290.846.\n",
      "At iteration 5000 the loss is 19097.965.\n",
      "At iteration 6000 the loss is 1928.262.\n"
     ]
    },
    {
     "name": "stderr",
     "output_type": "stream",
     "text": [
      "Training Epochs:  12%|█▏        | 3/25 [00:51<06:41, 18.25s/it]"
     ]
    },
    {
     "name": "stdout",
     "output_type": "stream",
     "text": [
      "After epoch: accuracy is 0.699.\n",
      "At iteration 1000 the loss is 6924.210.\n",
      "At iteration 2000 the loss is 14198.266.\n",
      "At iteration 3000 the loss is 10604.295.\n",
      "At iteration 4000 the loss is 7615.878.\n",
      "At iteration 5000 the loss is 4815.068.\n",
      "At iteration 6000 the loss is 3191.937.\n"
     ]
    },
    {
     "name": "stderr",
     "output_type": "stream",
     "text": [
      "Training Epochs:  16%|█▌        | 4/25 [01:19<07:37, 21.80s/it]"
     ]
    },
    {
     "name": "stdout",
     "output_type": "stream",
     "text": [
      "After epoch: accuracy is 0.676.\n",
      "At iteration 1000 the loss is 3901.791.\n",
      "At iteration 2000 the loss is 5851.961.\n",
      "At iteration 3000 the loss is 4365.218.\n",
      "At iteration 4000 the loss is 7940.555.\n",
      "At iteration 5000 the loss is 2696.366.\n",
      "At iteration 6000 the loss is 2901.502.\n"
     ]
    },
    {
     "name": "stderr",
     "output_type": "stream",
     "text": [
      "Training Epochs:  20%|██        | 5/25 [01:46<07:55, 23.79s/it]"
     ]
    },
    {
     "name": "stdout",
     "output_type": "stream",
     "text": [
      "After epoch: accuracy is 0.377.\n",
      "At iteration 1000 the loss is 20765.125.\n",
      "At iteration 2000 the loss is 3634.136.\n",
      "At iteration 3000 the loss is 2710.696.\n",
      "At iteration 4000 the loss is 18187.297.\n",
      "At iteration 5000 the loss is 5952.994.\n",
      "At iteration 6000 the loss is 16243.502.\n"
     ]
    },
    {
     "name": "stderr",
     "output_type": "stream",
     "text": [
      "Training Epochs:  24%|██▍       | 6/25 [02:13<07:55, 25.02s/it]"
     ]
    },
    {
     "name": "stdout",
     "output_type": "stream",
     "text": [
      "After epoch: accuracy is 0.752.\n",
      "At iteration 1000 the loss is 8174.934.\n",
      "At iteration 2000 the loss is 4768.874.\n",
      "At iteration 3000 the loss is 9864.420.\n",
      "At iteration 4000 the loss is 20541.451.\n",
      "At iteration 5000 the loss is 26255.707.\n",
      "At iteration 6000 the loss is 12066.282.\n"
     ]
    },
    {
     "name": "stderr",
     "output_type": "stream",
     "text": [
      "Training Epochs:  28%|██▊       | 7/25 [02:39<07:35, 25.32s/it]"
     ]
    },
    {
     "name": "stdout",
     "output_type": "stream",
     "text": [
      "After epoch: accuracy is 0.678.\n",
      "At iteration 1000 the loss is 10197.182.\n",
      "At iteration 2000 the loss is 2163.218.\n",
      "At iteration 3000 the loss is 3696.098.\n",
      "At iteration 4000 the loss is 5587.437.\n",
      "At iteration 5000 the loss is 4818.543.\n",
      "At iteration 6000 the loss is 3745.664.\n"
     ]
    },
    {
     "name": "stderr",
     "output_type": "stream",
     "text": [
      "Training Epochs:  32%|███▏      | 8/25 [03:05<07:14, 25.53s/it]"
     ]
    },
    {
     "name": "stdout",
     "output_type": "stream",
     "text": [
      "After epoch: accuracy is 0.393.\n",
      "At iteration 1000 the loss is 22681.678.\n",
      "At iteration 2000 the loss is 3680.975.\n",
      "At iteration 3000 the loss is 7948.576.\n",
      "At iteration 4000 the loss is 10489.595.\n",
      "At iteration 5000 the loss is 3746.799.\n",
      "At iteration 6000 the loss is 24696.822.\n"
     ]
    },
    {
     "name": "stderr",
     "output_type": "stream",
     "text": [
      "Training Epochs:  36%|███▌      | 9/25 [03:32<06:53, 25.86s/it]"
     ]
    },
    {
     "name": "stdout",
     "output_type": "stream",
     "text": [
      "After epoch: accuracy is 0.730.\n",
      "At iteration 1000 the loss is 2171.485.\n",
      "At iteration 2000 the loss is 4260.751.\n",
      "At iteration 3000 the loss is 4930.699.\n",
      "At iteration 4000 the loss is 3386.921.\n",
      "At iteration 5000 the loss is 4748.088.\n",
      "At iteration 6000 the loss is 19536.580.\n"
     ]
    },
    {
     "name": "stderr",
     "output_type": "stream",
     "text": [
      "Training Epochs:  40%|████      | 10/25 [03:55<06:15, 25.04s/it]"
     ]
    },
    {
     "name": "stdout",
     "output_type": "stream",
     "text": [
      "After epoch: accuracy is 0.758.\n",
      "At iteration 1000 the loss is 9082.506.\n",
      "At iteration 2000 the loss is 10076.566.\n",
      "At iteration 3000 the loss is 14247.049.\n",
      "At iteration 4000 the loss is 12015.259.\n",
      "At iteration 5000 the loss is 26654.254.\n",
      "At iteration 6000 the loss is 4832.585.\n"
     ]
    },
    {
     "name": "stderr",
     "output_type": "stream",
     "text": [
      "Training Epochs:  44%|████▍     | 11/25 [04:23<06:05, 26.10s/it]"
     ]
    },
    {
     "name": "stdout",
     "output_type": "stream",
     "text": [
      "After epoch: accuracy is 0.746.\n",
      "At iteration 1000 the loss is 12520.250.\n",
      "At iteration 2000 the loss is 4029.095.\n",
      "At iteration 3000 the loss is 12324.230.\n",
      "At iteration 4000 the loss is 5185.312.\n",
      "At iteration 5000 the loss is 3231.312.\n",
      "At iteration 6000 the loss is 11075.368.\n"
     ]
    },
    {
     "name": "stderr",
     "output_type": "stream",
     "text": [
      "Training Epochs:  48%|████▊     | 12/25 [04:43<05:13, 24.12s/it]"
     ]
    },
    {
     "name": "stdout",
     "output_type": "stream",
     "text": [
      "After epoch: accuracy is 0.714.\n",
      "At iteration 1000 the loss is 9285.147.\n",
      "At iteration 2000 the loss is 3286.312.\n",
      "At iteration 3000 the loss is 6001.859.\n",
      "At iteration 4000 the loss is 8594.378.\n",
      "At iteration 5000 the loss is 5395.689.\n",
      "At iteration 6000 the loss is 5173.991.\n"
     ]
    },
    {
     "name": "stderr",
     "output_type": "stream",
     "text": [
      "Training Epochs:  52%|█████▏    | 13/25 [05:00<04:24, 22.06s/it]"
     ]
    },
    {
     "name": "stdout",
     "output_type": "stream",
     "text": [
      "After epoch: accuracy is 0.698.\n",
      "At iteration 1000 the loss is 3677.366.\n",
      "At iteration 2000 the loss is 2130.175.\n",
      "At iteration 3000 the loss is 9566.674.\n",
      "At iteration 4000 the loss is 3738.308.\n",
      "At iteration 5000 the loss is 7364.048.\n",
      "At iteration 6000 the loss is 8188.700.\n"
     ]
    },
    {
     "name": "stderr",
     "output_type": "stream",
     "text": [
      "Training Epochs:  56%|█████▌    | 14/25 [05:21<03:59, 21.78s/it]"
     ]
    },
    {
     "name": "stdout",
     "output_type": "stream",
     "text": [
      "After epoch: accuracy is 0.680.\n",
      "At iteration 1000 the loss is 5861.029.\n",
      "At iteration 2000 the loss is 3408.558.\n",
      "At iteration 3000 the loss is 10181.356.\n",
      "At iteration 4000 the loss is 4070.700.\n",
      "At iteration 5000 the loss is 2343.402.\n",
      "At iteration 6000 the loss is 3886.797.\n"
     ]
    },
    {
     "name": "stderr",
     "output_type": "stream",
     "text": [
      "Training Epochs:  60%|██████    | 15/25 [05:57<04:20, 26.06s/it]"
     ]
    },
    {
     "name": "stdout",
     "output_type": "stream",
     "text": [
      "After epoch: accuracy is 0.676.\n",
      "At iteration 1000 the loss is 6401.568.\n",
      "At iteration 2000 the loss is 17901.713.\n",
      "At iteration 3000 the loss is 10930.831.\n",
      "At iteration 4000 the loss is 2431.901.\n",
      "At iteration 5000 the loss is 6298.305.\n",
      "At iteration 6000 the loss is 5757.394.\n"
     ]
    },
    {
     "name": "stderr",
     "output_type": "stream",
     "text": [
      "Training Epochs:  64%|██████▍   | 16/25 [06:13<03:25, 22.85s/it]"
     ]
    },
    {
     "name": "stdout",
     "output_type": "stream",
     "text": [
      "After epoch: accuracy is 0.686.\n",
      "At iteration 1000 the loss is 7152.357.\n",
      "At iteration 2000 the loss is 4270.586.\n",
      "At iteration 3000 the loss is 3316.085.\n",
      "At iteration 4000 the loss is 7941.089.\n",
      "At iteration 5000 the loss is 4825.646.\n",
      "At iteration 6000 the loss is 8113.981.\n"
     ]
    },
    {
     "name": "stderr",
     "output_type": "stream",
     "text": [
      "Training Epochs:  68%|██████▊   | 17/25 [06:27<02:40, 20.10s/it]"
     ]
    },
    {
     "name": "stdout",
     "output_type": "stream",
     "text": [
      "After epoch: accuracy is 0.699.\n",
      "At iteration 1000 the loss is 4865.871.\n",
      "At iteration 2000 the loss is 29506.512.\n",
      "At iteration 3000 the loss is 8934.932.\n",
      "At iteration 4000 the loss is 5961.525.\n",
      "At iteration 5000 the loss is 3207.564.\n",
      "At iteration 6000 the loss is 2649.878.\n"
     ]
    },
    {
     "name": "stderr",
     "output_type": "stream",
     "text": [
      "Training Epochs:  72%|███████▏  | 18/25 [06:41<02:08, 18.34s/it]"
     ]
    },
    {
     "name": "stdout",
     "output_type": "stream",
     "text": [
      "After epoch: accuracy is 0.401.\n",
      "At iteration 1000 the loss is 2661.056.\n",
      "At iteration 2000 the loss is 3018.167.\n",
      "At iteration 3000 the loss is 3680.521.\n",
      "At iteration 4000 the loss is 2691.413.\n",
      "At iteration 5000 the loss is 3907.988.\n",
      "At iteration 6000 the loss is 9730.118.\n"
     ]
    },
    {
     "name": "stderr",
     "output_type": "stream",
     "text": [
      "Training Epochs:  76%|███████▌  | 19/25 [06:56<01:44, 17.38s/it]"
     ]
    },
    {
     "name": "stdout",
     "output_type": "stream",
     "text": [
      "After epoch: accuracy is 0.709.\n",
      "At iteration 1000 the loss is 4453.750.\n",
      "At iteration 2000 the loss is 17243.070.\n",
      "At iteration 3000 the loss is 7250.014.\n",
      "At iteration 4000 the loss is 3873.137.\n",
      "At iteration 5000 the loss is 4615.575.\n",
      "At iteration 6000 the loss is 3390.444.\n"
     ]
    },
    {
     "name": "stderr",
     "output_type": "stream",
     "text": [
      "Training Epochs:  80%|████████  | 20/25 [07:10<01:22, 16.46s/it]"
     ]
    },
    {
     "name": "stdout",
     "output_type": "stream",
     "text": [
      "After epoch: accuracy is 0.675.\n",
      "At iteration 1000 the loss is 33524.133.\n",
      "At iteration 2000 the loss is 5373.385.\n",
      "At iteration 3000 the loss is 5375.636.\n",
      "At iteration 4000 the loss is 3909.068.\n",
      "At iteration 5000 the loss is 7468.583.\n",
      "At iteration 6000 the loss is 11440.059.\n"
     ]
    },
    {
     "name": "stderr",
     "output_type": "stream",
     "text": [
      "Training Epochs:  84%|████████▍ | 21/25 [07:24<01:03, 15.78s/it]"
     ]
    },
    {
     "name": "stdout",
     "output_type": "stream",
     "text": [
      "After epoch: accuracy is 0.693.\n",
      "At iteration 1000 the loss is 15704.660.\n",
      "At iteration 2000 the loss is 14496.632.\n",
      "At iteration 3000 the loss is 2604.853.\n",
      "At iteration 4000 the loss is 8383.674.\n",
      "At iteration 5000 the loss is 5025.696.\n",
      "At iteration 6000 the loss is 8495.093.\n"
     ]
    },
    {
     "name": "stderr",
     "output_type": "stream",
     "text": [
      "Training Epochs:  88%|████████▊ | 22/25 [07:39<00:46, 15.51s/it]"
     ]
    },
    {
     "name": "stdout",
     "output_type": "stream",
     "text": [
      "After epoch: accuracy is 0.669.\n",
      "At iteration 1000 the loss is 5382.341.\n",
      "At iteration 2000 the loss is 10973.185.\n",
      "At iteration 3000 the loss is 10606.848.\n",
      "At iteration 4000 the loss is 5504.927.\n",
      "At iteration 5000 the loss is 13792.057.\n",
      "At iteration 6000 the loss is 11881.177.\n"
     ]
    },
    {
     "name": "stderr",
     "output_type": "stream",
     "text": [
      "Training Epochs:  92%|█████████▏| 23/25 [07:59<00:33, 16.80s/it]"
     ]
    },
    {
     "name": "stdout",
     "output_type": "stream",
     "text": [
      "After epoch: accuracy is 0.755.\n",
      "At iteration 1000 the loss is 4840.050.\n",
      "At iteration 2000 the loss is 11372.571.\n",
      "At iteration 3000 the loss is 14342.923.\n",
      "At iteration 4000 the loss is 10723.318.\n",
      "At iteration 5000 the loss is 3530.383.\n",
      "At iteration 6000 the loss is 9902.188.\n"
     ]
    },
    {
     "name": "stderr",
     "output_type": "stream",
     "text": [
      "Training Epochs:  96%|█████████▌| 24/25 [08:14<00:16, 16.11s/it]"
     ]
    },
    {
     "name": "stdout",
     "output_type": "stream",
     "text": [
      "After epoch: accuracy is 0.315.\n",
      "At iteration 1000 the loss is 10469.415.\n",
      "At iteration 2000 the loss is 8339.808.\n",
      "At iteration 3000 the loss is 14040.476.\n",
      "At iteration 4000 the loss is 4517.167.\n",
      "At iteration 5000 the loss is 8532.527.\n",
      "At iteration 6000 the loss is 2924.772.\n"
     ]
    },
    {
     "name": "stderr",
     "output_type": "stream",
     "text": [
      "Training Epochs: 100%|██████████| 25/25 [08:30<00:00, 20.41s/it]"
     ]
    },
    {
     "name": "stdout",
     "output_type": "stream",
     "text": [
      "After epoch: accuracy is 0.709.\n"
     ]
    },
    {
     "name": "stderr",
     "output_type": "stream",
     "text": [
      "\n"
     ]
    }
   ],
   "source": [
    "# Load dataset\n",
    "# dataset = baseline_logistic.FullyIndependentDataset(\n",
    "#     \"../data/processed/npz/planet/1700_3100_13_13N/2018-01-01.npz\",\n",
    "#     \"../data/processed/npz/labels/1700_3100_13_13N/2018-01-01.npz\"\n",
    "# )\n",
    "\n",
    "dataset = baseline_logistic.FullyIndependentDataset(\n",
    "    \"../data/processed/npz/planet/2697_3715_13_20N/2018-01-01.npz\",\n",
    "    \"../data/processed/npz/labels/2697_3715_13_20N/2018-01-01.npz\"\n",
    ")\n",
    "\n",
    "# Split into training and test\n",
    "train_size = int(0.8 * len(dataset))\n",
    "test_size = len(dataset) - train_size\n",
    "train_set, test_set = random_split(dataset, [train_size, test_size])\n",
    "\n",
    "# Dataloaders\n",
    "train_loader = DataLoader(train_set, batch_size=128, shuffle=True)\n",
    "test_loader = DataLoader(test_set, batch_size=512, shuffle=False)\n",
    "\n",
    "model, accuracies = baseline_logistic.train_logstic(train_loader, test_loader, epochs=25)\n"
   ]
  },
  {
   "cell_type": "code",
   "execution_count": 21,
   "metadata": {},
   "outputs": [
    {
     "name": "stderr",
     "output_type": "stream",
     "text": [
      "<ipython-input-21-61ec864249e8>:4: UserWarning: Implicit dimension choice for softmax has been deprecated. Change the call to include dim=X as an argument.\n",
      "  test_pred = torch.argmax(sm(test_pred), axis = 1)\n"
     ]
    },
    {
     "data": {
      "text/plain": [
       "torch.Size([1048576])"
      ]
     },
     "execution_count": 21,
     "metadata": {},
     "output_type": "execute_result"
    }
   ],
   "source": [
    "#final confusion\n",
    "sm = torch.nn.Softmax()\n",
    "test_pred = model(test_set.dataset.X).detach()\n",
    "test_pred = torch.argmax(sm(test_pred), axis = 1)\n",
    "test_pred.shape"
   ]
  },
  {
   "cell_type": "code",
   "execution_count": 22,
   "metadata": {},
   "outputs": [],
   "source": [
    "test_target = test_set.dataset.y.detach().shape\n",
    "conf = confusion_matrix(\n",
    "    test_pred,\n",
    "    test_set.dataset.y.detach(),\n",
    "    normalize='true',\n",
    "    labels=np.arange(0,6)\n",
    ")"
   ]
  },
  {
   "cell_type": "code",
   "execution_count": 23,
   "metadata": {},
   "outputs": [],
   "source": [
    "annot = (conf*100).astype(int).astype(str)"
   ]
  },
  {
   "cell_type": "code",
   "execution_count": 24,
   "metadata": {},
   "outputs": [
    {
     "data": {
      "text/plain": [
       "Text(73.0, 0.5, 'Target')"
      ]
     },
     "execution_count": 24,
     "metadata": {},
     "output_type": "execute_result"
    },
    {
     "data": {
      "image/png": "[encoded data removed]",
      "text/plain": [
       "<Figure size 864x720 with 2 Axes>"
      ]
     },
     "metadata": {
      "needs_background": "light"
     },
     "output_type": "display_data"
    }
   ],
   "source": [
    "import matplotlib.pyplot as plt\n",
    "plt.rcParams[\"figure.figsize\"] = (12,10)\n",
    "font = {'size'   : 24}\n",
    "plt.rc('font', **font)\n",
    "\n",
    "ax = sns.heatmap(conf, vmin=0, vmax=1, annot=annot, fmt= '',\n",
    "            xticklabels=['imperv', 'agri', 'forest', 'wetland','soil','water','ice'],\n",
    "            yticklabels=['imperv', 'agri', 'forest', 'wetland','soil','water','ice'])\n",
    "cbar = ax.collections[0].colorbar\n",
    "cbar.set_ticks([0, .2, .75, 1])\n",
    "for t in ax.texts: t.set_text(t.get_text() + \"%\")\n",
    "cbar.set_ticklabels(['0%', '20%', '75%', '100%'])\n",
    "\n",
    "ax.set_xlabel('Prediction')\n",
    "ax.set_ylabel('Target')"
   ]
  },
  {
   "cell_type": "code",
   "execution_count": 7,
   "metadata": {},
   "outputs": [
    {
     "name": "stderr",
     "output_type": "stream",
     "text": [
      "Training Epochs:   0%|          | 0/25 [00:00<?, ?it/s]/media/nick/Data/GitRepos/land-cover-prediction/scripts/baseline_logistic.py:20: UserWarning: Implicit dimension choice for log_softmax has been deprecated. Change the call to include dim=X as an argument.\n",
      "  outputs = self.sm(self.linear(x))\n"
     ]
    },
    {
     "name": "stdout",
     "output_type": "stream",
     "text": [
      "At iteration 1000 the loss is 3720.424.\n",
      "At iteration 2000 the loss is 6422.681.\n",
      "At iteration 3000 the loss is 4494.665.\n",
      "At iteration 4000 the loss is 1954.684.\n",
      "At iteration 5000 the loss is 7702.479.\n",
      "At iteration 6000 the loss is 10191.238.\n"
     ]
    },
    {
     "name": "stderr",
     "output_type": "stream",
     "text": [
      "Training Epochs:   4%|▍         | 1/25 [00:24<09:59, 24.99s/it]"
     ]
    },
    {
     "name": "stdout",
     "output_type": "stream",
     "text": [
      "After epoch: accuracy is 0.599.\n",
      "At iteration 1000 the loss is 7160.443.\n",
      "At iteration 2000 the loss is 3156.493.\n",
      "At iteration 3000 the loss is 4878.086.\n",
      "At iteration 4000 the loss is 7633.583.\n",
      "At iteration 5000 the loss is 9936.339.\n",
      "At iteration 6000 the loss is 3251.575.\n"
     ]
    },
    {
     "name": "stderr",
     "output_type": "stream",
     "text": [
      "Training Epochs:   8%|▊         | 2/25 [00:51<09:48, 25.60s/it]"
     ]
    },
    {
     "name": "stdout",
     "output_type": "stream",
     "text": [
      "After epoch: accuracy is 0.530.\n",
      "At iteration 1000 the loss is 2802.129.\n",
      "At iteration 2000 the loss is 7637.868.\n",
      "At iteration 3000 the loss is 4062.868.\n",
      "At iteration 4000 the loss is 4947.428.\n",
      "At iteration 5000 the loss is 2582.659.\n",
      "At iteration 6000 the loss is 4826.251.\n"
     ]
    },
    {
     "name": "stderr",
     "output_type": "stream",
     "text": [
      "Training Epochs:  12%|█▏        | 3/25 [01:15<09:10, 25.00s/it]"
     ]
    },
    {
     "name": "stdout",
     "output_type": "stream",
     "text": [
      "After epoch: accuracy is 0.507.\n",
      "At iteration 1000 the loss is 5610.801.\n",
      "At iteration 2000 the loss is 6020.309.\n",
      "At iteration 3000 the loss is 2433.907.\n",
      "At iteration 4000 the loss is 5771.661.\n",
      "At iteration 5000 the loss is 4950.286.\n",
      "At iteration 6000 the loss is 6424.626.\n"
     ]
    },
    {
     "name": "stderr",
     "output_type": "stream",
     "text": [
      "Training Epochs:  16%|█▌        | 4/25 [01:40<08:49, 25.21s/it]"
     ]
    },
    {
     "name": "stdout",
     "output_type": "stream",
     "text": [
      "After epoch: accuracy is 0.556.\n",
      "At iteration 1000 the loss is 6060.151.\n",
      "At iteration 2000 the loss is 2601.813.\n",
      "At iteration 3000 the loss is 2958.896.\n",
      "At iteration 4000 the loss is 4308.125.\n",
      "At iteration 5000 the loss is 3716.297.\n",
      "At iteration 6000 the loss is 2187.243.\n"
     ]
    },
    {
     "name": "stderr",
     "output_type": "stream",
     "text": [
      "Training Epochs:  20%|██        | 5/25 [02:06<08:26, 25.34s/it]"
     ]
    },
    {
     "name": "stdout",
     "output_type": "stream",
     "text": [
      "After epoch: accuracy is 0.572.\n",
      "At iteration 1000 the loss is 8366.134.\n",
      "At iteration 2000 the loss is 2353.432.\n",
      "At iteration 3000 the loss is 2105.539.\n",
      "At iteration 4000 the loss is 6406.238.\n",
      "At iteration 5000 the loss is 2838.384.\n",
      "At iteration 6000 the loss is 5301.560.\n"
     ]
    },
    {
     "name": "stderr",
     "output_type": "stream",
     "text": [
      "Training Epochs:  24%|██▍       | 6/25 [02:31<08:02, 25.39s/it]"
     ]
    },
    {
     "name": "stdout",
     "output_type": "stream",
     "text": [
      "After epoch: accuracy is 0.291.\n",
      "At iteration 1000 the loss is 6065.256.\n",
      "At iteration 2000 the loss is 3129.818.\n",
      "At iteration 3000 the loss is 5271.894.\n",
      "At iteration 4000 the loss is 7998.249.\n",
      "At iteration 5000 the loss is 5190.671.\n",
      "At iteration 6000 the loss is 5346.419.\n"
     ]
    },
    {
     "name": "stderr",
     "output_type": "stream",
     "text": [
      "Training Epochs:  28%|██▊       | 7/25 [02:57<07:38, 25.45s/it]"
     ]
    },
    {
     "name": "stdout",
     "output_type": "stream",
     "text": [
      "After epoch: accuracy is 0.369.\n",
      "At iteration 1000 the loss is 2649.613.\n",
      "At iteration 2000 the loss is 3317.099.\n",
      "At iteration 3000 the loss is 5812.120.\n",
      "At iteration 4000 the loss is 4006.520.\n",
      "At iteration 5000 the loss is 8438.692.\n",
      "At iteration 6000 the loss is 2953.705.\n"
     ]
    },
    {
     "name": "stderr",
     "output_type": "stream",
     "text": [
      "Training Epochs:  32%|███▏      | 8/25 [03:21<07:07, 25.13s/it]"
     ]
    },
    {
     "name": "stdout",
     "output_type": "stream",
     "text": [
      "After epoch: accuracy is 0.540.\n",
      "At iteration 1000 the loss is 4181.672.\n",
      "At iteration 2000 the loss is 5522.194.\n",
      "At iteration 3000 the loss is 3704.166.\n",
      "At iteration 4000 the loss is 6089.405.\n",
      "At iteration 5000 the loss is 2125.921.\n",
      "At iteration 6000 the loss is 6031.703.\n"
     ]
    },
    {
     "name": "stderr",
     "output_type": "stream",
     "text": [
      "Training Epochs:  36%|███▌      | 9/25 [03:47<06:45, 25.36s/it]"
     ]
    },
    {
     "name": "stdout",
     "output_type": "stream",
     "text": [
      "After epoch: accuracy is 0.628.\n",
      "At iteration 1000 the loss is 4990.287.\n",
      "At iteration 2000 the loss is 4142.044.\n",
      "At iteration 3000 the loss is 2031.882.\n",
      "At iteration 4000 the loss is 6888.850.\n",
      "At iteration 5000 the loss is 2697.999.\n",
      "At iteration 6000 the loss is 5257.595.\n"
     ]
    },
    {
     "name": "stderr",
     "output_type": "stream",
     "text": [
      "Training Epochs:  40%|████      | 10/25 [04:12<06:17, 25.19s/it]"
     ]
    },
    {
     "name": "stdout",
     "output_type": "stream",
     "text": [
      "After epoch: accuracy is 0.353.\n",
      "At iteration 1000 the loss is 5764.680.\n",
      "At iteration 2000 the loss is 4451.141.\n",
      "At iteration 3000 the loss is 5554.336.\n",
      "At iteration 4000 the loss is 7935.942.\n",
      "At iteration 5000 the loss is 4445.198.\n",
      "At iteration 6000 the loss is 4694.522.\n"
     ]
    },
    {
     "name": "stderr",
     "output_type": "stream",
     "text": [
      "Training Epochs:  44%|████▍     | 11/25 [04:38<05:54, 25.32s/it]"
     ]
    },
    {
     "name": "stdout",
     "output_type": "stream",
     "text": [
      "After epoch: accuracy is 0.527.\n",
      "At iteration 1000 the loss is 7536.490.\n",
      "At iteration 2000 the loss is 9061.070.\n",
      "At iteration 3000 the loss is 3842.963.\n",
      "At iteration 4000 the loss is 2337.841.\n",
      "At iteration 5000 the loss is 6315.207.\n",
      "At iteration 6000 the loss is 6610.522.\n"
     ]
    },
    {
     "name": "stderr",
     "output_type": "stream",
     "text": [
      "Training Epochs:  48%|████▊     | 12/25 [05:03<05:27, 25.18s/it]"
     ]
    },
    {
     "name": "stdout",
     "output_type": "stream",
     "text": [
      "After epoch: accuracy is 0.489.\n",
      "At iteration 1000 the loss is 6731.484.\n",
      "At iteration 2000 the loss is 7331.504.\n",
      "At iteration 3000 the loss is 3467.279.\n",
      "At iteration 4000 the loss is 2406.797.\n",
      "At iteration 5000 the loss is 1681.678.\n",
      "At iteration 6000 the loss is 8393.538.\n"
     ]
    },
    {
     "name": "stderr",
     "output_type": "stream",
     "text": [
      "Training Epochs:  52%|█████▏    | 13/25 [05:28<05:02, 25.22s/it]"
     ]
    },
    {
     "name": "stdout",
     "output_type": "stream",
     "text": [
      "After epoch: accuracy is 0.393.\n",
      "At iteration 1000 the loss is 3440.897.\n",
      "At iteration 2000 the loss is 4757.673.\n",
      "At iteration 3000 the loss is 4871.088.\n",
      "At iteration 4000 the loss is 2097.763.\n",
      "At iteration 5000 the loss is 6687.866.\n",
      "At iteration 6000 the loss is 5892.722.\n"
     ]
    },
    {
     "name": "stderr",
     "output_type": "stream",
     "text": [
      "Training Epochs:  56%|█████▌    | 14/25 [05:53<04:37, 25.26s/it]"
     ]
    },
    {
     "name": "stdout",
     "output_type": "stream",
     "text": [
      "After epoch: accuracy is 0.633.\n",
      "At iteration 1000 the loss is 8568.353.\n",
      "At iteration 2000 the loss is 8719.675.\n",
      "At iteration 3000 the loss is 6237.854.\n",
      "At iteration 4000 the loss is 2215.515.\n",
      "At iteration 5000 the loss is 5004.984.\n",
      "At iteration 6000 the loss is 4650.778.\n"
     ]
    },
    {
     "name": "stderr",
     "output_type": "stream",
     "text": [
      "Training Epochs:  60%|██████    | 15/25 [06:18<04:12, 25.24s/it]"
     ]
    },
    {
     "name": "stdout",
     "output_type": "stream",
     "text": [
      "After epoch: accuracy is 0.555.\n",
      "At iteration 1000 the loss is 1454.835.\n",
      "At iteration 2000 the loss is 9814.334.\n",
      "At iteration 3000 the loss is 4364.935.\n",
      "At iteration 4000 the loss is 6326.973.\n",
      "At iteration 5000 the loss is 10223.772.\n",
      "At iteration 6000 the loss is 7439.921.\n"
     ]
    },
    {
     "name": "stderr",
     "output_type": "stream",
     "text": [
      "Training Epochs:  64%|██████▍   | 16/25 [06:44<03:48, 25.35s/it]"
     ]
    },
    {
     "name": "stdout",
     "output_type": "stream",
     "text": [
      "After epoch: accuracy is 0.557.\n",
      "At iteration 1000 the loss is 7223.568.\n",
      "At iteration 2000 the loss is 5350.839.\n",
      "At iteration 3000 the loss is 2450.516.\n",
      "At iteration 4000 the loss is 7688.980.\n",
      "At iteration 5000 the loss is 5103.481.\n",
      "At iteration 6000 the loss is 4801.939.\n"
     ]
    },
    {
     "name": "stderr",
     "output_type": "stream",
     "text": [
      "Training Epochs:  68%|██████▊   | 17/25 [07:09<03:21, 25.14s/it]"
     ]
    },
    {
     "name": "stdout",
     "output_type": "stream",
     "text": [
      "After epoch: accuracy is 0.348.\n",
      "At iteration 1000 the loss is 2487.136.\n",
      "At iteration 2000 the loss is 3694.627.\n",
      "At iteration 3000 the loss is 4195.375.\n",
      "At iteration 4000 the loss is 7150.179.\n",
      "At iteration 5000 the loss is 5124.474.\n",
      "At iteration 6000 the loss is 5236.883.\n"
     ]
    },
    {
     "name": "stderr",
     "output_type": "stream",
     "text": [
      "Training Epochs:  72%|███████▏  | 18/25 [07:34<02:57, 25.32s/it]"
     ]
    },
    {
     "name": "stdout",
     "output_type": "stream",
     "text": [
      "After epoch: accuracy is 0.232.\n",
      "At iteration 1000 the loss is 2072.581.\n",
      "At iteration 2000 the loss is 4694.188.\n",
      "At iteration 3000 the loss is 6010.726.\n",
      "At iteration 4000 the loss is 4213.873.\n",
      "At iteration 5000 the loss is 3979.716.\n",
      "At iteration 6000 the loss is 1683.282.\n"
     ]
    },
    {
     "name": "stderr",
     "output_type": "stream",
     "text": [
      "Training Epochs:  76%|███████▌  | 19/25 [08:00<02:31, 25.31s/it]"
     ]
    },
    {
     "name": "stdout",
     "output_type": "stream",
     "text": [
      "After epoch: accuracy is 0.548.\n",
      "At iteration 1000 the loss is 1096.287.\n",
      "At iteration 2000 the loss is 1539.475.\n",
      "At iteration 3000 the loss is 4674.603.\n",
      "At iteration 4000 the loss is 6889.059.\n",
      "At iteration 5000 the loss is 9575.932.\n",
      "At iteration 6000 the loss is 7794.489.\n"
     ]
    },
    {
     "name": "stderr",
     "output_type": "stream",
     "text": [
      "Training Epochs:  80%|████████  | 20/25 [08:26<02:07, 25.50s/it]"
     ]
    },
    {
     "name": "stdout",
     "output_type": "stream",
     "text": [
      "After epoch: accuracy is 0.316.\n",
      "At iteration 1000 the loss is 2354.300.\n",
      "At iteration 2000 the loss is 3330.622.\n",
      "At iteration 3000 the loss is 6704.625.\n",
      "At iteration 4000 the loss is 1825.506.\n",
      "At iteration 5000 the loss is 4530.166.\n",
      "At iteration 6000 the loss is 3590.310.\n"
     ]
    },
    {
     "name": "stderr",
     "output_type": "stream",
     "text": [
      "Training Epochs:  84%|████████▍ | 21/25 [08:52<01:42, 25.69s/it]"
     ]
    },
    {
     "name": "stdout",
     "output_type": "stream",
     "text": [
      "After epoch: accuracy is 0.623.\n",
      "At iteration 1000 the loss is 9554.589.\n",
      "At iteration 2000 the loss is 4385.892.\n",
      "At iteration 3000 the loss is 5740.080.\n",
      "At iteration 4000 the loss is 3037.000.\n",
      "At iteration 5000 the loss is 5909.433.\n",
      "At iteration 6000 the loss is 6853.420.\n"
     ]
    },
    {
     "name": "stderr",
     "output_type": "stream",
     "text": [
      "Training Epochs:  88%|████████▊ | 22/25 [09:16<01:16, 25.34s/it]"
     ]
    },
    {
     "name": "stdout",
     "output_type": "stream",
     "text": [
      "After epoch: accuracy is 0.561.\n",
      "At iteration 1000 the loss is 4647.303.\n",
      "At iteration 2000 the loss is 1574.293.\n",
      "At iteration 3000 the loss is 2373.746.\n",
      "At iteration 4000 the loss is 2961.872.\n",
      "At iteration 5000 the loss is 7511.336.\n",
      "At iteration 6000 the loss is 2350.047.\n"
     ]
    },
    {
     "name": "stderr",
     "output_type": "stream",
     "text": [
      "Training Epochs:  92%|█████████▏| 23/25 [09:42<00:50, 25.43s/it]"
     ]
    },
    {
     "name": "stdout",
     "output_type": "stream",
     "text": [
      "After epoch: accuracy is 0.478.\n",
      "At iteration 1000 the loss is 2191.414.\n",
      "At iteration 2000 the loss is 2572.002.\n",
      "At iteration 3000 the loss is 6568.485.\n",
      "At iteration 4000 the loss is 3744.406.\n",
      "At iteration 5000 the loss is 2971.447.\n",
      "At iteration 6000 the loss is 4659.169.\n"
     ]
    },
    {
     "name": "stderr",
     "output_type": "stream",
     "text": [
      "Training Epochs:  96%|█████████▌| 24/25 [10:06<00:24, 24.94s/it]"
     ]
    },
    {
     "name": "stdout",
     "output_type": "stream",
     "text": [
      "After epoch: accuracy is 0.549.\n",
      "At iteration 1000 the loss is 2735.828.\n",
      "At iteration 2000 the loss is 3131.365.\n",
      "At iteration 3000 the loss is 3627.634.\n",
      "At iteration 4000 the loss is 4044.407.\n",
      "At iteration 5000 the loss is 3449.353.\n",
      "At iteration 6000 the loss is 5404.899.\n"
     ]
    },
    {
     "name": "stderr",
     "output_type": "stream",
     "text": [
      "Training Epochs: 100%|██████████| 25/25 [10:30<00:00, 25.21s/it]"
     ]
    },
    {
     "name": "stdout",
     "output_type": "stream",
     "text": [
      "After epoch: accuracy is 0.622.\n"
     ]
    },
    {
     "name": "stderr",
     "output_type": "stream",
     "text": [
      "\n"
     ]
    }
   ],
   "source": [
    "# Load dataset\n",
    "dataset = baseline_logistic.FullyIndependentDataset(\n",
    "    \"../data/processed/npz/planet/1700_3100_13_13N/2018-01-01.npz\",\n",
    "    \"../data/processed/npz/labels/1700_3100_13_13N/2018-01-01.npz\"\n",
    ")\n",
    "\n",
    "# dataset = baseline_logistic.FullyIndependentDataset(\n",
    "#     \"../data/processed/npz/planet/2697_3715_13_20N/2018-01-01.npz\",\n",
    "#     \"../data/processed/npz/labels/2697_3715_13_20N/2018-01-01.npz\"\n",
    "# )\n",
    "\n",
    "# Split into training and test\n",
    "train_size = int(0.8 * len(dataset))\n",
    "test_size = len(dataset) - train_size\n",
    "train_set, test_set = random_split(dataset, [train_size, test_size])\n",
    "\n",
    "# Dataloaders\n",
    "train_loader = DataLoader(train_set, batch_size=128, shuffle=True)\n",
    "test_loader = DataLoader(test_set, batch_size=512, shuffle=False)\n",
    "\n",
    "model, accuracies = baseline_logistic.train_logstic(train_loader, test_loader, epochs=25)\n"
   ]
  },
  {
   "cell_type": "code",
   "execution_count": 8,
   "metadata": {},
   "outputs": [
    {
     "name": "stderr",
     "output_type": "stream",
     "text": [
      "<ipython-input-8-61ec864249e8>:4: UserWarning: Implicit dimension choice for softmax has been deprecated. Change the call to include dim=X as an argument.\n",
      "  test_pred = torch.argmax(sm(test_pred), axis = 1)\n"
     ]
    },
    {
     "data": {
      "text/plain": [
       "torch.Size([1048576])"
      ]
     },
     "execution_count": 8,
     "metadata": {},
     "output_type": "execute_result"
    }
   ],
   "source": [
    "#final confusion\n",
    "sm = torch.nn.Softmax()\n",
    "test_pred = model(test_set.dataset.X).detach()\n",
    "test_pred = torch.argmax(sm(test_pred), axis = 1)\n",
    "test_pred.shape"
   ]
  },
  {
   "cell_type": "code",
   "execution_count": 9,
   "metadata": {},
   "outputs": [],
   "source": [
    "test_target = test_set.dataset.y.detach().shape\n",
    "conf = confusion_matrix(\n",
    "    test_pred,\n",
    "    test_set.dataset.y.detach(),\n",
    "    normalize='true',\n",
    "    labels=np.arange(0,6)\n",
    ")"
   ]
  },
  {
   "cell_type": "code",
   "execution_count": 10,
   "metadata": {},
   "outputs": [],
   "source": [
    "annot = (conf*100).astype(int).astype(str)"
   ]
  },
  {
   "cell_type": "code",
   "execution_count": 11,
   "metadata": {},
   "outputs": [
    {
     "data": {
      "text/plain": [
       "Text(73.0, 0.5, 'Prediction')"
      ]
     },
     "execution_count": 11,
     "metadata": {},
     "output_type": "execute_result"
    },
    {
     "data": {
      "image/png": "[encoded data removed]",
      "text/plain": [
       "<Figure size 864x720 with 2 Axes>"
      ]
     },
     "metadata": {
      "needs_background": "light"
     },
     "output_type": "display_data"
    }
   ],
   "source": [
    "import matplotlib.pyplot as plt\n",
    "plt.rcParams[\"figure.figsize\"] = (12,10)\n",
    "font = {'size'   : 24}\n",
    "plt.rc('font', **font)\n",
    "\n",
    "ax = sns.heatmap(conf, vmin=0, vmax=1, annot=annot, fmt= '',\n",
    "            xticklabels=['imperv', 'agri', 'forest', 'wetland','soil','water','ice'],\n",
    "            yticklabels=['imperv', 'agri', 'forest', 'wetland','soil','water','ice'])\n",
    "cbar = ax.collections[0].colorbar\n",
    "cbar.set_ticks([0, .2, .75, 1])\n",
    "for t in ax.texts: t.set_text(t.get_text() + \"%\")\n",
    "cbar.set_ticklabels(['0%', '20%', '75%', '100%'])\n",
    "\n",
    "ax.set_xlabel('Target')\n",
    "ax.set_ylabel('Prediction')"
   ]
  }
 ],
 "metadata": {
  "interpreter": {
   "hash": "66520dd0b33ddabc308eaad2712b98e74c6cde738d930246cae03389f6b8a959"
  },
  "kernelspec": {
   "display_name": "Python 3.9.2 ('CAPP')",
   "language": "python",
   "name": "python3"
  },
  "language_info": {
   "codemirror_mode": {
    "name": "ipython",
    "version": 3
   },
   "file_extension": ".py",
   "mimetype": "text/x-python",
   "name": "python",
   "nbconvert_exporter": "python",
   "pygments_lexer": "ipython3",
   "version": "3.9.2"
  },
  "orig_nbformat": 4
 },
 "nbformat": 4,
 "nbformat_minor": 2
}
