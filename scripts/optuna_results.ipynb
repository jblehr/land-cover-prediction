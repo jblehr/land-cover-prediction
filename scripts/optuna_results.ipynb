{
 "cells": [
  {
   "cell_type": "code",
   "execution_count": 1,
   "metadata": {},
   "outputs": [],
   "source": [
    "import optuna\n",
    "import plotly"
   ]
  },
  {
   "cell_type": "code",
   "execution_count": 2,
   "metadata": {},
   "outputs": [],
   "source": [
    "peanut = optuna.load_study(\n",
    "    study_name='peanut',\n",
    "    storage='sqlite:////media/nick/Data/GitRepos/land-cover-prediction/output/peanut_optuna.db'\n",
    ")"
   ]
  },
  {
   "cell_type": "code",
   "execution_count": 3,
   "metadata": {},
   "outputs": [
    {
     "data": {
      "text/plain": [
       "{'cell_width_pct': 0.125,\n",
       " 'clip_max_norm': 1.184316464877487,\n",
       " 'conv_kernel_size': 3,\n",
       " 'downsample': True,\n",
       " 'downsample_dim': 64,\n",
       " 'guassian_blur': False,\n",
       " 'layer_0': 32,\n",
       " 'layer_1': 32,\n",
       " 'lr': 0.0005326639774392545,\n",
       " 'momentum': 0.7679114313544549,\n",
       " 'num_layers': 2,\n",
       " 'optim': 'adam'}"
      ]
     },
     "execution_count": 3,
     "metadata": {},
     "output_type": "execute_result"
    }
   ],
   "source": [
    "peanut.best_params"
   ]
  },
  {
   "cell_type": "code",
   "execution_count": 26,
   "metadata": {},
   "outputs": [
    {
     "data": {
      "text/plain": [
       "213"
      ]
     },
     "execution_count": 26,
     "metadata": {},
     "output_type": "execute_result"
    }
   ],
   "source": [
    "len(peanut.trials)"
   ]
  },
  {
   "cell_type": "code",
   "execution_count": 7,
   "metadata": {},
   "outputs": [
    {
     "data": {
      "application/vnd.plotly.v1+json": {
       "config": {
        "plotlyServerURL": "https://plot.ly"
       },
       "data": [
        {
         "cliponaxis": false,
         "hovertemplate": [
          "layer_1 (CategoricalDistribution): 0.26276198414789836<extra></extra>",
          "layer_0 (CategoricalDistribution): 0.7372380158521017<extra></extra>"
         ],
         "marker": {
          "color": "rgb(66,146,198)"
         },
         "orientation": "h",
         "text": [
          "0.26276198414789836",
          "0.7372380158521017"
         ],
         "textposition": "outside",
         "texttemplate": "%{text:.2f}",
         "type": "bar",
         "x": [
          0.26276198414789836,
          0.7372380158521017
         ],
         "y": [
          "layer_1",
          "layer_0"
         ]
        }
       ],
       "layout": {
        "showlegend": false,
        "template": {
         "data": {
          "bar": [
           {
            "error_x": {
             "color": "#2a3f5f"
            },
            "error_y": {
             "color": "#2a3f5f"
            },
            "marker": {
             "line": {
              "color": "#E5ECF6",
              "width": 0.5
             },
             "pattern": {
              "fillmode": "overlay",
              "size": 10,
              "solidity": 0.2
             }
            },
            "type": "bar"
           }
          ],
          "barpolar": [
           {
            "marker": {
             "line": {
              "color": "#E5ECF6",
              "width": 0.5
             },
             "pattern": {
              "fillmode": "overlay",
              "size": 10,
              "solidity": 0.2
             }
            },
            "type": "barpolar"
           }
          ],
          "carpet": [
           {
            "aaxis": {
             "endlinecolor": "#2a3f5f",
             "gridcolor": "white",
             "linecolor": "white",
             "minorgridcolor": "white",
             "startlinecolor": "#2a3f5f"
            },
            "baxis": {
             "endlinecolor": "#2a3f5f",
             "gridcolor": "white",
             "linecolor": "white",
             "minorgridcolor": "white",
             "startlinecolor": "#2a3f5f"
            },
            "type": "carpet"
           }
          ],
          "choropleth": [
           {
            "colorbar": {
             "outlinewidth": 0,
             "ticks": ""
            },
            "type": "choropleth"
           }
          ],
          "contour": [
           {
            "colorbar": {
             "outlinewidth": 0,
             "ticks": ""
            },
            "colorscale": [
             [
              0,
              "#0d0887"
             ],
             [
              0.1111111111111111,
              "#46039f"
             ],
             [
              0.2222222222222222,
              "#7201a8"
             ],
             [
              0.3333333333333333,
              "#9c179e"
             ],
             [
              0.4444444444444444,
              "#bd3786"
             ],
             [
              0.5555555555555556,
              "#d8576b"
             ],
             [
              0.6666666666666666,
              "#ed7953"
             ],
             [
              0.7777777777777778,
              "#fb9f3a"
             ],
             [
              0.8888888888888888,
              "#fdca26"
             ],
             [
              1,
              "#f0f921"
             ]
            ],
            "type": "contour"
           }
          ],
          "contourcarpet": [
           {
            "colorbar": {
             "outlinewidth": 0,
             "ticks": ""
            },
            "type": "contourcarpet"
           }
          ],
          "heatmap": [
           {
            "colorbar": {
             "outlinewidth": 0,
             "ticks": ""
            },
            "colorscale": [
             [
              0,
              "#0d0887"
             ],
             [
              0.1111111111111111,
              "#46039f"
             ],
             [
              0.2222222222222222,
              "#7201a8"
             ],
             [
              0.3333333333333333,
              "#9c179e"
             ],
             [
              0.4444444444444444,
              "#bd3786"
             ],
             [
              0.5555555555555556,
              "#d8576b"
             ],
             [
              0.6666666666666666,
              "#ed7953"
             ],
             [
              0.7777777777777778,
              "#fb9f3a"
             ],
             [
              0.8888888888888888,
              "#fdca26"
             ],
             [
              1,
              "#f0f921"
             ]
            ],
            "type": "heatmap"
           }
          ],
          "heatmapgl": [
           {
            "colorbar": {
             "outlinewidth": 0,
             "ticks": ""
            },
            "colorscale": [
             [
              0,
              "#0d0887"
             ],
             [
              0.1111111111111111,
              "#46039f"
             ],
             [
              0.2222222222222222,
              "#7201a8"
             ],
             [
              0.3333333333333333,
              "#9c179e"
             ],
             [
              0.4444444444444444,
              "#bd3786"
             ],
             [
              0.5555555555555556,
              "#d8576b"
             ],
             [
              0.6666666666666666,
              "#ed7953"
             ],
             [
              0.7777777777777778,
              "#fb9f3a"
             ],
             [
              0.8888888888888888,
              "#fdca26"
             ],
             [
              1,
              "#f0f921"
             ]
            ],
            "type": "heatmapgl"
           }
          ],
          "histogram": [
           {
            "marker": {
             "pattern": {
              "fillmode": "overlay",
              "size": 10,
              "solidity": 0.2
             }
            },
            "type": "histogram"
           }
          ],
          "histogram2d": [
           {
            "colorbar": {
             "outlinewidth": 0,
             "ticks": ""
            },
            "colorscale": [
             [
              0,
              "#0d0887"
             ],
             [
              0.1111111111111111,
              "#46039f"
             ],
             [
              0.2222222222222222,
              "#7201a8"
             ],
             [
              0.3333333333333333,
              "#9c179e"
             ],
             [
              0.4444444444444444,
              "#bd3786"
             ],
             [
              0.5555555555555556,
              "#d8576b"
             ],
             [
              0.6666666666666666,
              "#ed7953"
             ],
             [
              0.7777777777777778,
              "#fb9f3a"
             ],
             [
              0.8888888888888888,
              "#fdca26"
             ],
             [
              1,
              "#f0f921"
             ]
            ],
            "type": "histogram2d"
           }
          ],
          "histogram2dcontour": [
           {
            "colorbar": {
             "outlinewidth": 0,
             "ticks": ""
            },
            "colorscale": [
             [
              0,
              "#0d0887"
             ],
             [
              0.1111111111111111,
              "#46039f"
             ],
             [
              0.2222222222222222,
              "#7201a8"
             ],
             [
              0.3333333333333333,
              "#9c179e"
             ],
             [
              0.4444444444444444,
              "#bd3786"
             ],
             [
              0.5555555555555556,
              "#d8576b"
             ],
             [
              0.6666666666666666,
              "#ed7953"
             ],
             [
              0.7777777777777778,
              "#fb9f3a"
             ],
             [
              0.8888888888888888,
              "#fdca26"
             ],
             [
              1,
              "#f0f921"
             ]
            ],
            "type": "histogram2dcontour"
           }
          ],
          "mesh3d": [
           {
            "colorbar": {
             "outlinewidth": 0,
             "ticks": ""
            },
            "type": "mesh3d"
           }
          ],
          "parcoords": [
           {
            "line": {
             "colorbar": {
              "outlinewidth": 0,
              "ticks": ""
             }
            },
            "type": "parcoords"
           }
          ],
          "pie": [
           {
            "automargin": true,
            "type": "pie"
           }
          ],
          "scatter": [
           {
            "fillpattern": {
             "fillmode": "overlay",
             "size": 10,
             "solidity": 0.2
            },
            "type": "scatter"
           }
          ],
          "scatter3d": [
           {
            "line": {
             "colorbar": {
              "outlinewidth": 0,
              "ticks": ""
             }
            },
            "marker": {
             "colorbar": {
              "outlinewidth": 0,
              "ticks": ""
             }
            },
            "type": "scatter3d"
           }
          ],
          "scattercarpet": [
           {
            "marker": {
             "colorbar": {
              "outlinewidth": 0,
              "ticks": ""
             }
            },
            "type": "scattercarpet"
           }
          ],
          "scattergeo": [
           {
            "marker": {
             "colorbar": {
              "outlinewidth": 0,
              "ticks": ""
             }
            },
            "type": "scattergeo"
           }
          ],
          "scattergl": [
           {
            "marker": {
             "colorbar": {
              "outlinewidth": 0,
              "ticks": ""
             }
            },
            "type": "scattergl"
           }
          ],
          "scattermapbox": [
           {
            "marker": {
             "colorbar": {
              "outlinewidth": 0,
              "ticks": ""
             }
            },
            "type": "scattermapbox"
           }
          ],
          "scatterpolar": [
           {
            "marker": {
             "colorbar": {
              "outlinewidth": 0,
              "ticks": ""
             }
            },
            "type": "scatterpolar"
           }
          ],
          "scatterpolargl": [
           {
            "marker": {
             "colorbar": {
              "outlinewidth": 0,
              "ticks": ""
             }
            },
            "type": "scatterpolargl"
           }
          ],
          "scatterternary": [
           {
            "marker": {
             "colorbar": {
              "outlinewidth": 0,
              "ticks": ""
             }
            },
            "type": "scatterternary"
           }
          ],
          "surface": [
           {
            "colorbar": {
             "outlinewidth": 0,
             "ticks": ""
            },
            "colorscale": [
             [
              0,
              "#0d0887"
             ],
             [
              0.1111111111111111,
              "#46039f"
             ],
             [
              0.2222222222222222,
              "#7201a8"
             ],
             [
              0.3333333333333333,
              "#9c179e"
             ],
             [
              0.4444444444444444,
              "#bd3786"
             ],
             [
              0.5555555555555556,
              "#d8576b"
             ],
             [
              0.6666666666666666,
              "#ed7953"
             ],
             [
              0.7777777777777778,
              "#fb9f3a"
             ],
             [
              0.8888888888888888,
              "#fdca26"
             ],
             [
              1,
              "#f0f921"
             ]
            ],
            "type": "surface"
           }
          ],
          "table": [
           {
            "cells": {
             "fill": {
              "color": "#EBF0F8"
             },
             "line": {
              "color": "white"
             }
            },
            "header": {
             "fill": {
              "color": "#C8D4E3"
             },
             "line": {
              "color": "white"
             }
            },
            "type": "table"
           }
          ]
         },
         "layout": {
          "annotationdefaults": {
           "arrowcolor": "#2a3f5f",
           "arrowhead": 0,
           "arrowwidth": 1
          },
          "autotypenumbers": "strict",
          "coloraxis": {
           "colorbar": {
            "outlinewidth": 0,
            "ticks": ""
           }
          },
          "colorscale": {
           "diverging": [
            [
             0,
             "#8e0152"
            ],
            [
             0.1,
             "#c51b7d"
            ],
            [
             0.2,
             "#de77ae"
            ],
            [
             0.3,
             "#f1b6da"
            ],
            [
             0.4,
             "#fde0ef"
            ],
            [
             0.5,
             "#f7f7f7"
            ],
            [
             0.6,
             "#e6f5d0"
            ],
            [
             0.7,
             "#b8e186"
            ],
            [
             0.8,
             "#7fbc41"
            ],
            [
             0.9,
             "#4d9221"
            ],
            [
             1,
             "#276419"
            ]
           ],
           "sequential": [
            [
             0,
             "#0d0887"
            ],
            [
             0.1111111111111111,
             "#46039f"
            ],
            [
             0.2222222222222222,
             "#7201a8"
            ],
            [
             0.3333333333333333,
             "#9c179e"
            ],
            [
             0.4444444444444444,
             "#bd3786"
            ],
            [
             0.5555555555555556,
             "#d8576b"
            ],
            [
             0.6666666666666666,
             "#ed7953"
            ],
            [
             0.7777777777777778,
             "#fb9f3a"
            ],
            [
             0.8888888888888888,
             "#fdca26"
            ],
            [
             1,
             "#f0f921"
            ]
           ],
           "sequentialminus": [
            [
             0,
             "#0d0887"
            ],
            [
             0.1111111111111111,
             "#46039f"
            ],
            [
             0.2222222222222222,
             "#7201a8"
            ],
            [
             0.3333333333333333,
             "#9c179e"
            ],
            [
             0.4444444444444444,
             "#bd3786"
            ],
            [
             0.5555555555555556,
             "#d8576b"
            ],
            [
             0.6666666666666666,
             "#ed7953"
            ],
            [
             0.7777777777777778,
             "#fb9f3a"
            ],
            [
             0.8888888888888888,
             "#fdca26"
            ],
            [
             1,
             "#f0f921"
            ]
           ]
          },
          "colorway": [
           "#636efa",
           "#EF553B",
           "#00cc96",
           "#ab63fa",
           "#FFA15A",
           "#19d3f3",
           "#FF6692",
           "#B6E880",
           "#FF97FF",
           "#FECB52"
          ],
          "font": {
           "color": "#2a3f5f"
          },
          "geo": {
           "bgcolor": "white",
           "lakecolor": "white",
           "landcolor": "#E5ECF6",
           "showlakes": true,
           "showland": true,
           "subunitcolor": "white"
          },
          "hoverlabel": {
           "align": "left"
          },
          "hovermode": "closest",
          "mapbox": {
           "style": "light"
          },
          "paper_bgcolor": "white",
          "plot_bgcolor": "#E5ECF6",
          "polar": {
           "angularaxis": {
            "gridcolor": "white",
            "linecolor": "white",
            "ticks": ""
           },
           "bgcolor": "#E5ECF6",
           "radialaxis": {
            "gridcolor": "white",
            "linecolor": "white",
            "ticks": ""
           }
          },
          "scene": {
           "xaxis": {
            "backgroundcolor": "#E5ECF6",
            "gridcolor": "white",
            "gridwidth": 2,
            "linecolor": "white",
            "showbackground": true,
            "ticks": "",
            "zerolinecolor": "white"
           },
           "yaxis": {
            "backgroundcolor": "#E5ECF6",
            "gridcolor": "white",
            "gridwidth": 2,
            "linecolor": "white",
            "showbackground": true,
            "ticks": "",
            "zerolinecolor": "white"
           },
           "zaxis": {
            "backgroundcolor": "#E5ECF6",
            "gridcolor": "white",
            "gridwidth": 2,
            "linecolor": "white",
            "showbackground": true,
            "ticks": "",
            "zerolinecolor": "white"
           }
          },
          "shapedefaults": {
           "line": {
            "color": "#2a3f5f"
           }
          },
          "ternary": {
           "aaxis": {
            "gridcolor": "white",
            "linecolor": "white",
            "ticks": ""
           },
           "baxis": {
            "gridcolor": "white",
            "linecolor": "white",
            "ticks": ""
           },
           "bgcolor": "#E5ECF6",
           "caxis": {
            "gridcolor": "white",
            "linecolor": "white",
            "ticks": ""
           }
          },
          "title": {
           "x": 0.05
          },
          "xaxis": {
           "automargin": true,
           "gridcolor": "white",
           "linecolor": "white",
           "ticks": "",
           "title": {
            "standoff": 15
           },
           "zerolinecolor": "white",
           "zerolinewidth": 2
          },
          "yaxis": {
           "automargin": true,
           "gridcolor": "white",
           "linecolor": "white",
           "ticks": "",
           "title": {
            "standoff": 15
           },
           "zerolinecolor": "white",
           "zerolinewidth": 2
          }
         }
        },
        "title": {
         "text": "Hyperparameter Importances"
        },
        "xaxis": {
         "title": {
          "text": "Importance for Objective Value"
         }
        },
        "yaxis": {
         "title": {
          "text": "Hyperparameter"
         }
        }
       }
      }
     },
     "metadata": {},
     "output_type": "display_data"
    }
   ],
   "source": [
    "fig = optuna.visualization.plot_param_importances(peanut, params = ['layer_0', 'layer_1'])\n",
    "fig.show()\n"
   ]
  },
  {
   "cell_type": "code",
   "execution_count": 8,
   "metadata": {},
   "outputs": [
    {
     "data": {
      "application/vnd.plotly.v1+json": {
       "config": {
        "plotlyServerURL": "https://plot.ly"
       },
       "data": [
        {
         "cliponaxis": false,
         "hovertemplate": [
          "guassian_blur (CategoricalDistribution): 0.0007579660145029156<extra></extra>",
          "momentum (UniformDistribution): 0.004423832203860944<extra></extra>",
          "num_layers (IntUniformDistribution): 0.017736327342028416<extra></extra>",
          "downsample (CategoricalDistribution): 0.018148018891154482<extra></extra>",
          "clip_max_norm (UniformDistribution): 0.05410499423304802<extra></extra>",
          "cell_width_pct (CategoricalDistribution): 0.06791281394461533<extra></extra>",
          "conv_kernel_size (IntUniformDistribution): 0.0819436943610168<extra></extra>",
          "optim (CategoricalDistribution): 0.09330472305815954<extra></extra>",
          "lr (LogUniformDistribution): 0.10682093478742244<extra></extra>",
          "layer_0 (CategoricalDistribution): 0.554846695164191<extra></extra>"
         ],
         "marker": {
          "color": "rgb(66,146,198)"
         },
         "orientation": "h",
         "text": [
          "0.0007579660145029156",
          "0.004423832203860944",
          "0.017736327342028416",
          "0.018148018891154482",
          "0.05410499423304802",
          "0.06791281394461533",
          "0.0819436943610168",
          "0.09330472305815954",
          "0.10682093478742244",
          "0.554846695164191"
         ],
         "textposition": "outside",
         "texttemplate": "%{text:.2f}",
         "type": "bar",
         "x": [
          0.0007579660145029156,
          0.004423832203860944,
          0.017736327342028416,
          0.018148018891154482,
          0.05410499423304802,
          0.06791281394461533,
          0.0819436943610168,
          0.09330472305815954,
          0.10682093478742244,
          0.554846695164191
         ],
         "y": [
          "guassian_blur",
          "momentum",
          "num_layers",
          "downsample",
          "clip_max_norm",
          "cell_width_pct",
          "conv_kernel_size",
          "optim",
          "lr",
          "layer_0"
         ]
        }
       ],
       "layout": {
        "showlegend": false,
        "template": {
         "data": {
          "bar": [
           {
            "error_x": {
             "color": "#2a3f5f"
            },
            "error_y": {
             "color": "#2a3f5f"
            },
            "marker": {
             "line": {
              "color": "#E5ECF6",
              "width": 0.5
             },
             "pattern": {
              "fillmode": "overlay",
              "size": 10,
              "solidity": 0.2
             }
            },
            "type": "bar"
           }
          ],
          "barpolar": [
           {
            "marker": {
             "line": {
              "color": "#E5ECF6",
              "width": 0.5
             },
             "pattern": {
              "fillmode": "overlay",
              "size": 10,
              "solidity": 0.2
             }
            },
            "type": "barpolar"
           }
          ],
          "carpet": [
           {
            "aaxis": {
             "endlinecolor": "#2a3f5f",
             "gridcolor": "white",
             "linecolor": "white",
             "minorgridcolor": "white",
             "startlinecolor": "#2a3f5f"
            },
            "baxis": {
             "endlinecolor": "#2a3f5f",
             "gridcolor": "white",
             "linecolor": "white",
             "minorgridcolor": "white",
             "startlinecolor": "#2a3f5f"
            },
            "type": "carpet"
           }
          ],
          "choropleth": [
           {
            "colorbar": {
             "outlinewidth": 0,
             "ticks": ""
            },
            "type": "choropleth"
           }
          ],
          "contour": [
           {
            "colorbar": {
             "outlinewidth": 0,
             "ticks": ""
            },
            "colorscale": [
             [
              0,
              "#0d0887"
             ],
             [
              0.1111111111111111,
              "#46039f"
             ],
             [
              0.2222222222222222,
              "#7201a8"
             ],
             [
              0.3333333333333333,
              "#9c179e"
             ],
             [
              0.4444444444444444,
              "#bd3786"
             ],
             [
              0.5555555555555556,
              "#d8576b"
             ],
             [
              0.6666666666666666,
              "#ed7953"
             ],
             [
              0.7777777777777778,
              "#fb9f3a"
             ],
             [
              0.8888888888888888,
              "#fdca26"
             ],
             [
              1,
              "#f0f921"
             ]
            ],
            "type": "contour"
           }
          ],
          "contourcarpet": [
           {
            "colorbar": {
             "outlinewidth": 0,
             "ticks": ""
            },
            "type": "contourcarpet"
           }
          ],
          "heatmap": [
           {
            "colorbar": {
             "outlinewidth": 0,
             "ticks": ""
            },
            "colorscale": [
             [
              0,
              "#0d0887"
             ],
             [
              0.1111111111111111,
              "#46039f"
             ],
             [
              0.2222222222222222,
              "#7201a8"
             ],
             [
              0.3333333333333333,
              "#9c179e"
             ],
             [
              0.4444444444444444,
              "#bd3786"
             ],
             [
              0.5555555555555556,
              "#d8576b"
             ],
             [
              0.6666666666666666,
              "#ed7953"
             ],
             [
              0.7777777777777778,
              "#fb9f3a"
             ],
             [
              0.8888888888888888,
              "#fdca26"
             ],
             [
              1,
              "#f0f921"
             ]
            ],
            "type": "heatmap"
           }
          ],
          "heatmapgl": [
           {
            "colorbar": {
             "outlinewidth": 0,
             "ticks": ""
            },
            "colorscale": [
             [
              0,
              "#0d0887"
             ],
             [
              0.1111111111111111,
              "#46039f"
             ],
             [
              0.2222222222222222,
              "#7201a8"
             ],
             [
              0.3333333333333333,
              "#9c179e"
             ],
             [
              0.4444444444444444,
              "#bd3786"
             ],
             [
              0.5555555555555556,
              "#d8576b"
             ],
             [
              0.6666666666666666,
              "#ed7953"
             ],
             [
              0.7777777777777778,
              "#fb9f3a"
             ],
             [
              0.8888888888888888,
              "#fdca26"
             ],
             [
              1,
              "#f0f921"
             ]
            ],
            "type": "heatmapgl"
           }
          ],
          "histogram": [
           {
            "marker": {
             "pattern": {
              "fillmode": "overlay",
              "size": 10,
              "solidity": 0.2
             }
            },
            "type": "histogram"
           }
          ],
          "histogram2d": [
           {
            "colorbar": {
             "outlinewidth": 0,
             "ticks": ""
            },
            "colorscale": [
             [
              0,
              "#0d0887"
             ],
             [
              0.1111111111111111,
              "#46039f"
             ],
             [
              0.2222222222222222,
              "#7201a8"
             ],
             [
              0.3333333333333333,
              "#9c179e"
             ],
             [
              0.4444444444444444,
              "#bd3786"
             ],
             [
              0.5555555555555556,
              "#d8576b"
             ],
             [
              0.6666666666666666,
              "#ed7953"
             ],
             [
              0.7777777777777778,
              "#fb9f3a"
             ],
             [
              0.8888888888888888,
              "#fdca26"
             ],
             [
              1,
              "#f0f921"
             ]
            ],
            "type": "histogram2d"
           }
          ],
          "histogram2dcontour": [
           {
            "colorbar": {
             "outlinewidth": 0,
             "ticks": ""
            },
            "colorscale": [
             [
              0,
              "#0d0887"
             ],
             [
              0.1111111111111111,
              "#46039f"
             ],
             [
              0.2222222222222222,
              "#7201a8"
             ],
             [
              0.3333333333333333,
              "#9c179e"
             ],
             [
              0.4444444444444444,
              "#bd3786"
             ],
             [
              0.5555555555555556,
              "#d8576b"
             ],
             [
              0.6666666666666666,
              "#ed7953"
             ],
             [
              0.7777777777777778,
              "#fb9f3a"
             ],
             [
              0.8888888888888888,
              "#fdca26"
             ],
             [
              1,
              "#f0f921"
             ]
            ],
            "type": "histogram2dcontour"
           }
          ],
          "mesh3d": [
           {
            "colorbar": {
             "outlinewidth": 0,
             "ticks": ""
            },
            "type": "mesh3d"
           }
          ],
          "parcoords": [
           {
            "line": {
             "colorbar": {
              "outlinewidth": 0,
              "ticks": ""
             }
            },
            "type": "parcoords"
           }
          ],
          "pie": [
           {
            "automargin": true,
            "type": "pie"
           }
          ],
          "scatter": [
           {
            "fillpattern": {
             "fillmode": "overlay",
             "size": 10,
             "solidity": 0.2
            },
            "type": "scatter"
           }
          ],
          "scatter3d": [
           {
            "line": {
             "colorbar": {
              "outlinewidth": 0,
              "ticks": ""
             }
            },
            "marker": {
             "colorbar": {
              "outlinewidth": 0,
              "ticks": ""
             }
            },
            "type": "scatter3d"
           }
          ],
          "scattercarpet": [
           {
            "marker": {
             "colorbar": {
              "outlinewidth": 0,
              "ticks": ""
             }
            },
            "type": "scattercarpet"
           }
          ],
          "scattergeo": [
           {
            "marker": {
             "colorbar": {
              "outlinewidth": 0,
              "ticks": ""
             }
            },
            "type": "scattergeo"
           }
          ],
          "scattergl": [
           {
            "marker": {
             "colorbar": {
              "outlinewidth": 0,
              "ticks": ""
             }
            },
            "type": "scattergl"
           }
          ],
          "scattermapbox": [
           {
            "marker": {
             "colorbar": {
              "outlinewidth": 0,
              "ticks": ""
             }
            },
            "type": "scattermapbox"
           }
          ],
          "scatterpolar": [
           {
            "marker": {
             "colorbar": {
              "outlinewidth": 0,
              "ticks": ""
             }
            },
            "type": "scatterpolar"
           }
          ],
          "scatterpolargl": [
           {
            "marker": {
             "colorbar": {
              "outlinewidth": 0,
              "ticks": ""
             }
            },
            "type": "scatterpolargl"
           }
          ],
          "scatterternary": [
           {
            "marker": {
             "colorbar": {
              "outlinewidth": 0,
              "ticks": ""
             }
            },
            "type": "scatterternary"
           }
          ],
          "surface": [
           {
            "colorbar": {
             "outlinewidth": 0,
             "ticks": ""
            },
            "colorscale": [
             [
              0,
              "#0d0887"
             ],
             [
              0.1111111111111111,
              "#46039f"
             ],
             [
              0.2222222222222222,
              "#7201a8"
             ],
             [
              0.3333333333333333,
              "#9c179e"
             ],
             [
              0.4444444444444444,
              "#bd3786"
             ],
             [
              0.5555555555555556,
              "#d8576b"
             ],
             [
              0.6666666666666666,
              "#ed7953"
             ],
             [
              0.7777777777777778,
              "#fb9f3a"
             ],
             [
              0.8888888888888888,
              "#fdca26"
             ],
             [
              1,
              "#f0f921"
             ]
            ],
            "type": "surface"
           }
          ],
          "table": [
           {
            "cells": {
             "fill": {
              "color": "#EBF0F8"
             },
             "line": {
              "color": "white"
             }
            },
            "header": {
             "fill": {
              "color": "#C8D4E3"
             },
             "line": {
              "color": "white"
             }
            },
            "type": "table"
           }
          ]
         },
         "layout": {
          "annotationdefaults": {
           "arrowcolor": "#2a3f5f",
           "arrowhead": 0,
           "arrowwidth": 1
          },
          "autotypenumbers": "strict",
          "coloraxis": {
           "colorbar": {
            "outlinewidth": 0,
            "ticks": ""
           }
          },
          "colorscale": {
           "diverging": [
            [
             0,
             "#8e0152"
            ],
            [
             0.1,
             "#c51b7d"
            ],
            [
             0.2,
             "#de77ae"
            ],
            [
             0.3,
             "#f1b6da"
            ],
            [
             0.4,
             "#fde0ef"
            ],
            [
             0.5,
             "#f7f7f7"
            ],
            [
             0.6,
             "#e6f5d0"
            ],
            [
             0.7,
             "#b8e186"
            ],
            [
             0.8,
             "#7fbc41"
            ],
            [
             0.9,
             "#4d9221"
            ],
            [
             1,
             "#276419"
            ]
           ],
           "sequential": [
            [
             0,
             "#0d0887"
            ],
            [
             0.1111111111111111,
             "#46039f"
            ],
            [
             0.2222222222222222,
             "#7201a8"
            ],
            [
             0.3333333333333333,
             "#9c179e"
            ],
            [
             0.4444444444444444,
             "#bd3786"
            ],
            [
             0.5555555555555556,
             "#d8576b"
            ],
            [
             0.6666666666666666,
             "#ed7953"
            ],
            [
             0.7777777777777778,
             "#fb9f3a"
            ],
            [
             0.8888888888888888,
             "#fdca26"
            ],
            [
             1,
             "#f0f921"
            ]
           ],
           "sequentialminus": [
            [
             0,
             "#0d0887"
            ],
            [
             0.1111111111111111,
             "#46039f"
            ],
            [
             0.2222222222222222,
             "#7201a8"
            ],
            [
             0.3333333333333333,
             "#9c179e"
            ],
            [
             0.4444444444444444,
             "#bd3786"
            ],
            [
             0.5555555555555556,
             "#d8576b"
            ],
            [
             0.6666666666666666,
             "#ed7953"
            ],
            [
             0.7777777777777778,
             "#fb9f3a"
            ],
            [
             0.8888888888888888,
             "#fdca26"
            ],
            [
             1,
             "#f0f921"
            ]
           ]
          },
          "colorway": [
           "#636efa",
           "#EF553B",
           "#00cc96",
           "#ab63fa",
           "#FFA15A",
           "#19d3f3",
           "#FF6692",
           "#B6E880",
           "#FF97FF",
           "#FECB52"
          ],
          "font": {
           "color": "#2a3f5f"
          },
          "geo": {
           "bgcolor": "white",
           "lakecolor": "white",
           "landcolor": "#E5ECF6",
           "showlakes": true,
           "showland": true,
           "subunitcolor": "white"
          },
          "hoverlabel": {
           "align": "left"
          },
          "hovermode": "closest",
          "mapbox": {
           "style": "light"
          },
          "paper_bgcolor": "white",
          "plot_bgcolor": "#E5ECF6",
          "polar": {
           "angularaxis": {
            "gridcolor": "white",
            "linecolor": "white",
            "ticks": ""
           },
           "bgcolor": "#E5ECF6",
           "radialaxis": {
            "gridcolor": "white",
            "linecolor": "white",
            "ticks": ""
           }
          },
          "scene": {
           "xaxis": {
            "backgroundcolor": "#E5ECF6",
            "gridcolor": "white",
            "gridwidth": 2,
            "linecolor": "white",
            "showbackground": true,
            "ticks": "",
            "zerolinecolor": "white"
           },
           "yaxis": {
            "backgroundcolor": "#E5ECF6",
            "gridcolor": "white",
            "gridwidth": 2,
            "linecolor": "white",
            "showbackground": true,
            "ticks": "",
            "zerolinecolor": "white"
           },
           "zaxis": {
            "backgroundcolor": "#E5ECF6",
            "gridcolor": "white",
            "gridwidth": 2,
            "linecolor": "white",
            "showbackground": true,
            "ticks": "",
            "zerolinecolor": "white"
           }
          },
          "shapedefaults": {
           "line": {
            "color": "#2a3f5f"
           }
          },
          "ternary": {
           "aaxis": {
            "gridcolor": "white",
            "linecolor": "white",
            "ticks": ""
           },
           "baxis": {
            "gridcolor": "white",
            "linecolor": "white",
            "ticks": ""
           },
           "bgcolor": "#E5ECF6",
           "caxis": {
            "gridcolor": "white",
            "linecolor": "white",
            "ticks": ""
           }
          },
          "title": {
           "x": 0.05
          },
          "xaxis": {
           "automargin": true,
           "gridcolor": "white",
           "linecolor": "white",
           "ticks": "",
           "title": {
            "standoff": 15
           },
           "zerolinecolor": "white",
           "zerolinewidth": 2
          },
          "yaxis": {
           "automargin": true,
           "gridcolor": "white",
           "linecolor": "white",
           "ticks": "",
           "title": {
            "standoff": 15
           },
           "zerolinecolor": "white",
           "zerolinewidth": 2
          }
         }
        },
        "title": {
         "text": "Hyperparameter Importances"
        },
        "xaxis": {
         "title": {
          "text": "Importance for Objective Value"
         }
        },
        "yaxis": {
         "title": {
          "text": "Hyperparameter"
         }
        }
       }
      }
     },
     "metadata": {},
     "output_type": "display_data"
    }
   ],
   "source": [
    "fig = optuna.visualization.plot_param_importances(peanut)\n",
    "fig.show()\n"
   ]
  },
  {
   "cell_type": "code",
   "execution_count": 9,
   "metadata": {},
   "outputs": [
    {
     "data": {
      "application/vnd.plotly.v1+json": {
       "config": {
        "plotlyServerURL": "https://plot.ly"
       },
       "data": [
        {
         "mode": "markers",
         "name": "Objective Value",
         "type": "scatter",
         "x": [
          7,
          8,
          16,
          18,
          22,
          23,
          24,
          26,
          27,
          28,
          38,
          48,
          49,
          50,
          53,
          60,
          76,
          77,
          79,
          80,
          83,
          84,
          85,
          91,
          93,
          96,
          100,
          101,
          128,
          131,
          132,
          133,
          139,
          142,
          143,
          148,
          173,
          177,
          178,
          180,
          182,
          184,
          185,
          186,
          187,
          189,
          193
         ],
         "y": [
          1.812164545059204,
          1.9857855439186096,
          1.4399656738553728,
          0.9873409952436175,
          1.7214326858520508,
          0.616194739405598,
          1.188650471823556,
          0.8168594177280154,
          1.1352876041616713,
          1.1398512039865767,
          0.7569529925073896,
          0.9585012452942985,
          0.9695310039179665,
          0.946243724652699,
          0.958675035408565,
          1.009617188147136,
          0.9599842344011579,
          0.8376542414937701,
          0.9108065153871264,
          0.8665897782359805,
          0.8809834399393627,
          0.8871953849281583,
          0.7621744785990033,
          0.8735854838575635,
          0.9237974115780422,
          0.7840889607157026,
          0.7749790166105542,
          0.7750482559204102,
          0.7765713823693139,
          0.8394670358725956,
          0.9472435755389077,
          0.8710245277200427,
          0.7099234653370721,
          0.8147427375827517,
          0.8638606135334287,
          0.771658392889159,
          0.9019172745091575,
          0.8942599360431943,
          0.795051885502679,
          0.8417665979691914,
          0.8310656504971641,
          0.8437832338469369,
          0.7632385939359665,
          0.7706189453601837,
          0.6901945216315133,
          0.727678697024073,
          0.8120741077831813
         ]
        },
        {
         "name": "Best Value",
         "type": "scatter",
         "x": [
          7,
          8,
          16,
          18,
          22,
          23,
          24,
          26,
          27,
          28,
          38,
          48,
          49,
          50,
          53,
          60,
          76,
          77,
          79,
          80,
          83,
          84,
          85,
          91,
          93,
          96,
          100,
          101,
          128,
          131,
          132,
          133,
          139,
          142,
          143,
          148,
          173,
          177,
          178,
          180,
          182,
          184,
          185,
          186,
          187,
          189,
          193
         ],
         "y": [
          1.812164545059204,
          1.812164545059204,
          1.4399656738553728,
          0.9873409952436175,
          0.9873409952436175,
          0.616194739405598,
          0.616194739405598,
          0.616194739405598,
          0.616194739405598,
          0.616194739405598,
          0.616194739405598,
          0.616194739405598,
          0.616194739405598,
          0.616194739405598,
          0.616194739405598,
          0.616194739405598,
          0.616194739405598,
          0.616194739405598,
          0.616194739405598,
          0.616194739405598,
          0.616194739405598,
          0.616194739405598,
          0.616194739405598,
          0.616194739405598,
          0.616194739405598,
          0.616194739405598,
          0.616194739405598,
          0.616194739405598,
          0.616194739405598,
          0.616194739405598,
          0.616194739405598,
          0.616194739405598,
          0.616194739405598,
          0.616194739405598,
          0.616194739405598,
          0.616194739405598,
          0.616194739405598,
          0.616194739405598,
          0.616194739405598,
          0.616194739405598,
          0.616194739405598,
          0.616194739405598,
          0.616194739405598,
          0.616194739405598,
          0.616194739405598,
          0.616194739405598,
          0.616194739405598
         ]
        }
       ],
       "layout": {
        "template": {
         "data": {
          "bar": [
           {
            "error_x": {
             "color": "#2a3f5f"
            },
            "error_y": {
             "color": "#2a3f5f"
            },
            "marker": {
             "line": {
              "color": "#E5ECF6",
              "width": 0.5
             },
             "pattern": {
              "fillmode": "overlay",
              "size": 10,
              "solidity": 0.2
             }
            },
            "type": "bar"
           }
          ],
          "barpolar": [
           {
            "marker": {
             "line": {
              "color": "#E5ECF6",
              "width": 0.5
             },
             "pattern": {
              "fillmode": "overlay",
              "size": 10,
              "solidity": 0.2
             }
            },
            "type": "barpolar"
           }
          ],
          "carpet": [
           {
            "aaxis": {
             "endlinecolor": "#2a3f5f",
             "gridcolor": "white",
             "linecolor": "white",
             "minorgridcolor": "white",
             "startlinecolor": "#2a3f5f"
            },
            "baxis": {
             "endlinecolor": "#2a3f5f",
             "gridcolor": "white",
             "linecolor": "white",
             "minorgridcolor": "white",
             "startlinecolor": "#2a3f5f"
            },
            "type": "carpet"
           }
          ],
          "choropleth": [
           {
            "colorbar": {
             "outlinewidth": 0,
             "ticks": ""
            },
            "type": "choropleth"
           }
          ],
          "contour": [
           {
            "colorbar": {
             "outlinewidth": 0,
             "ticks": ""
            },
            "colorscale": [
             [
              0,
              "#0d0887"
             ],
             [
              0.1111111111111111,
              "#46039f"
             ],
             [
              0.2222222222222222,
              "#7201a8"
             ],
             [
              0.3333333333333333,
              "#9c179e"
             ],
             [
              0.4444444444444444,
              "#bd3786"
             ],
             [
              0.5555555555555556,
              "#d8576b"
             ],
             [
              0.6666666666666666,
              "#ed7953"
             ],
             [
              0.7777777777777778,
              "#fb9f3a"
             ],
             [
              0.8888888888888888,
              "#fdca26"
             ],
             [
              1,
              "#f0f921"
             ]
            ],
            "type": "contour"
           }
          ],
          "contourcarpet": [
           {
            "colorbar": {
             "outlinewidth": 0,
             "ticks": ""
            },
            "type": "contourcarpet"
           }
          ],
          "heatmap": [
           {
            "colorbar": {
             "outlinewidth": 0,
             "ticks": ""
            },
            "colorscale": [
             [
              0,
              "#0d0887"
             ],
             [
              0.1111111111111111,
              "#46039f"
             ],
             [
              0.2222222222222222,
              "#7201a8"
             ],
             [
              0.3333333333333333,
              "#9c179e"
             ],
             [
              0.4444444444444444,
              "#bd3786"
             ],
             [
              0.5555555555555556,
              "#d8576b"
             ],
             [
              0.6666666666666666,
              "#ed7953"
             ],
             [
              0.7777777777777778,
              "#fb9f3a"
             ],
             [
              0.8888888888888888,
              "#fdca26"
             ],
             [
              1,
              "#f0f921"
             ]
            ],
            "type": "heatmap"
           }
          ],
          "heatmapgl": [
           {
            "colorbar": {
             "outlinewidth": 0,
             "ticks": ""
            },
            "colorscale": [
             [
              0,
              "#0d0887"
             ],
             [
              0.1111111111111111,
              "#46039f"
             ],
             [
              0.2222222222222222,
              "#7201a8"
             ],
             [
              0.3333333333333333,
              "#9c179e"
             ],
             [
              0.4444444444444444,
              "#bd3786"
             ],
             [
              0.5555555555555556,
              "#d8576b"
             ],
             [
              0.6666666666666666,
              "#ed7953"
             ],
             [
              0.7777777777777778,
              "#fb9f3a"
             ],
             [
              0.8888888888888888,
              "#fdca26"
             ],
             [
              1,
              "#f0f921"
             ]
            ],
            "type": "heatmapgl"
           }
          ],
          "histogram": [
           {
            "marker": {
             "pattern": {
              "fillmode": "overlay",
              "size": 10,
              "solidity": 0.2
             }
            },
            "type": "histogram"
           }
          ],
          "histogram2d": [
           {
            "colorbar": {
             "outlinewidth": 0,
             "ticks": ""
            },
            "colorscale": [
             [
              0,
              "#0d0887"
             ],
             [
              0.1111111111111111,
              "#46039f"
             ],
             [
              0.2222222222222222,
              "#7201a8"
             ],
             [
              0.3333333333333333,
              "#9c179e"
             ],
             [
              0.4444444444444444,
              "#bd3786"
             ],
             [
              0.5555555555555556,
              "#d8576b"
             ],
             [
              0.6666666666666666,
              "#ed7953"
             ],
             [
              0.7777777777777778,
              "#fb9f3a"
             ],
             [
              0.8888888888888888,
              "#fdca26"
             ],
             [
              1,
              "#f0f921"
             ]
            ],
            "type": "histogram2d"
           }
          ],
          "histogram2dcontour": [
           {
            "colorbar": {
             "outlinewidth": 0,
             "ticks": ""
            },
            "colorscale": [
             [
              0,
              "#0d0887"
             ],
             [
              0.1111111111111111,
              "#46039f"
             ],
             [
              0.2222222222222222,
              "#7201a8"
             ],
             [
              0.3333333333333333,
              "#9c179e"
             ],
             [
              0.4444444444444444,
              "#bd3786"
             ],
             [
              0.5555555555555556,
              "#d8576b"
             ],
             [
              0.6666666666666666,
              "#ed7953"
             ],
             [
              0.7777777777777778,
              "#fb9f3a"
             ],
             [
              0.8888888888888888,
              "#fdca26"
             ],
             [
              1,
              "#f0f921"
             ]
            ],
            "type": "histogram2dcontour"
           }
          ],
          "mesh3d": [
           {
            "colorbar": {
             "outlinewidth": 0,
             "ticks": ""
            },
            "type": "mesh3d"
           }
          ],
          "parcoords": [
           {
            "line": {
             "colorbar": {
              "outlinewidth": 0,
              "ticks": ""
             }
            },
            "type": "parcoords"
           }
          ],
          "pie": [
           {
            "automargin": true,
            "type": "pie"
           }
          ],
          "scatter": [
           {
            "fillpattern": {
             "fillmode": "overlay",
             "size": 10,
             "solidity": 0.2
            },
            "type": "scatter"
           }
          ],
          "scatter3d": [
           {
            "line": {
             "colorbar": {
              "outlinewidth": 0,
              "ticks": ""
             }
            },
            "marker": {
             "colorbar": {
              "outlinewidth": 0,
              "ticks": ""
             }
            },
            "type": "scatter3d"
           }
          ],
          "scattercarpet": [
           {
            "marker": {
             "colorbar": {
              "outlinewidth": 0,
              "ticks": ""
             }
            },
            "type": "scattercarpet"
           }
          ],
          "scattergeo": [
           {
            "marker": {
             "colorbar": {
              "outlinewidth": 0,
              "ticks": ""
             }
            },
            "type": "scattergeo"
           }
          ],
          "scattergl": [
           {
            "marker": {
             "colorbar": {
              "outlinewidth": 0,
              "ticks": ""
             }
            },
            "type": "scattergl"
           }
          ],
          "scattermapbox": [
           {
            "marker": {
             "colorbar": {
              "outlinewidth": 0,
              "ticks": ""
             }
            },
            "type": "scattermapbox"
           }
          ],
          "scatterpolar": [
           {
            "marker": {
             "colorbar": {
              "outlinewidth": 0,
              "ticks": ""
             }
            },
            "type": "scatterpolar"
           }
          ],
          "scatterpolargl": [
           {
            "marker": {
             "colorbar": {
              "outlinewidth": 0,
              "ticks": ""
             }
            },
            "type": "scatterpolargl"
           }
          ],
          "scatterternary": [
           {
            "marker": {
             "colorbar": {
              "outlinewidth": 0,
              "ticks": ""
             }
            },
            "type": "scatterternary"
           }
          ],
          "surface": [
           {
            "colorbar": {
             "outlinewidth": 0,
             "ticks": ""
            },
            "colorscale": [
             [
              0,
              "#0d0887"
             ],
             [
              0.1111111111111111,
              "#46039f"
             ],
             [
              0.2222222222222222,
              "#7201a8"
             ],
             [
              0.3333333333333333,
              "#9c179e"
             ],
             [
              0.4444444444444444,
              "#bd3786"
             ],
             [
              0.5555555555555556,
              "#d8576b"
             ],
             [
              0.6666666666666666,
              "#ed7953"
             ],
             [
              0.7777777777777778,
              "#fb9f3a"
             ],
             [
              0.8888888888888888,
              "#fdca26"
             ],
             [
              1,
              "#f0f921"
             ]
            ],
            "type": "surface"
           }
          ],
          "table": [
           {
            "cells": {
             "fill": {
              "color": "#EBF0F8"
             },
             "line": {
              "color": "white"
             }
            },
            "header": {
             "fill": {
              "color": "#C8D4E3"
             },
             "line": {
              "color": "white"
             }
            },
            "type": "table"
           }
          ]
         },
         "layout": {
          "annotationdefaults": {
           "arrowcolor": "#2a3f5f",
           "arrowhead": 0,
           "arrowwidth": 1
          },
          "autotypenumbers": "strict",
          "coloraxis": {
           "colorbar": {
            "outlinewidth": 0,
            "ticks": ""
           }
          },
          "colorscale": {
           "diverging": [
            [
             0,
             "#8e0152"
            ],
            [
             0.1,
             "#c51b7d"
            ],
            [
             0.2,
             "#de77ae"
            ],
            [
             0.3,
             "#f1b6da"
            ],
            [
             0.4,
             "#fde0ef"
            ],
            [
             0.5,
             "#f7f7f7"
            ],
            [
             0.6,
             "#e6f5d0"
            ],
            [
             0.7,
             "#b8e186"
            ],
            [
             0.8,
             "#7fbc41"
            ],
            [
             0.9,
             "#4d9221"
            ],
            [
             1,
             "#276419"
            ]
           ],
           "sequential": [
            [
             0,
             "#0d0887"
            ],
            [
             0.1111111111111111,
             "#46039f"
            ],
            [
             0.2222222222222222,
             "#7201a8"
            ],
            [
             0.3333333333333333,
             "#9c179e"
            ],
            [
             0.4444444444444444,
             "#bd3786"
            ],
            [
             0.5555555555555556,
             "#d8576b"
            ],
            [
             0.6666666666666666,
             "#ed7953"
            ],
            [
             0.7777777777777778,
             "#fb9f3a"
            ],
            [
             0.8888888888888888,
             "#fdca26"
            ],
            [
             1,
             "#f0f921"
            ]
           ],
           "sequentialminus": [
            [
             0,
             "#0d0887"
            ],
            [
             0.1111111111111111,
             "#46039f"
            ],
            [
             0.2222222222222222,
             "#7201a8"
            ],
            [
             0.3333333333333333,
             "#9c179e"
            ],
            [
             0.4444444444444444,
             "#bd3786"
            ],
            [
             0.5555555555555556,
             "#d8576b"
            ],
            [
             0.6666666666666666,
             "#ed7953"
            ],
            [
             0.7777777777777778,
             "#fb9f3a"
            ],
            [
             0.8888888888888888,
             "#fdca26"
            ],
            [
             1,
             "#f0f921"
            ]
           ]
          },
          "colorway": [
           "#636efa",
           "#EF553B",
           "#00cc96",
           "#ab63fa",
           "#FFA15A",
           "#19d3f3",
           "#FF6692",
           "#B6E880",
           "#FF97FF",
           "#FECB52"
          ],
          "font": {
           "color": "#2a3f5f"
          },
          "geo": {
           "bgcolor": "white",
           "lakecolor": "white",
           "landcolor": "#E5ECF6",
           "showlakes": true,
           "showland": true,
           "subunitcolor": "white"
          },
          "hoverlabel": {
           "align": "left"
          },
          "hovermode": "closest",
          "mapbox": {
           "style": "light"
          },
          "paper_bgcolor": "white",
          "plot_bgcolor": "#E5ECF6",
          "polar": {
           "angularaxis": {
            "gridcolor": "white",
            "linecolor": "white",
            "ticks": ""
           },
           "bgcolor": "#E5ECF6",
           "radialaxis": {
            "gridcolor": "white",
            "linecolor": "white",
            "ticks": ""
           }
          },
          "scene": {
           "xaxis": {
            "backgroundcolor": "#E5ECF6",
            "gridcolor": "white",
            "gridwidth": 2,
            "linecolor": "white",
            "showbackground": true,
            "ticks": "",
            "zerolinecolor": "white"
           },
           "yaxis": {
            "backgroundcolor": "#E5ECF6",
            "gridcolor": "white",
            "gridwidth": 2,
            "linecolor": "white",
            "showbackground": true,
            "ticks": "",
            "zerolinecolor": "white"
           },
           "zaxis": {
            "backgroundcolor": "#E5ECF6",
            "gridcolor": "white",
            "gridwidth": 2,
            "linecolor": "white",
            "showbackground": true,
            "ticks": "",
            "zerolinecolor": "white"
           }
          },
          "shapedefaults": {
           "line": {
            "color": "#2a3f5f"
           }
          },
          "ternary": {
           "aaxis": {
            "gridcolor": "white",
            "linecolor": "white",
            "ticks": ""
           },
           "baxis": {
            "gridcolor": "white",
            "linecolor": "white",
            "ticks": ""
           },
           "bgcolor": "#E5ECF6",
           "caxis": {
            "gridcolor": "white",
            "linecolor": "white",
            "ticks": ""
           }
          },
          "title": {
           "x": 0.05
          },
          "xaxis": {
           "automargin": true,
           "gridcolor": "white",
           "linecolor": "white",
           "ticks": "",
           "title": {
            "standoff": 15
           },
           "zerolinecolor": "white",
           "zerolinewidth": 2
          },
          "yaxis": {
           "automargin": true,
           "gridcolor": "white",
           "linecolor": "white",
           "ticks": "",
           "title": {
            "standoff": 15
           },
           "zerolinecolor": "white",
           "zerolinewidth": 2
          }
         }
        },
        "title": {
         "text": "Optimization History Plot"
        },
        "xaxis": {
         "title": {
          "text": "#Trials"
         }
        },
        "yaxis": {
         "title": {
          "text": "Objective Value"
         }
        }
       }
      }
     },
     "metadata": {},
     "output_type": "display_data"
    }
   ],
   "source": [
    "fig = optuna.visualization.plot_optimization_history(peanut)\n",
    "fig.show()"
   ]
  },
  {
   "cell_type": "code",
   "execution_count": 50,
   "metadata": {},
   "outputs": [
    {
     "data": {
      "application/vnd.plotly.v1+json": {
       "config": {
        "plotlyServerURL": "https://plot.ly"
       },
       "data": [
        {
         "marker": {
          "color": [
           7,
           8,
           16,
           18,
           22,
           23,
           24,
           26,
           27,
           28,
           38,
           48,
           49,
           50,
           53,
           60,
           76,
           77,
           79,
           80,
           83,
           84,
           85,
           91,
           93,
           96,
           100,
           101,
           128,
           131,
           132,
           133,
           139,
           142,
           143,
           148,
           173,
           177,
           178,
           180,
           182,
           184,
           185,
           186,
           187,
           189,
           193,
           197,
           198,
           203,
           208,
           209,
           211,
           213,
           216,
           218,
           226,
           233,
           250
          ],
          "colorbar": {
           "title": {
            "text": "#Trials"
           },
           "x": 1,
           "xpad": 40
          },
          "colorscale": [
           [
            0,
            "rgb(247,251,255)"
           ],
           [
            0.125,
            "rgb(222,235,247)"
           ],
           [
            0.25,
            "rgb(198,219,239)"
           ],
           [
            0.375,
            "rgb(158,202,225)"
           ],
           [
            0.5,
            "rgb(107,174,214)"
           ],
           [
            0.625,
            "rgb(66,146,198)"
           ],
           [
            0.75,
            "rgb(33,113,181)"
           ],
           [
            0.875,
            "rgb(8,81,156)"
           ],
           [
            1,
            "rgb(8,48,107)"
           ]
          ],
          "line": {
           "color": "Grey",
           "width": 0.5
          },
          "showscale": true
         },
         "mode": "markers",
         "showlegend": false,
         "type": "scatter",
         "x": [
          1,
          0.25,
          0.5,
          1,
          0.125,
          0.125,
          0.25,
          1,
          0.5,
          0.125,
          1,
          1,
          1,
          1,
          1,
          1,
          0.125,
          0.125,
          0.125,
          0.125,
          0.125,
          1,
          1,
          0.125,
          0.125,
          0.125,
          0.125,
          0.125,
          0.125,
          0.125,
          0.125,
          0.125,
          1,
          1,
          1,
          1,
          1,
          1,
          1,
          1,
          1,
          1,
          1,
          1,
          1,
          1,
          1,
          1,
          1,
          1,
          1,
          1,
          1,
          1,
          1,
          1,
          1,
          1,
          1
         ],
         "xaxis": "x",
         "y": [
          1.812164545059204,
          1.9857855439186096,
          1.4399656738553728,
          0.9873409952436175,
          1.7214326858520508,
          0.616194739405598,
          1.188650471823556,
          0.8168594177280154,
          1.1352876041616713,
          1.1398512039865767,
          0.7569529925073896,
          0.9585012452942985,
          0.9695310039179665,
          0.946243724652699,
          0.958675035408565,
          1.009617188147136,
          0.9599842344011579,
          0.8376542414937701,
          0.9108065153871264,
          0.8665897782359805,
          0.8809834399393627,
          0.8871953849281583,
          0.7621744785990033,
          0.8735854838575635,
          0.9237974115780422,
          0.7840889607157026,
          0.7749790166105542,
          0.7750482559204102,
          0.7765713823693139,
          0.8394670358725956,
          0.9472435755389077,
          0.8710245277200427,
          0.7099234653370721,
          0.8147427375827517,
          0.8638606135334287,
          0.771658392889159,
          0.9019172745091575,
          0.8942599360431943,
          0.795051885502679,
          0.8417665979691914,
          0.8310656504971641,
          0.8437832338469369,
          0.7632385939359665,
          0.7706189453601837,
          0.6901945216315133,
          0.727678697024073,
          0.8120741077831813,
          0.8648254807506289,
          0.834171222788947,
          0.7786796774183001,
          0.8802014504160199,
          0.9061854609421321,
          0.7781474505152021,
          0.7746222870690482,
          0.7974858390433448,
          0.7504929687295642,
          0.8712416525397982,
          0.8891535529068538,
          0.7125805531229291
         ],
         "yaxis": "y"
        },
        {
         "marker": {
          "color": [
           7,
           8,
           16,
           18,
           22,
           23,
           24,
           26,
           27,
           28,
           38,
           48,
           49,
           50,
           53,
           60,
           76,
           77,
           79,
           80,
           83,
           84,
           85,
           91,
           93,
           96,
           100,
           101,
           128,
           131,
           132,
           133,
           139,
           142,
           143,
           148,
           173,
           177,
           178,
           180,
           182,
           184,
           185,
           186,
           187,
           189,
           193,
           197,
           198,
           203,
           208,
           209,
           211,
           213,
           216,
           218,
           226,
           233,
           250
          ],
          "colorbar": {
           "title": {
            "text": "#Trials"
           },
           "x": 1,
           "xpad": 40
          },
          "colorscale": [
           [
            0,
            "rgb(247,251,255)"
           ],
           [
            0.125,
            "rgb(222,235,247)"
           ],
           [
            0.25,
            "rgb(198,219,239)"
           ],
           [
            0.375,
            "rgb(158,202,225)"
           ],
           [
            0.5,
            "rgb(107,174,214)"
           ],
           [
            0.625,
            "rgb(66,146,198)"
           ],
           [
            0.75,
            "rgb(33,113,181)"
           ],
           [
            0.875,
            "rgb(8,81,156)"
           ],
           [
            1,
            "rgb(8,48,107)"
           ]
          ],
          "line": {
           "color": "Grey",
           "width": 0.5
          },
          "showscale": false
         },
         "mode": "markers",
         "showlegend": false,
         "type": "scatter",
         "x": [
          1.1558628319044313,
          1.3534589046434116,
          1.0066730486548643,
          0.9863388313458955,
          0.9236848552743437,
          1.184316464877487,
          0.601652062503949,
          0.5998922147287995,
          0.5341318826792765,
          0.5718762546567503,
          0.7081498434840837,
          0.5072155822857165,
          0.5059796152500983,
          0.5010309050622457,
          1.3277348689084594,
          1.4167006638167003,
          0.5782777253888639,
          0.5566681272817503,
          0.5741717909365731,
          0.5659784833514994,
          0.5615448813051307,
          0.7461588589792335,
          0.7508153885019496,
          0.6688209070863365,
          0.6859666160112787,
          0.6674827240320912,
          0.6010104083805213,
          0.5979609705615363,
          0.547618319011593,
          0.550182273801242,
          0.5577287941632464,
          0.5499130514741343,
          0.6266036586686625,
          0.7580532150331091,
          0.7469412676291134,
          0.5825985103298784,
          0.6047627003227676,
          0.6960541221265945,
          0.6548458364473202,
          0.6463019330119472,
          0.6475107175463097,
          0.7555859220654076,
          0.7753339707146956,
          0.7336554706215455,
          0.5909873928440579,
          0.6755321877174909,
          0.7714411838488989,
          0.6782802766401175,
          1.2934464935887946,
          0.587187435663558,
          0.8200658328102175,
          0.6301306216330456,
          0.7165039209942338,
          1.4432178659419699,
          0.7143462119872682,
          0.7317901541280907,
          0.6805564990947537,
          0.6099863726414219,
          0.7283598285115674
         ],
         "xaxis": "x2",
         "y": [
          1.812164545059204,
          1.9857855439186096,
          1.4399656738553728,
          0.9873409952436175,
          1.7214326858520508,
          0.616194739405598,
          1.188650471823556,
          0.8168594177280154,
          1.1352876041616713,
          1.1398512039865767,
          0.7569529925073896,
          0.9585012452942985,
          0.9695310039179665,
          0.946243724652699,
          0.958675035408565,
          1.009617188147136,
          0.9599842344011579,
          0.8376542414937701,
          0.9108065153871264,
          0.8665897782359805,
          0.8809834399393627,
          0.8871953849281583,
          0.7621744785990033,
          0.8735854838575635,
          0.9237974115780422,
          0.7840889607157026,
          0.7749790166105542,
          0.7750482559204102,
          0.7765713823693139,
          0.8394670358725956,
          0.9472435755389077,
          0.8710245277200427,
          0.7099234653370721,
          0.8147427375827517,
          0.8638606135334287,
          0.771658392889159,
          0.9019172745091575,
          0.8942599360431943,
          0.795051885502679,
          0.8417665979691914,
          0.8310656504971641,
          0.8437832338469369,
          0.7632385939359665,
          0.7706189453601837,
          0.6901945216315133,
          0.727678697024073,
          0.8120741077831813,
          0.8648254807506289,
          0.834171222788947,
          0.7786796774183001,
          0.8802014504160199,
          0.9061854609421321,
          0.7781474505152021,
          0.7746222870690482,
          0.7974858390433448,
          0.7504929687295642,
          0.8712416525397982,
          0.8891535529068538,
          0.7125805531229291
         ],
         "yaxis": "y2"
        },
        {
         "marker": {
          "color": [
           7,
           8,
           16,
           18,
           22,
           23,
           24,
           26,
           27,
           28,
           38,
           48,
           49,
           50,
           53,
           60,
           76,
           77,
           79,
           80,
           83,
           84,
           85,
           91,
           93,
           96,
           100,
           101,
           128,
           131,
           132,
           133,
           139,
           142,
           143,
           148,
           173,
           177,
           178,
           180,
           182,
           184,
           185,
           186,
           187,
           189,
           193,
           197,
           198,
           203,
           208,
           209,
           211,
           213,
           216,
           218,
           226,
           233,
           250
          ],
          "colorbar": {
           "title": {
            "text": "#Trials"
           },
           "x": 1,
           "xpad": 40
          },
          "colorscale": [
           [
            0,
            "rgb(247,251,255)"
           ],
           [
            0.125,
            "rgb(222,235,247)"
           ],
           [
            0.25,
            "rgb(198,219,239)"
           ],
           [
            0.375,
            "rgb(158,202,225)"
           ],
           [
            0.5,
            "rgb(107,174,214)"
           ],
           [
            0.625,
            "rgb(66,146,198)"
           ],
           [
            0.75,
            "rgb(33,113,181)"
           ],
           [
            0.875,
            "rgb(8,81,156)"
           ],
           [
            1,
            "rgb(8,48,107)"
           ]
          ],
          "line": {
           "color": "Grey",
           "width": 0.5
          },
          "showscale": false
         },
         "mode": "markers",
         "showlegend": false,
         "type": "scatter",
         "x": [
          3,
          2,
          7,
          4,
          7,
          3,
          5,
          5,
          5,
          5,
          3,
          6,
          6,
          4,
          6,
          5,
          5,
          5,
          5,
          5,
          5,
          6,
          6,
          5,
          5,
          5,
          4,
          4,
          5,
          5,
          5,
          5,
          6,
          6,
          6,
          5,
          7,
          6,
          6,
          6,
          6,
          6,
          6,
          6,
          6,
          6,
          6,
          6,
          6,
          6,
          6,
          6,
          6,
          6,
          6,
          6,
          6,
          6,
          6
         ],
         "xaxis": "x3",
         "y": [
          1.812164545059204,
          1.9857855439186096,
          1.4399656738553728,
          0.9873409952436175,
          1.7214326858520508,
          0.616194739405598,
          1.188650471823556,
          0.8168594177280154,
          1.1352876041616713,
          1.1398512039865767,
          0.7569529925073896,
          0.9585012452942985,
          0.9695310039179665,
          0.946243724652699,
          0.958675035408565,
          1.009617188147136,
          0.9599842344011579,
          0.8376542414937701,
          0.9108065153871264,
          0.8665897782359805,
          0.8809834399393627,
          0.8871953849281583,
          0.7621744785990033,
          0.8735854838575635,
          0.9237974115780422,
          0.7840889607157026,
          0.7749790166105542,
          0.7750482559204102,
          0.7765713823693139,
          0.8394670358725956,
          0.9472435755389077,
          0.8710245277200427,
          0.7099234653370721,
          0.8147427375827517,
          0.8638606135334287,
          0.771658392889159,
          0.9019172745091575,
          0.8942599360431943,
          0.795051885502679,
          0.8417665979691914,
          0.8310656504971641,
          0.8437832338469369,
          0.7632385939359665,
          0.7706189453601837,
          0.6901945216315133,
          0.727678697024073,
          0.8120741077831813,
          0.8648254807506289,
          0.834171222788947,
          0.7786796774183001,
          0.8802014504160199,
          0.9061854609421321,
          0.7781474505152021,
          0.7746222870690482,
          0.7974858390433448,
          0.7504929687295642,
          0.8712416525397982,
          0.8891535529068538,
          0.7125805531229291
         ],
         "yaxis": "y3"
        },
        {
         "marker": {
          "color": [
           7,
           8,
           16,
           18,
           22,
           23,
           24,
           26,
           27,
           28,
           38,
           48,
           49,
           50,
           53,
           60,
           76,
           77,
           79,
           80,
           83,
           84,
           85,
           91,
           93,
           96,
           100,
           101,
           128,
           131,
           132,
           133,
           139,
           142,
           143,
           148,
           173,
           177,
           178,
           180,
           182,
           184,
           185,
           186,
           187,
           189,
           193,
           197,
           198,
           203,
           208,
           209,
           211,
           213,
           216,
           218,
           226,
           233,
           250
          ],
          "colorbar": {
           "title": {
            "text": "#Trials"
           },
           "x": 1,
           "xpad": 40
          },
          "colorscale": [
           [
            0,
            "rgb(247,251,255)"
           ],
           [
            0.125,
            "rgb(222,235,247)"
           ],
           [
            0.25,
            "rgb(198,219,239)"
           ],
           [
            0.375,
            "rgb(158,202,225)"
           ],
           [
            0.5,
            "rgb(107,174,214)"
           ],
           [
            0.625,
            "rgb(66,146,198)"
           ],
           [
            0.75,
            "rgb(33,113,181)"
           ],
           [
            0.875,
            "rgb(8,81,156)"
           ],
           [
            1,
            "rgb(8,48,107)"
           ]
          ],
          "line": {
           "color": "Grey",
           "width": 0.5
          },
          "showscale": false
         },
         "mode": "markers",
         "showlegend": false,
         "type": "scatter",
         "x": [
          true,
          true,
          true,
          true,
          true,
          true,
          true,
          false,
          true,
          true,
          true,
          true,
          true,
          true,
          true,
          true,
          false,
          false,
          false,
          false,
          false,
          false,
          false,
          false,
          false,
          false,
          false,
          false,
          false,
          false,
          false,
          false,
          false,
          false,
          false,
          false,
          true,
          false,
          false,
          false,
          false,
          false,
          false,
          false,
          false,
          false,
          false,
          false,
          false,
          false,
          false,
          false,
          false,
          false,
          false,
          false,
          false,
          false,
          true
         ],
         "xaxis": "x4",
         "y": [
          1.812164545059204,
          1.9857855439186096,
          1.4399656738553728,
          0.9873409952436175,
          1.7214326858520508,
          0.616194739405598,
          1.188650471823556,
          0.8168594177280154,
          1.1352876041616713,
          1.1398512039865767,
          0.7569529925073896,
          0.9585012452942985,
          0.9695310039179665,
          0.946243724652699,
          0.958675035408565,
          1.009617188147136,
          0.9599842344011579,
          0.8376542414937701,
          0.9108065153871264,
          0.8665897782359805,
          0.8809834399393627,
          0.8871953849281583,
          0.7621744785990033,
          0.8735854838575635,
          0.9237974115780422,
          0.7840889607157026,
          0.7749790166105542,
          0.7750482559204102,
          0.7765713823693139,
          0.8394670358725956,
          0.9472435755389077,
          0.8710245277200427,
          0.7099234653370721,
          0.8147427375827517,
          0.8638606135334287,
          0.771658392889159,
          0.9019172745091575,
          0.8942599360431943,
          0.795051885502679,
          0.8417665979691914,
          0.8310656504971641,
          0.8437832338469369,
          0.7632385939359665,
          0.7706189453601837,
          0.6901945216315133,
          0.727678697024073,
          0.8120741077831813,
          0.8648254807506289,
          0.834171222788947,
          0.7786796774183001,
          0.8802014504160199,
          0.9061854609421321,
          0.7781474505152021,
          0.7746222870690482,
          0.7974858390433448,
          0.7504929687295642,
          0.8712416525397982,
          0.8891535529068538,
          0.7125805531229291
         ],
         "yaxis": "y4"
        },
        {
         "marker": {
          "color": [
           7,
           8,
           16,
           18,
           22,
           23,
           24,
           27,
           28,
           38,
           48,
           49,
           50,
           53,
           60,
           173,
           250
          ],
          "colorbar": {
           "title": {
            "text": "#Trials"
           },
           "x": 1,
           "xpad": 40
          },
          "colorscale": [
           [
            0,
            "rgb(247,251,255)"
           ],
           [
            0.125,
            "rgb(222,235,247)"
           ],
           [
            0.25,
            "rgb(198,219,239)"
           ],
           [
            0.375,
            "rgb(158,202,225)"
           ],
           [
            0.5,
            "rgb(107,174,214)"
           ],
           [
            0.625,
            "rgb(66,146,198)"
           ],
           [
            0.75,
            "rgb(33,113,181)"
           ],
           [
            0.875,
            "rgb(8,81,156)"
           ],
           [
            1,
            "rgb(8,48,107)"
           ]
          ],
          "line": {
           "color": "Grey",
           "width": 0.5
          },
          "showscale": false
         },
         "mode": "markers",
         "showlegend": false,
         "type": "scatter",
         "x": [
          128,
          256,
          128,
          64,
          256,
          64,
          64,
          64,
          64,
          64,
          64,
          64,
          64,
          64,
          128,
          128,
          128
         ],
         "xaxis": "x5",
         "y": [
          1.812164545059204,
          1.9857855439186096,
          1.4399656738553728,
          0.9873409952436175,
          1.7214326858520508,
          0.616194739405598,
          1.188650471823556,
          1.1352876041616713,
          1.1398512039865767,
          0.7569529925073896,
          0.9585012452942985,
          0.9695310039179665,
          0.946243724652699,
          0.958675035408565,
          1.009617188147136,
          0.9019172745091575,
          0.7125805531229291
         ],
         "yaxis": "y5"
        },
        {
         "marker": {
          "color": [
           7,
           8,
           16,
           18,
           22,
           23,
           24,
           26,
           27,
           28,
           38,
           48,
           49,
           50,
           53,
           60,
           76,
           77,
           79,
           80,
           83,
           84,
           85,
           91,
           93,
           96,
           100,
           101,
           128,
           131,
           132,
           133,
           139,
           142,
           143,
           148,
           173,
           177,
           178,
           180,
           182,
           184,
           185,
           186,
           187,
           189,
           193,
           197,
           198,
           203,
           208,
           209,
           211,
           213,
           216,
           218,
           226,
           233,
           250
          ],
          "colorbar": {
           "title": {
            "text": "#Trials"
           },
           "x": 1,
           "xpad": 40
          },
          "colorscale": [
           [
            0,
            "rgb(247,251,255)"
           ],
           [
            0.125,
            "rgb(222,235,247)"
           ],
           [
            0.25,
            "rgb(198,219,239)"
           ],
           [
            0.375,
            "rgb(158,202,225)"
           ],
           [
            0.5,
            "rgb(107,174,214)"
           ],
           [
            0.625,
            "rgb(66,146,198)"
           ],
           [
            0.75,
            "rgb(33,113,181)"
           ],
           [
            0.875,
            "rgb(8,81,156)"
           ],
           [
            1,
            "rgb(8,48,107)"
           ]
          ],
          "line": {
           "color": "Grey",
           "width": 0.5
          },
          "showscale": false
         },
         "mode": "markers",
         "showlegend": false,
         "type": "scatter",
         "x": [
          false,
          false,
          false,
          false,
          false,
          false,
          true,
          true,
          false,
          true,
          false,
          false,
          false,
          false,
          false,
          false,
          true,
          true,
          true,
          true,
          true,
          true,
          true,
          true,
          true,
          true,
          true,
          true,
          true,
          true,
          true,
          true,
          true,
          true,
          true,
          false,
          false,
          true,
          true,
          true,
          false,
          false,
          false,
          false,
          false,
          false,
          false,
          false,
          false,
          false,
          false,
          false,
          false,
          false,
          false,
          false,
          false,
          false,
          false
         ],
         "xaxis": "x6",
         "y": [
          1.812164545059204,
          1.9857855439186096,
          1.4399656738553728,
          0.9873409952436175,
          1.7214326858520508,
          0.616194739405598,
          1.188650471823556,
          0.8168594177280154,
          1.1352876041616713,
          1.1398512039865767,
          0.7569529925073896,
          0.9585012452942985,
          0.9695310039179665,
          0.946243724652699,
          0.958675035408565,
          1.009617188147136,
          0.9599842344011579,
          0.8376542414937701,
          0.9108065153871264,
          0.8665897782359805,
          0.8809834399393627,
          0.8871953849281583,
          0.7621744785990033,
          0.8735854838575635,
          0.9237974115780422,
          0.7840889607157026,
          0.7749790166105542,
          0.7750482559204102,
          0.7765713823693139,
          0.8394670358725956,
          0.9472435755389077,
          0.8710245277200427,
          0.7099234653370721,
          0.8147427375827517,
          0.8638606135334287,
          0.771658392889159,
          0.9019172745091575,
          0.8942599360431943,
          0.795051885502679,
          0.8417665979691914,
          0.8310656504971641,
          0.8437832338469369,
          0.7632385939359665,
          0.7706189453601837,
          0.6901945216315133,
          0.727678697024073,
          0.8120741077831813,
          0.8648254807506289,
          0.834171222788947,
          0.7786796774183001,
          0.8802014504160199,
          0.9061854609421321,
          0.7781474505152021,
          0.7746222870690482,
          0.7974858390433448,
          0.7504929687295642,
          0.8712416525397982,
          0.8891535529068538,
          0.7125805531229291
         ],
         "yaxis": "y6"
        },
        {
         "marker": {
          "color": [
           24,
           26,
           28,
           76,
           77,
           79,
           80,
           83,
           84,
           85,
           91,
           93,
           96,
           100,
           101,
           128,
           131,
           132,
           133,
           139,
           142,
           143,
           177,
           178,
           180
          ],
          "colorbar": {
           "title": {
            "text": "#Trials"
           },
           "x": 1,
           "xpad": 40
          },
          "colorscale": [
           [
            0,
            "rgb(247,251,255)"
           ],
           [
            0.125,
            "rgb(222,235,247)"
           ],
           [
            0.25,
            "rgb(198,219,239)"
           ],
           [
            0.375,
            "rgb(158,202,225)"
           ],
           [
            0.5,
            "rgb(107,174,214)"
           ],
           [
            0.625,
            "rgb(66,146,198)"
           ],
           [
            0.75,
            "rgb(33,113,181)"
           ],
           [
            0.875,
            "rgb(8,81,156)"
           ],
           [
            1,
            "rgb(8,48,107)"
           ]
          ],
          "line": {
           "color": "Grey",
           "width": 0.5
          },
          "showscale": false
         },
         "mode": "markers",
         "showlegend": false,
         "type": "scatter",
         "x": [
          3.793586843733603,
          3.0107415368010955,
          4.964104390584431,
          2.7653956170282257,
          2.7452128277692096,
          2.9657898835801877,
          2.705802537627602,
          2.941653028474351,
          3.6546479801478444,
          3.482891647713151,
          3.5735275155910697,
          3.2366921389553767,
          2.3254138039765007,
          2.9911529557868817,
          2.43883894665205,
          2.5913437895887106,
          2.7828499912491873,
          2.801229776187605,
          2.84853282786955,
          3.396273929791737,
          3.648144464613054,
          3.5894825871059632,
          4.22598772386781,
          3.232073643596195,
          3.173744258313889
         ],
         "xaxis": "x7",
         "y": [
          1.188650471823556,
          0.8168594177280154,
          1.1398512039865767,
          0.9599842344011579,
          0.8376542414937701,
          0.9108065153871264,
          0.8665897782359805,
          0.8809834399393627,
          0.8871953849281583,
          0.7621744785990033,
          0.8735854838575635,
          0.9237974115780422,
          0.7840889607157026,
          0.7749790166105542,
          0.7750482559204102,
          0.7765713823693139,
          0.8394670358725956,
          0.9472435755389077,
          0.8710245277200427,
          0.7099234653370721,
          0.8147427375827517,
          0.8638606135334287,
          0.8942599360431943,
          0.795051885502679,
          0.8417665979691914
         ],
         "yaxis": "y7"
        },
        {
         "marker": {
          "color": [
           7,
           8,
           16,
           18,
           22,
           23,
           24,
           26,
           27,
           28,
           38,
           48,
           49,
           50,
           53,
           60,
           76,
           77,
           79,
           80,
           83,
           84,
           85,
           91,
           93,
           96,
           100,
           101,
           128,
           131,
           132,
           133,
           139,
           142,
           143,
           148,
           173,
           177,
           178,
           180,
           182,
           184,
           185,
           186,
           187,
           189,
           193,
           197,
           198,
           203,
           208,
           209,
           211,
           213,
           216,
           218,
           226,
           233,
           250
          ],
          "colorbar": {
           "title": {
            "text": "#Trials"
           },
           "x": 1,
           "xpad": 40
          },
          "colorscale": [
           [
            0,
            "rgb(247,251,255)"
           ],
           [
            0.125,
            "rgb(222,235,247)"
           ],
           [
            0.25,
            "rgb(198,219,239)"
           ],
           [
            0.375,
            "rgb(158,202,225)"
           ],
           [
            0.5,
            "rgb(107,174,214)"
           ],
           [
            0.625,
            "rgb(66,146,198)"
           ],
           [
            0.75,
            "rgb(33,113,181)"
           ],
           [
            0.875,
            "rgb(8,81,156)"
           ],
           [
            1,
            "rgb(8,48,107)"
           ]
          ],
          "line": {
           "color": "Grey",
           "width": 0.5
          },
          "showscale": false
         },
         "mode": "markers",
         "showlegend": false,
         "type": "scatter",
         "x": [
          4,
          4,
          16,
          16,
          4,
          32,
          32,
          32,
          32,
          32,
          32,
          32,
          32,
          32,
          32,
          32,
          32,
          32,
          32,
          32,
          32,
          32,
          32,
          32,
          32,
          32,
          32,
          32,
          32,
          32,
          32,
          32,
          32,
          32,
          32,
          32,
          32,
          32,
          32,
          32,
          32,
          32,
          32,
          32,
          32,
          32,
          32,
          32,
          32,
          32,
          32,
          32,
          32,
          32,
          32,
          32,
          32,
          32,
          32
         ],
         "xaxis": "x8",
         "y": [
          1.812164545059204,
          1.9857855439186096,
          1.4399656738553728,
          0.9873409952436175,
          1.7214326858520508,
          0.616194739405598,
          1.188650471823556,
          0.8168594177280154,
          1.1352876041616713,
          1.1398512039865767,
          0.7569529925073896,
          0.9585012452942985,
          0.9695310039179665,
          0.946243724652699,
          0.958675035408565,
          1.009617188147136,
          0.9599842344011579,
          0.8376542414937701,
          0.9108065153871264,
          0.8665897782359805,
          0.8809834399393627,
          0.8871953849281583,
          0.7621744785990033,
          0.8735854838575635,
          0.9237974115780422,
          0.7840889607157026,
          0.7749790166105542,
          0.7750482559204102,
          0.7765713823693139,
          0.8394670358725956,
          0.9472435755389077,
          0.8710245277200427,
          0.7099234653370721,
          0.8147427375827517,
          0.8638606135334287,
          0.771658392889159,
          0.9019172745091575,
          0.8942599360431943,
          0.795051885502679,
          0.8417665979691914,
          0.8310656504971641,
          0.8437832338469369,
          0.7632385939359665,
          0.7706189453601837,
          0.6901945216315133,
          0.727678697024073,
          0.8120741077831813,
          0.8648254807506289,
          0.834171222788947,
          0.7786796774183001,
          0.8802014504160199,
          0.9061854609421321,
          0.7781474505152021,
          0.7746222870690482,
          0.7974858390433448,
          0.7504929687295642,
          0.8712416525397982,
          0.8891535529068538,
          0.7125805531229291
         ],
         "yaxis": "y8"
        },
        {
         "marker": {
          "color": [
           8,
           16,
           18,
           23,
           24,
           26,
           27,
           28,
           38,
           48,
           49,
           50,
           76,
           77,
           79,
           80,
           83,
           84,
           85,
           91,
           93,
           96,
           100,
           101,
           128,
           131,
           132,
           133,
           139,
           142,
           143,
           148,
           173,
           177,
           178,
           180,
           182,
           184,
           185,
           186,
           187,
           189,
           193,
           197,
           198,
           203,
           208,
           209,
           211,
           213,
           216,
           218,
           226,
           233,
           250
          ],
          "colorbar": {
           "title": {
            "text": "#Trials"
           },
           "x": 1,
           "xpad": 40
          },
          "colorscale": [
           [
            0,
            "rgb(247,251,255)"
           ],
           [
            0.125,
            "rgb(222,235,247)"
           ],
           [
            0.25,
            "rgb(198,219,239)"
           ],
           [
            0.375,
            "rgb(158,202,225)"
           ],
           [
            0.5,
            "rgb(107,174,214)"
           ],
           [
            0.625,
            "rgb(66,146,198)"
           ],
           [
            0.75,
            "rgb(33,113,181)"
           ],
           [
            0.875,
            "rgb(8,81,156)"
           ],
           [
            1,
            "rgb(8,48,107)"
           ]
          ],
          "line": {
           "color": "Grey",
           "width": 0.5
          },
          "showscale": false
         },
         "mode": "markers",
         "showlegend": false,
         "type": "scatter",
         "x": [
          4,
          32,
          32,
          32,
          16,
          16,
          16,
          16,
          32,
          16,
          16,
          16,
          16,
          16,
          16,
          16,
          16,
          32,
          32,
          16,
          16,
          16,
          16,
          16,
          16,
          16,
          16,
          16,
          32,
          32,
          32,
          32,
          32,
          32,
          32,
          32,
          32,
          32,
          32,
          32,
          32,
          32,
          32,
          32,
          32,
          32,
          32,
          32,
          32,
          32,
          32,
          32,
          32,
          32,
          32
         ],
         "xaxis": "x9",
         "y": [
          1.9857855439186096,
          1.4399656738553728,
          0.9873409952436175,
          0.616194739405598,
          1.188650471823556,
          0.8168594177280154,
          1.1352876041616713,
          1.1398512039865767,
          0.7569529925073896,
          0.9585012452942985,
          0.9695310039179665,
          0.946243724652699,
          0.9599842344011579,
          0.8376542414937701,
          0.9108065153871264,
          0.8665897782359805,
          0.8809834399393627,
          0.8871953849281583,
          0.7621744785990033,
          0.8735854838575635,
          0.9237974115780422,
          0.7840889607157026,
          0.7749790166105542,
          0.7750482559204102,
          0.7765713823693139,
          0.8394670358725956,
          0.9472435755389077,
          0.8710245277200427,
          0.7099234653370721,
          0.8147427375827517,
          0.8638606135334287,
          0.771658392889159,
          0.9019172745091575,
          0.8942599360431943,
          0.795051885502679,
          0.8417665979691914,
          0.8310656504971641,
          0.8437832338469369,
          0.7632385939359665,
          0.7706189453601837,
          0.6901945216315133,
          0.727678697024073,
          0.8120741077831813,
          0.8648254807506289,
          0.834171222788947,
          0.7786796774183001,
          0.8802014504160199,
          0.9061854609421321,
          0.7781474505152021,
          0.7746222870690482,
          0.7974858390433448,
          0.7504929687295642,
          0.8712416525397982,
          0.8891535529068538,
          0.7125805531229291
         ],
         "yaxis": "y9"
        },
        {
         "marker": {
          "color": [
           8
          ],
          "colorbar": {
           "title": {
            "text": "#Trials"
           },
           "x": 1,
           "xpad": 40
          },
          "colorscale": [
           [
            0,
            "rgb(247,251,255)"
           ],
           [
            0.125,
            "rgb(222,235,247)"
           ],
           [
            0.25,
            "rgb(198,219,239)"
           ],
           [
            0.375,
            "rgb(158,202,225)"
           ],
           [
            0.5,
            "rgb(107,174,214)"
           ],
           [
            0.625,
            "rgb(66,146,198)"
           ],
           [
            0.75,
            "rgb(33,113,181)"
           ],
           [
            0.875,
            "rgb(8,81,156)"
           ],
           [
            1,
            "rgb(8,48,107)"
           ]
          ],
          "line": {
           "color": "Grey",
           "width": 0.5
          },
          "showscale": false
         },
         "mode": "markers",
         "showlegend": false,
         "type": "scatter",
         "x": [
          8
         ],
         "xaxis": "x10",
         "y": [
          1.9857855439186096
         ],
         "yaxis": "y10"
        },
        {
         "marker": {
          "color": [
           8
          ],
          "colorbar": {
           "title": {
            "text": "#Trials"
           },
           "x": 1,
           "xpad": 40
          },
          "colorscale": [
           [
            0,
            "rgb(247,251,255)"
           ],
           [
            0.125,
            "rgb(222,235,247)"
           ],
           [
            0.25,
            "rgb(198,219,239)"
           ],
           [
            0.375,
            "rgb(158,202,225)"
           ],
           [
            0.5,
            "rgb(107,174,214)"
           ],
           [
            0.625,
            "rgb(66,146,198)"
           ],
           [
            0.75,
            "rgb(33,113,181)"
           ],
           [
            0.875,
            "rgb(8,81,156)"
           ],
           [
            1,
            "rgb(8,48,107)"
           ]
          ],
          "line": {
           "color": "Grey",
           "width": 0.5
          },
          "showscale": false
         },
         "mode": "markers",
         "showlegend": false,
         "type": "scatter",
         "x": [
          8
         ],
         "xaxis": "x11",
         "y": [
          1.9857855439186096
         ],
         "yaxis": "y11"
        },
        {
         "marker": {
          "color": [
           8
          ],
          "colorbar": {
           "title": {
            "text": "#Trials"
           },
           "x": 1,
           "xpad": 40
          },
          "colorscale": [
           [
            0,
            "rgb(247,251,255)"
           ],
           [
            0.125,
            "rgb(222,235,247)"
           ],
           [
            0.25,
            "rgb(198,219,239)"
           ],
           [
            0.375,
            "rgb(158,202,225)"
           ],
           [
            0.5,
            "rgb(107,174,214)"
           ],
           [
            0.625,
            "rgb(66,146,198)"
           ],
           [
            0.75,
            "rgb(33,113,181)"
           ],
           [
            0.875,
            "rgb(8,81,156)"
           ],
           [
            1,
            "rgb(8,48,107)"
           ]
          ],
          "line": {
           "color": "Grey",
           "width": 0.5
          },
          "showscale": false
         },
         "mode": "markers",
         "showlegend": false,
         "type": "scatter",
         "x": [
          4
         ],
         "xaxis": "x12",
         "y": [
          1.9857855439186096
         ],
         "yaxis": "y12"
        },
        {
         "marker": {
          "color": [
           7,
           8,
           16,
           18,
           22,
           23,
           24,
           26,
           27,
           28,
           38,
           48,
           49,
           50,
           53,
           60,
           76,
           77,
           79,
           80,
           83,
           84,
           85,
           91,
           93,
           96,
           100,
           101,
           128,
           131,
           132,
           133,
           139,
           142,
           143,
           148,
           173,
           177,
           178,
           180,
           182,
           184,
           185,
           186,
           187,
           189,
           193,
           197,
           198,
           203,
           208,
           209,
           211,
           213,
           216,
           218,
           226,
           233,
           250
          ],
          "colorbar": {
           "title": {
            "text": "#Trials"
           },
           "x": 1,
           "xpad": 40
          },
          "colorscale": [
           [
            0,
            "rgb(247,251,255)"
           ],
           [
            0.125,
            "rgb(222,235,247)"
           ],
           [
            0.25,
            "rgb(198,219,239)"
           ],
           [
            0.375,
            "rgb(158,202,225)"
           ],
           [
            0.5,
            "rgb(107,174,214)"
           ],
           [
            0.625,
            "rgb(66,146,198)"
           ],
           [
            0.75,
            "rgb(33,113,181)"
           ],
           [
            0.875,
            "rgb(8,81,156)"
           ],
           [
            1,
            "rgb(8,48,107)"
           ]
          ],
          "line": {
           "color": "Grey",
           "width": 0.5
          },
          "showscale": false
         },
         "mode": "markers",
         "showlegend": false,
         "type": "scatter",
         "x": [
          0.00002966316664305772,
          0.00014381158555963838,
          0.00002417549728003073,
          0.000151501845118373,
          0.0009630494193250071,
          0.0005326639774392545,
          0.0007749467373889408,
          0.0009982654731498094,
          0.0009796132124212183,
          0.0009544921155668422,
          0.0005761966616826762,
          0.0007582090154366501,
          0.0007225867524783686,
          0.000709337272406868,
          0.0002639789643477375,
          0.0008006079827088428,
          0.0009997658460122122,
          0.0009430913149959177,
          0.0008600428277700377,
          0.0009817940395569946,
          0.0009006314507691913,
          0.00034845604965928984,
          0.0003305180569921421,
          0.0008281339879705072,
          0.0008337340211801091,
          0.0005596454257777803,
          0.0006567452351580049,
          0.0006809805662690481,
          0.0009184615444859138,
          0.0009576349633731777,
          0.000993590774248294,
          0.0009851263083152908,
          0.0003398999551751229,
          0.0005066994621767351,
          0.00019031629117248461,
          0.0008092129634979247,
          0.0007658471033455283,
          0.00026188064236029113,
          0.00022007507909120743,
          0.0006395311431102127,
          0.0006593897930368712,
          0.00013383872389390684,
          0.00025593171701064583,
          0.0004786324131158886,
          0.0006520866440123713,
          0.00045655794448832215,
          0.0003191409723391779,
          0.00032785615928606596,
          0.00032356039821272346,
          0.00037466904117285587,
          0.0005858679188546172,
          0.00041580695925260395,
          0.00036421095173850106,
          0.00023948770262535008,
          0.00042391168139019884,
          0.00024443547303677765,
          0.00029670837008254086,
          0.0005006219751996687,
          0.0003688626457317827
         ],
         "xaxis": "x13",
         "y": [
          1.812164545059204,
          1.9857855439186096,
          1.4399656738553728,
          0.9873409952436175,
          1.7214326858520508,
          0.616194739405598,
          1.188650471823556,
          0.8168594177280154,
          1.1352876041616713,
          1.1398512039865767,
          0.7569529925073896,
          0.9585012452942985,
          0.9695310039179665,
          0.946243724652699,
          0.958675035408565,
          1.009617188147136,
          0.9599842344011579,
          0.8376542414937701,
          0.9108065153871264,
          0.8665897782359805,
          0.8809834399393627,
          0.8871953849281583,
          0.7621744785990033,
          0.8735854838575635,
          0.9237974115780422,
          0.7840889607157026,
          0.7749790166105542,
          0.7750482559204102,
          0.7765713823693139,
          0.8394670358725956,
          0.9472435755389077,
          0.8710245277200427,
          0.7099234653370721,
          0.8147427375827517,
          0.8638606135334287,
          0.771658392889159,
          0.9019172745091575,
          0.8942599360431943,
          0.795051885502679,
          0.8417665979691914,
          0.8310656504971641,
          0.8437832338469369,
          0.7632385939359665,
          0.7706189453601837,
          0.6901945216315133,
          0.727678697024073,
          0.8120741077831813,
          0.8648254807506289,
          0.834171222788947,
          0.7786796774183001,
          0.8802014504160199,
          0.9061854609421321,
          0.7781474505152021,
          0.7746222870690482,
          0.7974858390433448,
          0.7504929687295642,
          0.8712416525397982,
          0.8891535529068538,
          0.7125805531229291
         ],
         "yaxis": "y13"
        },
        {
         "marker": {
          "color": [
           7,
           8,
           16,
           18,
           22,
           23,
           24,
           26,
           27,
           28,
           38,
           48,
           49,
           50,
           53,
           60,
           76,
           77,
           79,
           80,
           83,
           84,
           85,
           91,
           93,
           96,
           100,
           101,
           128,
           131,
           132,
           133,
           139,
           142,
           143,
           148,
           173,
           177,
           178,
           180,
           182,
           184,
           185,
           186,
           187,
           189,
           193,
           197,
           198,
           203,
           208,
           209,
           211,
           213,
           216,
           218,
           226,
           233,
           250
          ],
          "colorbar": {
           "title": {
            "text": "#Trials"
           },
           "x": 1,
           "xpad": 40
          },
          "colorscale": [
           [
            0,
            "rgb(247,251,255)"
           ],
           [
            0.125,
            "rgb(222,235,247)"
           ],
           [
            0.25,
            "rgb(198,219,239)"
           ],
           [
            0.375,
            "rgb(158,202,225)"
           ],
           [
            0.5,
            "rgb(107,174,214)"
           ],
           [
            0.625,
            "rgb(66,146,198)"
           ],
           [
            0.75,
            "rgb(33,113,181)"
           ],
           [
            0.875,
            "rgb(8,81,156)"
           ],
           [
            1,
            "rgb(8,48,107)"
           ]
          ],
          "line": {
           "color": "Grey",
           "width": 0.5
          },
          "showscale": false
         },
         "mode": "markers",
         "showlegend": false,
         "type": "scatter",
         "x": [
          0.831134587698063,
          0.5588979769987626,
          0.17510407475363765,
          0.31347862246439595,
          0.2603141680464186,
          0.7679114313544549,
          0.9877677700122494,
          0.9699512667041257,
          0.017828809696979753,
          0.7093802240949656,
          0.06283267710567836,
          0.01925398306986132,
          0.04068425523388852,
          0.0013339967371125416,
          0.20484232688865894,
          0.2650514198652878,
          0.9266203909961298,
          0.9337533698766612,
          0.9435035634702644,
          0.8965665264449699,
          0.917247207760251,
          0.7403506631023029,
          0.7860073222393786,
          0.9994173423856805,
          0.9647482677491135,
          0.9985948968185239,
          0.8950286434272339,
          0.8771415010623883,
          0.9383028288822775,
          0.9273338543874006,
          0.9217442877583035,
          0.9301154408990784,
          0.743823729537563,
          0.7542028364837716,
          0.7360526374435648,
          0.5604321961113066,
          0.9994592630441113,
          0.7748867247787895,
          0.8124728504687823,
          0.7631782199647398,
          0.8027450867898199,
          0.6901328037822728,
          0.4501606829110856,
          0.7182052875250862,
          0.7056407449483567,
          0.8136052899497872,
          0.7947569383535837,
          0.7278948677810912,
          0.7193070188067962,
          0.7248712628621358,
          0.3960324061020739,
          0.7591099504860868,
          0.748173694189171,
          0.7505057741856106,
          0.7518325200878823,
          0.7847175967286257,
          0.32782085832560826,
          0.7425753027273305,
          0.7973347177914717
         ],
         "xaxis": "x14",
         "y": [
          1.812164545059204,
          1.9857855439186096,
          1.4399656738553728,
          0.9873409952436175,
          1.7214326858520508,
          0.616194739405598,
          1.188650471823556,
          0.8168594177280154,
          1.1352876041616713,
          1.1398512039865767,
          0.7569529925073896,
          0.9585012452942985,
          0.9695310039179665,
          0.946243724652699,
          0.958675035408565,
          1.009617188147136,
          0.9599842344011579,
          0.8376542414937701,
          0.9108065153871264,
          0.8665897782359805,
          0.8809834399393627,
          0.8871953849281583,
          0.7621744785990033,
          0.8735854838575635,
          0.9237974115780422,
          0.7840889607157026,
          0.7749790166105542,
          0.7750482559204102,
          0.7765713823693139,
          0.8394670358725956,
          0.9472435755389077,
          0.8710245277200427,
          0.7099234653370721,
          0.8147427375827517,
          0.8638606135334287,
          0.771658392889159,
          0.9019172745091575,
          0.8942599360431943,
          0.795051885502679,
          0.8417665979691914,
          0.8310656504971641,
          0.8437832338469369,
          0.7632385939359665,
          0.7706189453601837,
          0.6901945216315133,
          0.727678697024073,
          0.8120741077831813,
          0.8648254807506289,
          0.834171222788947,
          0.7786796774183001,
          0.8802014504160199,
          0.9061854609421321,
          0.7781474505152021,
          0.7746222870690482,
          0.7974858390433448,
          0.7504929687295642,
          0.8712416525397982,
          0.8891535529068538,
          0.7125805531229291
         ],
         "yaxis": "y14"
        },
        {
         "marker": {
          "color": [
           7,
           8,
           16,
           18,
           22,
           23,
           24,
           26,
           27,
           28,
           38,
           48,
           49,
           50,
           53,
           60,
           76,
           77,
           79,
           80,
           83,
           84,
           85,
           91,
           93,
           96,
           100,
           101,
           128,
           131,
           132,
           133,
           139,
           142,
           143,
           148,
           173,
           177,
           178,
           180,
           182,
           184,
           185,
           186,
           187,
           189,
           193,
           197,
           198,
           203,
           208,
           209,
           211,
           213,
           216,
           218,
           226,
           233,
           250
          ],
          "colorbar": {
           "title": {
            "text": "#Trials"
           },
           "x": 1,
           "xpad": 40
          },
          "colorscale": [
           [
            0,
            "rgb(247,251,255)"
           ],
           [
            0.125,
            "rgb(222,235,247)"
           ],
           [
            0.25,
            "rgb(198,219,239)"
           ],
           [
            0.375,
            "rgb(158,202,225)"
           ],
           [
            0.5,
            "rgb(107,174,214)"
           ],
           [
            0.625,
            "rgb(66,146,198)"
           ],
           [
            0.75,
            "rgb(33,113,181)"
           ],
           [
            0.875,
            "rgb(8,81,156)"
           ],
           [
            1,
            "rgb(8,48,107)"
           ]
          ],
          "line": {
           "color": "Grey",
           "width": 0.5
          },
          "showscale": false
         },
         "mode": "markers",
         "showlegend": false,
         "type": "scatter",
         "x": [
          1,
          5,
          2,
          2,
          1,
          2,
          2,
          2,
          2,
          2,
          2,
          2,
          2,
          2,
          1,
          1,
          2,
          2,
          2,
          2,
          2,
          2,
          2,
          2,
          2,
          2,
          2,
          2,
          2,
          2,
          2,
          2,
          2,
          2,
          2,
          2,
          2,
          2,
          2,
          2,
          2,
          2,
          2,
          2,
          2,
          2,
          2,
          2,
          2,
          2,
          2,
          2,
          2,
          2,
          2,
          2,
          2,
          2,
          2
         ],
         "xaxis": "x15",
         "y": [
          1.812164545059204,
          1.9857855439186096,
          1.4399656738553728,
          0.9873409952436175,
          1.7214326858520508,
          0.616194739405598,
          1.188650471823556,
          0.8168594177280154,
          1.1352876041616713,
          1.1398512039865767,
          0.7569529925073896,
          0.9585012452942985,
          0.9695310039179665,
          0.946243724652699,
          0.958675035408565,
          1.009617188147136,
          0.9599842344011579,
          0.8376542414937701,
          0.9108065153871264,
          0.8665897782359805,
          0.8809834399393627,
          0.8871953849281583,
          0.7621744785990033,
          0.8735854838575635,
          0.9237974115780422,
          0.7840889607157026,
          0.7749790166105542,
          0.7750482559204102,
          0.7765713823693139,
          0.8394670358725956,
          0.9472435755389077,
          0.8710245277200427,
          0.7099234653370721,
          0.8147427375827517,
          0.8638606135334287,
          0.771658392889159,
          0.9019172745091575,
          0.8942599360431943,
          0.795051885502679,
          0.8417665979691914,
          0.8310656504971641,
          0.8437832338469369,
          0.7632385939359665,
          0.7706189453601837,
          0.6901945216315133,
          0.727678697024073,
          0.8120741077831813,
          0.8648254807506289,
          0.834171222788947,
          0.7786796774183001,
          0.8802014504160199,
          0.9061854609421321,
          0.7781474505152021,
          0.7746222870690482,
          0.7974858390433448,
          0.7504929687295642,
          0.8712416525397982,
          0.8891535529068538,
          0.7125805531229291
         ],
         "yaxis": "y15"
        },
        {
         "marker": {
          "color": [
           7,
           8,
           16,
           18,
           22,
           23,
           24,
           26,
           27,
           28,
           38,
           48,
           49,
           50,
           53,
           60,
           76,
           77,
           79,
           80,
           83,
           84,
           85,
           91,
           93,
           96,
           100,
           101,
           128,
           131,
           132,
           133,
           139,
           142,
           143,
           148,
           173,
           177,
           178,
           180,
           182,
           184,
           185,
           186,
           187,
           189,
           193,
           197,
           198,
           203,
           208,
           209,
           211,
           213,
           216,
           218,
           226,
           233,
           250
          ],
          "colorbar": {
           "title": {
            "text": "#Trials"
           },
           "x": 1,
           "xpad": 40
          },
          "colorscale": [
           [
            0,
            "rgb(247,251,255)"
           ],
           [
            0.125,
            "rgb(222,235,247)"
           ],
           [
            0.25,
            "rgb(198,219,239)"
           ],
           [
            0.375,
            "rgb(158,202,225)"
           ],
           [
            0.5,
            "rgb(107,174,214)"
           ],
           [
            0.625,
            "rgb(66,146,198)"
           ],
           [
            0.75,
            "rgb(33,113,181)"
           ],
           [
            0.875,
            "rgb(8,81,156)"
           ],
           [
            1,
            "rgb(8,48,107)"
           ]
          ],
          "line": {
           "color": "Grey",
           "width": 0.5
          },
          "showscale": false
         },
         "mode": "markers",
         "showlegend": false,
         "type": "scatter",
         "x": [
          "adam",
          "sgd",
          "adam",
          "adam",
          "sgd",
          "adam",
          "adam",
          "adam",
          "adam",
          "adam",
          "adam",
          "adam",
          "adam",
          "adam",
          "adam",
          "adam",
          "adam",
          "adam",
          "adam",
          "adam",
          "adam",
          "adam",
          "adam",
          "adam",
          "adam",
          "adam",
          "adam",
          "adam",
          "adam",
          "adam",
          "adam",
          "adam",
          "adam",
          "adam",
          "adam",
          "adam",
          "adam",
          "adam",
          "adam",
          "adam",
          "adam",
          "adam",
          "adam",
          "adam",
          "adam",
          "adam",
          "adam",
          "adam",
          "adam",
          "adam",
          "adam",
          "adam",
          "adam",
          "adam",
          "adam",
          "adam",
          "adam",
          "adam",
          "adam"
         ],
         "xaxis": "x16",
         "y": [
          1.812164545059204,
          1.9857855439186096,
          1.4399656738553728,
          0.9873409952436175,
          1.7214326858520508,
          0.616194739405598,
          1.188650471823556,
          0.8168594177280154,
          1.1352876041616713,
          1.1398512039865767,
          0.7569529925073896,
          0.9585012452942985,
          0.9695310039179665,
          0.946243724652699,
          0.958675035408565,
          1.009617188147136,
          0.9599842344011579,
          0.8376542414937701,
          0.9108065153871264,
          0.8665897782359805,
          0.8809834399393627,
          0.8871953849281583,
          0.7621744785990033,
          0.8735854838575635,
          0.9237974115780422,
          0.7840889607157026,
          0.7749790166105542,
          0.7750482559204102,
          0.7765713823693139,
          0.8394670358725956,
          0.9472435755389077,
          0.8710245277200427,
          0.7099234653370721,
          0.8147427375827517,
          0.8638606135334287,
          0.771658392889159,
          0.9019172745091575,
          0.8942599360431943,
          0.795051885502679,
          0.8417665979691914,
          0.8310656504971641,
          0.8437832338469369,
          0.7632385939359665,
          0.7706189453601837,
          0.6901945216315133,
          0.727678697024073,
          0.8120741077831813,
          0.8648254807506289,
          0.834171222788947,
          0.7786796774183001,
          0.8802014504160199,
          0.9061854609421321,
          0.7781474505152021,
          0.7746222870690482,
          0.7974858390433448,
          0.7504929687295642,
          0.8712416525397982,
          0.8891535529068538,
          0.7125805531229291
         ],
         "yaxis": "y16"
        }
       ],
       "layout": {
        "font": {
         "color": "black",
         "family": "Arial",
         "size": 20
        },
        "height": 500,
        "template": {
         "data": {
          "bar": [
           {
            "error_x": {
             "color": "#2a3f5f"
            },
            "error_y": {
             "color": "#2a3f5f"
            },
            "marker": {
             "line": {
              "color": "#E5ECF6",
              "width": 0.5
             },
             "pattern": {
              "fillmode": "overlay",
              "size": 10,
              "solidity": 0.2
             }
            },
            "type": "bar"
           }
          ],
          "barpolar": [
           {
            "marker": {
             "line": {
              "color": "#E5ECF6",
              "width": 0.5
             },
             "pattern": {
              "fillmode": "overlay",
              "size": 10,
              "solidity": 0.2
             }
            },
            "type": "barpolar"
           }
          ],
          "carpet": [
           {
            "aaxis": {
             "endlinecolor": "#2a3f5f",
             "gridcolor": "white",
             "linecolor": "white",
             "minorgridcolor": "white",
             "startlinecolor": "#2a3f5f"
            },
            "baxis": {
             "endlinecolor": "#2a3f5f",
             "gridcolor": "white",
             "linecolor": "white",
             "minorgridcolor": "white",
             "startlinecolor": "#2a3f5f"
            },
            "type": "carpet"
           }
          ],
          "choropleth": [
           {
            "colorbar": {
             "outlinewidth": 0,
             "ticks": ""
            },
            "type": "choropleth"
           }
          ],
          "contour": [
           {
            "colorbar": {
             "outlinewidth": 0,
             "ticks": ""
            },
            "colorscale": [
             [
              0,
              "#0d0887"
             ],
             [
              0.1111111111111111,
              "#46039f"
             ],
             [
              0.2222222222222222,
              "#7201a8"
             ],
             [
              0.3333333333333333,
              "#9c179e"
             ],
             [
              0.4444444444444444,
              "#bd3786"
             ],
             [
              0.5555555555555556,
              "#d8576b"
             ],
             [
              0.6666666666666666,
              "#ed7953"
             ],
             [
              0.7777777777777778,
              "#fb9f3a"
             ],
             [
              0.8888888888888888,
              "#fdca26"
             ],
             [
              1,
              "#f0f921"
             ]
            ],
            "type": "contour"
           }
          ],
          "contourcarpet": [
           {
            "colorbar": {
             "outlinewidth": 0,
             "ticks": ""
            },
            "type": "contourcarpet"
           }
          ],
          "heatmap": [
           {
            "colorbar": {
             "outlinewidth": 0,
             "ticks": ""
            },
            "colorscale": [
             [
              0,
              "#0d0887"
             ],
             [
              0.1111111111111111,
              "#46039f"
             ],
             [
              0.2222222222222222,
              "#7201a8"
             ],
             [
              0.3333333333333333,
              "#9c179e"
             ],
             [
              0.4444444444444444,
              "#bd3786"
             ],
             [
              0.5555555555555556,
              "#d8576b"
             ],
             [
              0.6666666666666666,
              "#ed7953"
             ],
             [
              0.7777777777777778,
              "#fb9f3a"
             ],
             [
              0.8888888888888888,
              "#fdca26"
             ],
             [
              1,
              "#f0f921"
             ]
            ],
            "type": "heatmap"
           }
          ],
          "heatmapgl": [
           {
            "colorbar": {
             "outlinewidth": 0,
             "ticks": ""
            },
            "colorscale": [
             [
              0,
              "#0d0887"
             ],
             [
              0.1111111111111111,
              "#46039f"
             ],
             [
              0.2222222222222222,
              "#7201a8"
             ],
             [
              0.3333333333333333,
              "#9c179e"
             ],
             [
              0.4444444444444444,
              "#bd3786"
             ],
             [
              0.5555555555555556,
              "#d8576b"
             ],
             [
              0.6666666666666666,
              "#ed7953"
             ],
             [
              0.7777777777777778,
              "#fb9f3a"
             ],
             [
              0.8888888888888888,
              "#fdca26"
             ],
             [
              1,
              "#f0f921"
             ]
            ],
            "type": "heatmapgl"
           }
          ],
          "histogram": [
           {
            "marker": {
             "pattern": {
              "fillmode": "overlay",
              "size": 10,
              "solidity": 0.2
             }
            },
            "type": "histogram"
           }
          ],
          "histogram2d": [
           {
            "colorbar": {
             "outlinewidth": 0,
             "ticks": ""
            },
            "colorscale": [
             [
              0,
              "#0d0887"
             ],
             [
              0.1111111111111111,
              "#46039f"
             ],
             [
              0.2222222222222222,
              "#7201a8"
             ],
             [
              0.3333333333333333,
              "#9c179e"
             ],
             [
              0.4444444444444444,
              "#bd3786"
             ],
             [
              0.5555555555555556,
              "#d8576b"
             ],
             [
              0.6666666666666666,
              "#ed7953"
             ],
             [
              0.7777777777777778,
              "#fb9f3a"
             ],
             [
              0.8888888888888888,
              "#fdca26"
             ],
             [
              1,
              "#f0f921"
             ]
            ],
            "type": "histogram2d"
           }
          ],
          "histogram2dcontour": [
           {
            "colorbar": {
             "outlinewidth": 0,
             "ticks": ""
            },
            "colorscale": [
             [
              0,
              "#0d0887"
             ],
             [
              0.1111111111111111,
              "#46039f"
             ],
             [
              0.2222222222222222,
              "#7201a8"
             ],
             [
              0.3333333333333333,
              "#9c179e"
             ],
             [
              0.4444444444444444,
              "#bd3786"
             ],
             [
              0.5555555555555556,
              "#d8576b"
             ],
             [
              0.6666666666666666,
              "#ed7953"
             ],
             [
              0.7777777777777778,
              "#fb9f3a"
             ],
             [
              0.8888888888888888,
              "#fdca26"
             ],
             [
              1,
              "#f0f921"
             ]
            ],
            "type": "histogram2dcontour"
           }
          ],
          "mesh3d": [
           {
            "colorbar": {
             "outlinewidth": 0,
             "ticks": ""
            },
            "type": "mesh3d"
           }
          ],
          "parcoords": [
           {
            "line": {
             "colorbar": {
              "outlinewidth": 0,
              "ticks": ""
             }
            },
            "type": "parcoords"
           }
          ],
          "pie": [
           {
            "automargin": true,
            "type": "pie"
           }
          ],
          "scatter": [
           {
            "fillpattern": {
             "fillmode": "overlay",
             "size": 10,
             "solidity": 0.2
            },
            "type": "scatter"
           }
          ],
          "scatter3d": [
           {
            "line": {
             "colorbar": {
              "outlinewidth": 0,
              "ticks": ""
             }
            },
            "marker": {
             "colorbar": {
              "outlinewidth": 0,
              "ticks": ""
             }
            },
            "type": "scatter3d"
           }
          ],
          "scattercarpet": [
           {
            "marker": {
             "colorbar": {
              "outlinewidth": 0,
              "ticks": ""
             }
            },
            "type": "scattercarpet"
           }
          ],
          "scattergeo": [
           {
            "marker": {
             "colorbar": {
              "outlinewidth": 0,
              "ticks": ""
             }
            },
            "type": "scattergeo"
           }
          ],
          "scattergl": [
           {
            "marker": {
             "colorbar": {
              "outlinewidth": 0,
              "ticks": ""
             }
            },
            "type": "scattergl"
           }
          ],
          "scattermapbox": [
           {
            "marker": {
             "colorbar": {
              "outlinewidth": 0,
              "ticks": ""
             }
            },
            "type": "scattermapbox"
           }
          ],
          "scatterpolar": [
           {
            "marker": {
             "colorbar": {
              "outlinewidth": 0,
              "ticks": ""
             }
            },
            "type": "scatterpolar"
           }
          ],
          "scatterpolargl": [
           {
            "marker": {
             "colorbar": {
              "outlinewidth": 0,
              "ticks": ""
             }
            },
            "type": "scatterpolargl"
           }
          ],
          "scatterternary": [
           {
            "marker": {
             "colorbar": {
              "outlinewidth": 0,
              "ticks": ""
             }
            },
            "type": "scatterternary"
           }
          ],
          "surface": [
           {
            "colorbar": {
             "outlinewidth": 0,
             "ticks": ""
            },
            "colorscale": [
             [
              0,
              "#0d0887"
             ],
             [
              0.1111111111111111,
              "#46039f"
             ],
             [
              0.2222222222222222,
              "#7201a8"
             ],
             [
              0.3333333333333333,
              "#9c179e"
             ],
             [
              0.4444444444444444,
              "#bd3786"
             ],
             [
              0.5555555555555556,
              "#d8576b"
             ],
             [
              0.6666666666666666,
              "#ed7953"
             ],
             [
              0.7777777777777778,
              "#fb9f3a"
             ],
             [
              0.8888888888888888,
              "#fdca26"
             ],
             [
              1,
              "#f0f921"
             ]
            ],
            "type": "surface"
           }
          ],
          "table": [
           {
            "cells": {
             "fill": {
              "color": "#EBF0F8"
             },
             "line": {
              "color": "white"
             }
            },
            "header": {
             "fill": {
              "color": "#C8D4E3"
             },
             "line": {
              "color": "white"
             }
            },
            "type": "table"
           }
          ]
         },
         "layout": {
          "annotationdefaults": {
           "arrowcolor": "#2a3f5f",
           "arrowhead": 0,
           "arrowwidth": 1
          },
          "autotypenumbers": "strict",
          "coloraxis": {
           "colorbar": {
            "outlinewidth": 0,
            "ticks": ""
           }
          },
          "colorscale": {
           "diverging": [
            [
             0,
             "#8e0152"
            ],
            [
             0.1,
             "#c51b7d"
            ],
            [
             0.2,
             "#de77ae"
            ],
            [
             0.3,
             "#f1b6da"
            ],
            [
             0.4,
             "#fde0ef"
            ],
            [
             0.5,
             "#f7f7f7"
            ],
            [
             0.6,
             "#e6f5d0"
            ],
            [
             0.7,
             "#b8e186"
            ],
            [
             0.8,
             "#7fbc41"
            ],
            [
             0.9,
             "#4d9221"
            ],
            [
             1,
             "#276419"
            ]
           ],
           "sequential": [
            [
             0,
             "#0d0887"
            ],
            [
             0.1111111111111111,
             "#46039f"
            ],
            [
             0.2222222222222222,
             "#7201a8"
            ],
            [
             0.3333333333333333,
             "#9c179e"
            ],
            [
             0.4444444444444444,
             "#bd3786"
            ],
            [
             0.5555555555555556,
             "#d8576b"
            ],
            [
             0.6666666666666666,
             "#ed7953"
            ],
            [
             0.7777777777777778,
             "#fb9f3a"
            ],
            [
             0.8888888888888888,
             "#fdca26"
            ],
            [
             1,
             "#f0f921"
            ]
           ],
           "sequentialminus": [
            [
             0,
             "#0d0887"
            ],
            [
             0.1111111111111111,
             "#46039f"
            ],
            [
             0.2222222222222222,
             "#7201a8"
            ],
            [
             0.3333333333333333,
             "#9c179e"
            ],
            [
             0.4444444444444444,
             "#bd3786"
            ],
            [
             0.5555555555555556,
             "#d8576b"
            ],
            [
             0.6666666666666666,
             "#ed7953"
            ],
            [
             0.7777777777777778,
             "#fb9f3a"
            ],
            [
             0.8888888888888888,
             "#fdca26"
            ],
            [
             1,
             "#f0f921"
            ]
           ]
          },
          "colorway": [
           "#636efa",
           "#EF553B",
           "#00cc96",
           "#ab63fa",
           "#FFA15A",
           "#19d3f3",
           "#FF6692",
           "#B6E880",
           "#FF97FF",
           "#FECB52"
          ],
          "font": {
           "color": "#2a3f5f"
          },
          "geo": {
           "bgcolor": "white",
           "lakecolor": "white",
           "landcolor": "#E5ECF6",
           "showlakes": true,
           "showland": true,
           "subunitcolor": "white"
          },
          "hoverlabel": {
           "align": "left"
          },
          "hovermode": "closest",
          "mapbox": {
           "style": "light"
          },
          "paper_bgcolor": "white",
          "plot_bgcolor": "#E5ECF6",
          "polar": {
           "angularaxis": {
            "gridcolor": "white",
            "linecolor": "white",
            "ticks": ""
           },
           "bgcolor": "#E5ECF6",
           "radialaxis": {
            "gridcolor": "white",
            "linecolor": "white",
            "ticks": ""
           }
          },
          "scene": {
           "xaxis": {
            "backgroundcolor": "#E5ECF6",
            "gridcolor": "white",
            "gridwidth": 2,
            "linecolor": "white",
            "showbackground": true,
            "ticks": "",
            "zerolinecolor": "white"
           },
           "yaxis": {
            "backgroundcolor": "#E5ECF6",
            "gridcolor": "white",
            "gridwidth": 2,
            "linecolor": "white",
            "showbackground": true,
            "ticks": "",
            "zerolinecolor": "white"
           },
           "zaxis": {
            "backgroundcolor": "#E5ECF6",
            "gridcolor": "white",
            "gridwidth": 2,
            "linecolor": "white",
            "showbackground": true,
            "ticks": "",
            "zerolinecolor": "white"
           }
          },
          "shapedefaults": {
           "line": {
            "color": "#2a3f5f"
           }
          },
          "ternary": {
           "aaxis": {
            "gridcolor": "white",
            "linecolor": "white",
            "ticks": ""
           },
           "baxis": {
            "gridcolor": "white",
            "linecolor": "white",
            "ticks": ""
           },
           "bgcolor": "#E5ECF6",
           "caxis": {
            "gridcolor": "white",
            "linecolor": "white",
            "ticks": ""
           }
          },
          "title": {
           "x": 0.05
          },
          "xaxis": {
           "automargin": true,
           "gridcolor": "white",
           "linecolor": "white",
           "ticks": "",
           "title": {
            "standoff": 15
           },
           "zerolinecolor": "white",
           "zerolinewidth": 2
          },
          "yaxis": {
           "automargin": true,
           "gridcolor": "white",
           "linecolor": "white",
           "ticks": "",
           "title": {
            "standoff": 15
           },
           "zerolinecolor": "white",
           "zerolinewidth": 2
          }
         }
        },
        "title": {
         "text": "Slice Plot"
        },
        "width": 7000,
        "xaxis": {
         "anchor": "y",
         "domain": [
          0,
          0.05078125
         ],
         "title": {
          "text": "cell_width_pct"
         }
        },
        "xaxis10": {
         "anchor": "y10",
         "domain": [
          0.56953125,
          0.6203125
         ],
         "title": {
          "text": "layer_2"
         }
        },
        "xaxis11": {
         "anchor": "y11",
         "domain": [
          0.6328125,
          0.68359375
         ],
         "title": {
          "text": "layer_3"
         }
        },
        "xaxis12": {
         "anchor": "y12",
         "domain": [
          0.69609375,
          0.746875
         ],
         "title": {
          "text": "layer_4"
         }
        },
        "xaxis13": {
         "anchor": "y13",
         "domain": [
          0.759375,
          0.81015625
         ],
         "title": {
          "text": "lr"
         },
         "type": "log"
        },
        "xaxis14": {
         "anchor": "y14",
         "domain": [
          0.82265625,
          0.8734375
         ],
         "title": {
          "text": "momentum"
         }
        },
        "xaxis15": {
         "anchor": "y15",
         "domain": [
          0.8859375,
          0.93671875
         ],
         "title": {
          "text": "num_layers"
         }
        },
        "xaxis16": {
         "anchor": "y16",
         "domain": [
          0.94921875,
          1
         ],
         "title": {
          "text": "optim"
         }
        },
        "xaxis2": {
         "anchor": "y2",
         "domain": [
          0.06328125,
          0.1140625
         ],
         "title": {
          "text": "clip_max_norm"
         }
        },
        "xaxis3": {
         "anchor": "y3",
         "domain": [
          0.1265625,
          0.17734375
         ],
         "title": {
          "text": "conv_kernel_size"
         }
        },
        "xaxis4": {
         "anchor": "y4",
         "domain": [
          0.18984375,
          0.240625
         ],
         "title": {
          "text": "downsample"
         }
        },
        "xaxis5": {
         "anchor": "y5",
         "domain": [
          0.253125,
          0.30390625
         ],
         "title": {
          "text": "downsample_dim"
         }
        },
        "xaxis6": {
         "anchor": "y6",
         "domain": [
          0.31640625,
          0.3671875
         ],
         "title": {
          "text": "guassian_blur"
         }
        },
        "xaxis7": {
         "anchor": "y7",
         "domain": [
          0.3796875,
          0.43046875
         ],
         "title": {
          "text": "guassian_sigma"
         }
        },
        "xaxis8": {
         "anchor": "y8",
         "domain": [
          0.44296875,
          0.49375
         ],
         "title": {
          "text": "layer_0"
         }
        },
        "xaxis9": {
         "anchor": "y9",
         "domain": [
          0.50625,
          0.55703125
         ],
         "title": {
          "text": "layer_1"
         }
        },
        "yaxis": {
         "anchor": "x",
         "domain": [
          0,
          1
         ],
         "title": {
          "text": "Objective Value"
         }
        },
        "yaxis10": {
         "anchor": "x10",
         "domain": [
          0,
          1
         ],
         "matches": "y",
         "showticklabels": false
        },
        "yaxis11": {
         "anchor": "x11",
         "domain": [
          0,
          1
         ],
         "matches": "y",
         "showticklabels": false
        },
        "yaxis12": {
         "anchor": "x12",
         "domain": [
          0,
          1
         ],
         "matches": "y",
         "showticklabels": false
        },
        "yaxis13": {
         "anchor": "x13",
         "domain": [
          0,
          1
         ],
         "matches": "y",
         "showticklabels": false
        },
        "yaxis14": {
         "anchor": "x14",
         "domain": [
          0,
          1
         ],
         "matches": "y",
         "showticklabels": false
        },
        "yaxis15": {
         "anchor": "x15",
         "domain": [
          0,
          1
         ],
         "matches": "y",
         "showticklabels": false
        },
        "yaxis16": {
         "anchor": "x16",
         "domain": [
          0,
          1
         ],
         "matches": "y",
         "showticklabels": false
        },
        "yaxis2": {
         "anchor": "x2",
         "domain": [
          0,
          1
         ],
         "matches": "y",
         "showticklabels": false
        },
        "yaxis3": {
         "anchor": "x3",
         "domain": [
          0,
          1
         ],
         "matches": "y",
         "showticklabels": false
        },
        "yaxis4": {
         "anchor": "x4",
         "domain": [
          0,
          1
         ],
         "matches": "y",
         "showticklabels": false
        },
        "yaxis5": {
         "anchor": "x5",
         "domain": [
          0,
          1
         ],
         "matches": "y",
         "showticklabels": false
        },
        "yaxis6": {
         "anchor": "x6",
         "domain": [
          0,
          1
         ],
         "matches": "y",
         "showticklabels": false
        },
        "yaxis7": {
         "anchor": "x7",
         "domain": [
          0,
          1
         ],
         "matches": "y",
         "showticklabels": false
        },
        "yaxis8": {
         "anchor": "x8",
         "domain": [
          0,
          1
         ],
         "matches": "y",
         "showticklabels": false
        },
        "yaxis9": {
         "anchor": "x9",
         "domain": [
          0,
          1
         ],
         "matches": "y",
         "showticklabels": false
        }
       }
      }
     },
     "metadata": {},
     "output_type": "display_data"
    }
   ],
   "source": [
    "fig = optuna.visualization.plot_slice(peanut)\n",
    "fig.update_layout(width=7000, height=500, font=dict(family='Arial', size=20, color='black'))\n",
    "fig.show()"
   ]
  },
  {
   "cell_type": "code",
   "execution_count": 52,
   "metadata": {},
   "outputs": [
    {
     "data": {
      "application/vnd.plotly.v1+json": {
       "config": {
        "plotlyServerURL": "https://plot.ly"
       },
       "data": [
        {
         "colorbar": {
          "title": {
           "text": "Objective Value"
          }
         },
         "colorscale": [
          [
           0,
           "rgb(5,10,172)"
          ],
          [
           0.35,
           "rgb(40,60,190)"
          ],
          [
           0.5,
           "rgb(70,100,245)"
          ],
          [
           0.6,
           "rgb(90,120,245)"
          ],
          [
           0.7,
           "rgb(106,137,247)"
          ],
          [
           1,
           "rgb(220,220,220)"
          ]
         ],
         "connectgaps": true,
         "contours": {
          "coloring": "heatmap"
         },
         "hoverinfo": "none",
         "line": {
          "smoothing": 1.3
         },
         "reversescale": true,
         "type": "contour",
         "x": [
          2.5999999999999996,
          4,
          16,
          32,
          33.4
         ],
         "y": [
          2.5999999999999996,
          4,
          16,
          32,
          33.4
         ],
         "z": [
          [
           null,
           null,
           null,
           null,
           null
          ],
          [
           null,
           1.9857855439186096,
           null,
           null,
           null
          ],
          [
           null,
           null,
           null,
           0.8710245277200427,
           null
          ],
          [
           null,
           null,
           0.9873409952436175,
           0.7125805531229291,
           null
          ],
          [
           null,
           null,
           null,
           null,
           null
          ]
         ]
        },
        {
         "marker": {
          "color": "black",
          "line": {
           "color": "Grey",
           "width": 0.5
          }
         },
         "mode": "markers",
         "showlegend": false,
         "type": "scatter",
         "x": [
          4,
          16,
          16,
          32,
          32,
          32,
          32,
          32,
          32,
          32,
          32,
          32,
          32,
          32,
          32,
          32,
          32,
          32,
          32,
          32,
          32,
          32,
          32,
          32,
          32,
          32,
          32,
          32,
          32,
          32,
          32,
          32,
          32,
          32,
          32,
          32,
          32,
          32,
          32,
          32,
          32,
          32,
          32,
          32,
          32,
          32,
          32,
          32,
          32,
          32,
          32,
          32,
          32,
          32,
          32
         ],
         "y": [
          4,
          32,
          32,
          32,
          16,
          16,
          16,
          16,
          32,
          16,
          16,
          16,
          16,
          16,
          16,
          16,
          16,
          32,
          32,
          16,
          16,
          16,
          16,
          16,
          16,
          16,
          16,
          16,
          32,
          32,
          32,
          32,
          32,
          32,
          32,
          32,
          32,
          32,
          32,
          32,
          32,
          32,
          32,
          32,
          32,
          32,
          32,
          32,
          32,
          32,
          32,
          32,
          32,
          32,
          32
         ]
        }
       ],
       "layout": {
        "font": {
         "color": "black",
         "family": "Arial",
         "size": 20
        },
        "height": 500,
        "template": {
         "data": {
          "bar": [
           {
            "error_x": {
             "color": "#2a3f5f"
            },
            "error_y": {
             "color": "#2a3f5f"
            },
            "marker": {
             "line": {
              "color": "#E5ECF6",
              "width": 0.5
             },
             "pattern": {
              "fillmode": "overlay",
              "size": 10,
              "solidity": 0.2
             }
            },
            "type": "bar"
           }
          ],
          "barpolar": [
           {
            "marker": {
             "line": {
              "color": "#E5ECF6",
              "width": 0.5
             },
             "pattern": {
              "fillmode": "overlay",
              "size": 10,
              "solidity": 0.2
             }
            },
            "type": "barpolar"
           }
          ],
          "carpet": [
           {
            "aaxis": {
             "endlinecolor": "#2a3f5f",
             "gridcolor": "white",
             "linecolor": "white",
             "minorgridcolor": "white",
             "startlinecolor": "#2a3f5f"
            },
            "baxis": {
             "endlinecolor": "#2a3f5f",
             "gridcolor": "white",
             "linecolor": "white",
             "minorgridcolor": "white",
             "startlinecolor": "#2a3f5f"
            },
            "type": "carpet"
           }
          ],
          "choropleth": [
           {
            "colorbar": {
             "outlinewidth": 0,
             "ticks": ""
            },
            "type": "choropleth"
           }
          ],
          "contour": [
           {
            "colorbar": {
             "outlinewidth": 0,
             "ticks": ""
            },
            "colorscale": [
             [
              0,
              "#0d0887"
             ],
             [
              0.1111111111111111,
              "#46039f"
             ],
             [
              0.2222222222222222,
              "#7201a8"
             ],
             [
              0.3333333333333333,
              "#9c179e"
             ],
             [
              0.4444444444444444,
              "#bd3786"
             ],
             [
              0.5555555555555556,
              "#d8576b"
             ],
             [
              0.6666666666666666,
              "#ed7953"
             ],
             [
              0.7777777777777778,
              "#fb9f3a"
             ],
             [
              0.8888888888888888,
              "#fdca26"
             ],
             [
              1,
              "#f0f921"
             ]
            ],
            "type": "contour"
           }
          ],
          "contourcarpet": [
           {
            "colorbar": {
             "outlinewidth": 0,
             "ticks": ""
            },
            "type": "contourcarpet"
           }
          ],
          "heatmap": [
           {
            "colorbar": {
             "outlinewidth": 0,
             "ticks": ""
            },
            "colorscale": [
             [
              0,
              "#0d0887"
             ],
             [
              0.1111111111111111,
              "#46039f"
             ],
             [
              0.2222222222222222,
              "#7201a8"
             ],
             [
              0.3333333333333333,
              "#9c179e"
             ],
             [
              0.4444444444444444,
              "#bd3786"
             ],
             [
              0.5555555555555556,
              "#d8576b"
             ],
             [
              0.6666666666666666,
              "#ed7953"
             ],
             [
              0.7777777777777778,
              "#fb9f3a"
             ],
             [
              0.8888888888888888,
              "#fdca26"
             ],
             [
              1,
              "#f0f921"
             ]
            ],
            "type": "heatmap"
           }
          ],
          "heatmapgl": [
           {
            "colorbar": {
             "outlinewidth": 0,
             "ticks": ""
            },
            "colorscale": [
             [
              0,
              "#0d0887"
             ],
             [
              0.1111111111111111,
              "#46039f"
             ],
             [
              0.2222222222222222,
              "#7201a8"
             ],
             [
              0.3333333333333333,
              "#9c179e"
             ],
             [
              0.4444444444444444,
              "#bd3786"
             ],
             [
              0.5555555555555556,
              "#d8576b"
             ],
             [
              0.6666666666666666,
              "#ed7953"
             ],
             [
              0.7777777777777778,
              "#fb9f3a"
             ],
             [
              0.8888888888888888,
              "#fdca26"
             ],
             [
              1,
              "#f0f921"
             ]
            ],
            "type": "heatmapgl"
           }
          ],
          "histogram": [
           {
            "marker": {
             "pattern": {
              "fillmode": "overlay",
              "size": 10,
              "solidity": 0.2
             }
            },
            "type": "histogram"
           }
          ],
          "histogram2d": [
           {
            "colorbar": {
             "outlinewidth": 0,
             "ticks": ""
            },
            "colorscale": [
             [
              0,
              "#0d0887"
             ],
             [
              0.1111111111111111,
              "#46039f"
             ],
             [
              0.2222222222222222,
              "#7201a8"
             ],
             [
              0.3333333333333333,
              "#9c179e"
             ],
             [
              0.4444444444444444,
              "#bd3786"
             ],
             [
              0.5555555555555556,
              "#d8576b"
             ],
             [
              0.6666666666666666,
              "#ed7953"
             ],
             [
              0.7777777777777778,
              "#fb9f3a"
             ],
             [
              0.8888888888888888,
              "#fdca26"
             ],
             [
              1,
              "#f0f921"
             ]
            ],
            "type": "histogram2d"
           }
          ],
          "histogram2dcontour": [
           {
            "colorbar": {
             "outlinewidth": 0,
             "ticks": ""
            },
            "colorscale": [
             [
              0,
              "#0d0887"
             ],
             [
              0.1111111111111111,
              "#46039f"
             ],
             [
              0.2222222222222222,
              "#7201a8"
             ],
             [
              0.3333333333333333,
              "#9c179e"
             ],
             [
              0.4444444444444444,
              "#bd3786"
             ],
             [
              0.5555555555555556,
              "#d8576b"
             ],
             [
              0.6666666666666666,
              "#ed7953"
             ],
             [
              0.7777777777777778,
              "#fb9f3a"
             ],
             [
              0.8888888888888888,
              "#fdca26"
             ],
             [
              1,
              "#f0f921"
             ]
            ],
            "type": "histogram2dcontour"
           }
          ],
          "mesh3d": [
           {
            "colorbar": {
             "outlinewidth": 0,
             "ticks": ""
            },
            "type": "mesh3d"
           }
          ],
          "parcoords": [
           {
            "line": {
             "colorbar": {
              "outlinewidth": 0,
              "ticks": ""
             }
            },
            "type": "parcoords"
           }
          ],
          "pie": [
           {
            "automargin": true,
            "type": "pie"
           }
          ],
          "scatter": [
           {
            "fillpattern": {
             "fillmode": "overlay",
             "size": 10,
             "solidity": 0.2
            },
            "type": "scatter"
           }
          ],
          "scatter3d": [
           {
            "line": {
             "colorbar": {
              "outlinewidth": 0,
              "ticks": ""
             }
            },
            "marker": {
             "colorbar": {
              "outlinewidth": 0,
              "ticks": ""
             }
            },
            "type": "scatter3d"
           }
          ],
          "scattercarpet": [
           {
            "marker": {
             "colorbar": {
              "outlinewidth": 0,
              "ticks": ""
             }
            },
            "type": "scattercarpet"
           }
          ],
          "scattergeo": [
           {
            "marker": {
             "colorbar": {
              "outlinewidth": 0,
              "ticks": ""
             }
            },
            "type": "scattergeo"
           }
          ],
          "scattergl": [
           {
            "marker": {
             "colorbar": {
              "outlinewidth": 0,
              "ticks": ""
             }
            },
            "type": "scattergl"
           }
          ],
          "scattermapbox": [
           {
            "marker": {
             "colorbar": {
              "outlinewidth": 0,
              "ticks": ""
             }
            },
            "type": "scattermapbox"
           }
          ],
          "scatterpolar": [
           {
            "marker": {
             "colorbar": {
              "outlinewidth": 0,
              "ticks": ""
             }
            },
            "type": "scatterpolar"
           }
          ],
          "scatterpolargl": [
           {
            "marker": {
             "colorbar": {
              "outlinewidth": 0,
              "ticks": ""
             }
            },
            "type": "scatterpolargl"
           }
          ],
          "scatterternary": [
           {
            "marker": {
             "colorbar": {
              "outlinewidth": 0,
              "ticks": ""
             }
            },
            "type": "scatterternary"
           }
          ],
          "surface": [
           {
            "colorbar": {
             "outlinewidth": 0,
             "ticks": ""
            },
            "colorscale": [
             [
              0,
              "#0d0887"
             ],
             [
              0.1111111111111111,
              "#46039f"
             ],
             [
              0.2222222222222222,
              "#7201a8"
             ],
             [
              0.3333333333333333,
              "#9c179e"
             ],
             [
              0.4444444444444444,
              "#bd3786"
             ],
             [
              0.5555555555555556,
              "#d8576b"
             ],
             [
              0.6666666666666666,
              "#ed7953"
             ],
             [
              0.7777777777777778,
              "#fb9f3a"
             ],
             [
              0.8888888888888888,
              "#fdca26"
             ],
             [
              1,
              "#f0f921"
             ]
            ],
            "type": "surface"
           }
          ],
          "table": [
           {
            "cells": {
             "fill": {
              "color": "#EBF0F8"
             },
             "line": {
              "color": "white"
             }
            },
            "header": {
             "fill": {
              "color": "#C8D4E3"
             },
             "line": {
              "color": "white"
             }
            },
            "type": "table"
           }
          ]
         },
         "layout": {
          "annotationdefaults": {
           "arrowcolor": "#2a3f5f",
           "arrowhead": 0,
           "arrowwidth": 1
          },
          "autotypenumbers": "strict",
          "coloraxis": {
           "colorbar": {
            "outlinewidth": 0,
            "ticks": ""
           }
          },
          "colorscale": {
           "diverging": [
            [
             0,
             "#8e0152"
            ],
            [
             0.1,
             "#c51b7d"
            ],
            [
             0.2,
             "#de77ae"
            ],
            [
             0.3,
             "#f1b6da"
            ],
            [
             0.4,
             "#fde0ef"
            ],
            [
             0.5,
             "#f7f7f7"
            ],
            [
             0.6,
             "#e6f5d0"
            ],
            [
             0.7,
             "#b8e186"
            ],
            [
             0.8,
             "#7fbc41"
            ],
            [
             0.9,
             "#4d9221"
            ],
            [
             1,
             "#276419"
            ]
           ],
           "sequential": [
            [
             0,
             "#0d0887"
            ],
            [
             0.1111111111111111,
             "#46039f"
            ],
            [
             0.2222222222222222,
             "#7201a8"
            ],
            [
             0.3333333333333333,
             "#9c179e"
            ],
            [
             0.4444444444444444,
             "#bd3786"
            ],
            [
             0.5555555555555556,
             "#d8576b"
            ],
            [
             0.6666666666666666,
             "#ed7953"
            ],
            [
             0.7777777777777778,
             "#fb9f3a"
            ],
            [
             0.8888888888888888,
             "#fdca26"
            ],
            [
             1,
             "#f0f921"
            ]
           ],
           "sequentialminus": [
            [
             0,
             "#0d0887"
            ],
            [
             0.1111111111111111,
             "#46039f"
            ],
            [
             0.2222222222222222,
             "#7201a8"
            ],
            [
             0.3333333333333333,
             "#9c179e"
            ],
            [
             0.4444444444444444,
             "#bd3786"
            ],
            [
             0.5555555555555556,
             "#d8576b"
            ],
            [
             0.6666666666666666,
             "#ed7953"
            ],
            [
             0.7777777777777778,
             "#fb9f3a"
            ],
            [
             0.8888888888888888,
             "#fdca26"
            ],
            [
             1,
             "#f0f921"
            ]
           ]
          },
          "colorway": [
           "#636efa",
           "#EF553B",
           "#00cc96",
           "#ab63fa",
           "#FFA15A",
           "#19d3f3",
           "#FF6692",
           "#B6E880",
           "#FF97FF",
           "#FECB52"
          ],
          "font": {
           "color": "#2a3f5f"
          },
          "geo": {
           "bgcolor": "white",
           "lakecolor": "white",
           "landcolor": "#E5ECF6",
           "showlakes": true,
           "showland": true,
           "subunitcolor": "white"
          },
          "hoverlabel": {
           "align": "left"
          },
          "hovermode": "closest",
          "mapbox": {
           "style": "light"
          },
          "paper_bgcolor": "white",
          "plot_bgcolor": "#E5ECF6",
          "polar": {
           "angularaxis": {
            "gridcolor": "white",
            "linecolor": "white",
            "ticks": ""
           },
           "bgcolor": "#E5ECF6",
           "radialaxis": {
            "gridcolor": "white",
            "linecolor": "white",
            "ticks": ""
           }
          },
          "scene": {
           "xaxis": {
            "backgroundcolor": "#E5ECF6",
            "gridcolor": "white",
            "gridwidth": 2,
            "linecolor": "white",
            "showbackground": true,
            "ticks": "",
            "zerolinecolor": "white"
           },
           "yaxis": {
            "backgroundcolor": "#E5ECF6",
            "gridcolor": "white",
            "gridwidth": 2,
            "linecolor": "white",
            "showbackground": true,
            "ticks": "",
            "zerolinecolor": "white"
           },
           "zaxis": {
            "backgroundcolor": "#E5ECF6",
            "gridcolor": "white",
            "gridwidth": 2,
            "linecolor": "white",
            "showbackground": true,
            "ticks": "",
            "zerolinecolor": "white"
           }
          },
          "shapedefaults": {
           "line": {
            "color": "#2a3f5f"
           }
          },
          "ternary": {
           "aaxis": {
            "gridcolor": "white",
            "linecolor": "white",
            "ticks": ""
           },
           "baxis": {
            "gridcolor": "white",
            "linecolor": "white",
            "ticks": ""
           },
           "bgcolor": "#E5ECF6",
           "caxis": {
            "gridcolor": "white",
            "linecolor": "white",
            "ticks": ""
           }
          },
          "title": {
           "x": 0.05
          },
          "xaxis": {
           "automargin": true,
           "gridcolor": "white",
           "linecolor": "white",
           "ticks": "",
           "title": {
            "standoff": 15
           },
           "zerolinecolor": "white",
           "zerolinewidth": 2
          },
          "yaxis": {
           "automargin": true,
           "gridcolor": "white",
           "linecolor": "white",
           "ticks": "",
           "title": {
            "standoff": 15
           },
           "zerolinecolor": "white",
           "zerolinewidth": 2
          }
         }
        },
        "title": {
         "text": "Contour Plot"
        },
        "width": 800,
        "xaxis": {
         "range": [
          2.5999999999999996,
          33.4
         ],
         "title": {
          "text": "layer_0"
         }
        },
        "yaxis": {
         "range": [
          2.5999999999999996,
          33.4
         ],
         "title": {
          "text": "layer_1"
         }
        }
       }
      }
     },
     "metadata": {},
     "output_type": "display_data"
    }
   ],
   "source": [
    "fig = optuna.visualization.plot_contour(peanut, params = ['layer_0', 'layer_1'])\n",
    "fig.update_layout(width=800, height=500, font=dict(family='Arial', size=20, color='black'))\n",
    "fig.show()"
   ]
  },
  {
   "cell_type": "code",
   "execution_count": 21,
   "metadata": {},
   "outputs": [
    {
     "data": {
      "application/vnd.plotly.v1+json": {
       "config": {
        "plotlyServerURL": "https://plot.ly"
       },
       "data": [
        {
         "colorbar": {
          "title": {
           "text": "Objective Value"
          }
         },
         "colorscale": [
          [
           0,
           "rgb(5,10,172)"
          ],
          [
           0.35,
           "rgb(40,60,190)"
          ],
          [
           0.5,
           "rgb(70,100,245)"
          ],
          [
           0.6,
           "rgb(90,120,245)"
          ],
          [
           0.7,
           "rgb(106,137,247)"
          ],
          [
           1,
           "rgb(220,220,220)"
          ]
         ],
         "connectgaps": true,
         "contours": {
          "coloring": "heatmap"
         },
         "hoverinfo": "none",
         "line": {
          "smoothing": 1.3
         },
         "reversescale": true,
         "type": "contour",
         "x": [
          54.4,
          64,
          128,
          256,
          265.6
         ],
         "y": [
          2.193479274646104,
          2.3254138039765007,
          2.43883894665205,
          2.5913437895887106,
          2.705802537627602,
          2.7452128277692096,
          2.7653956170282257,
          2.7828499912491873,
          2.801229776187605,
          2.84853282786955,
          2.941653028474351,
          2.9657898835801877,
          2.9911529557868817,
          3.0107415368010955,
          3.173744258313889,
          3.232073643596195,
          3.2366921389553767,
          3.396273929791737,
          3.482891647713151,
          3.5735275155910697,
          3.5894825871059632,
          3.648144464613054,
          3.6546479801478444,
          3.793586843733603,
          4.22598772386781,
          4.964104390584431,
          5.096038919914828
         ],
         "z": [
          [
           null,
           null,
           null,
           null,
           null
          ],
          [
           null,
           null,
           null,
           null,
           null
          ],
          [
           null,
           null,
           null,
           null,
           null
          ],
          [
           null,
           null,
           null,
           null,
           null
          ],
          [
           null,
           null,
           null,
           null,
           null
          ],
          [
           null,
           null,
           null,
           null,
           null
          ],
          [
           null,
           null,
           null,
           null,
           null
          ],
          [
           null,
           null,
           null,
           null,
           null
          ],
          [
           null,
           null,
           null,
           null,
           null
          ],
          [
           null,
           null,
           null,
           null,
           null
          ],
          [
           null,
           null,
           null,
           null,
           null
          ],
          [
           null,
           null,
           null,
           null,
           null
          ],
          [
           null,
           null,
           null,
           null,
           null
          ],
          [
           null,
           null,
           null,
           null,
           null
          ],
          [
           null,
           null,
           null,
           null,
           null
          ],
          [
           null,
           null,
           null,
           null,
           null
          ],
          [
           null,
           null,
           null,
           null,
           null
          ],
          [
           null,
           null,
           null,
           null,
           null
          ],
          [
           null,
           null,
           null,
           null,
           null
          ],
          [
           null,
           null,
           null,
           null,
           null
          ],
          [
           null,
           null,
           null,
           null,
           null
          ],
          [
           null,
           null,
           null,
           null,
           null
          ],
          [
           null,
           null,
           null,
           null,
           null
          ],
          [
           null,
           1.188650471823556,
           null,
           null,
           null
          ],
          [
           null,
           null,
           null,
           null,
           null
          ],
          [
           null,
           1.1398512039865767,
           null,
           null,
           null
          ],
          [
           null,
           null,
           null,
           null,
           null
          ]
         ]
        },
        {
         "marker": {
          "color": "black",
          "line": {
           "color": "Grey",
           "width": 0.5
          }
         },
         "mode": "markers",
         "showlegend": false,
         "type": "scatter",
         "x": [
          64,
          64
         ],
         "y": [
          3.793586843733603,
          4.964104390584431
         ]
        }
       ],
       "layout": {
        "template": {
         "data": {
          "bar": [
           {
            "error_x": {
             "color": "#2a3f5f"
            },
            "error_y": {
             "color": "#2a3f5f"
            },
            "marker": {
             "line": {
              "color": "#E5ECF6",
              "width": 0.5
             },
             "pattern": {
              "fillmode": "overlay",
              "size": 10,
              "solidity": 0.2
             }
            },
            "type": "bar"
           }
          ],
          "barpolar": [
           {
            "marker": {
             "line": {
              "color": "#E5ECF6",
              "width": 0.5
             },
             "pattern": {
              "fillmode": "overlay",
              "size": 10,
              "solidity": 0.2
             }
            },
            "type": "barpolar"
           }
          ],
          "carpet": [
           {
            "aaxis": {
             "endlinecolor": "#2a3f5f",
             "gridcolor": "white",
             "linecolor": "white",
             "minorgridcolor": "white",
             "startlinecolor": "#2a3f5f"
            },
            "baxis": {
             "endlinecolor": "#2a3f5f",
             "gridcolor": "white",
             "linecolor": "white",
             "minorgridcolor": "white",
             "startlinecolor": "#2a3f5f"
            },
            "type": "carpet"
           }
          ],
          "choropleth": [
           {
            "colorbar": {
             "outlinewidth": 0,
             "ticks": ""
            },
            "type": "choropleth"
           }
          ],
          "contour": [
           {
            "colorbar": {
             "outlinewidth": 0,
             "ticks": ""
            },
            "colorscale": [
             [
              0,
              "#0d0887"
             ],
             [
              0.1111111111111111,
              "#46039f"
             ],
             [
              0.2222222222222222,
              "#7201a8"
             ],
             [
              0.3333333333333333,
              "#9c179e"
             ],
             [
              0.4444444444444444,
              "#bd3786"
             ],
             [
              0.5555555555555556,
              "#d8576b"
             ],
             [
              0.6666666666666666,
              "#ed7953"
             ],
             [
              0.7777777777777778,
              "#fb9f3a"
             ],
             [
              0.8888888888888888,
              "#fdca26"
             ],
             [
              1,
              "#f0f921"
             ]
            ],
            "type": "contour"
           }
          ],
          "contourcarpet": [
           {
            "colorbar": {
             "outlinewidth": 0,
             "ticks": ""
            },
            "type": "contourcarpet"
           }
          ],
          "heatmap": [
           {
            "colorbar": {
             "outlinewidth": 0,
             "ticks": ""
            },
            "colorscale": [
             [
              0,
              "#0d0887"
             ],
             [
              0.1111111111111111,
              "#46039f"
             ],
             [
              0.2222222222222222,
              "#7201a8"
             ],
             [
              0.3333333333333333,
              "#9c179e"
             ],
             [
              0.4444444444444444,
              "#bd3786"
             ],
             [
              0.5555555555555556,
              "#d8576b"
             ],
             [
              0.6666666666666666,
              "#ed7953"
             ],
             [
              0.7777777777777778,
              "#fb9f3a"
             ],
             [
              0.8888888888888888,
              "#fdca26"
             ],
             [
              1,
              "#f0f921"
             ]
            ],
            "type": "heatmap"
           }
          ],
          "heatmapgl": [
           {
            "colorbar": {
             "outlinewidth": 0,
             "ticks": ""
            },
            "colorscale": [
             [
              0,
              "#0d0887"
             ],
             [
              0.1111111111111111,
              "#46039f"
             ],
             [
              0.2222222222222222,
              "#7201a8"
             ],
             [
              0.3333333333333333,
              "#9c179e"
             ],
             [
              0.4444444444444444,
              "#bd3786"
             ],
             [
              0.5555555555555556,
              "#d8576b"
             ],
             [
              0.6666666666666666,
              "#ed7953"
             ],
             [
              0.7777777777777778,
              "#fb9f3a"
             ],
             [
              0.8888888888888888,
              "#fdca26"
             ],
             [
              1,
              "#f0f921"
             ]
            ],
            "type": "heatmapgl"
           }
          ],
          "histogram": [
           {
            "marker": {
             "pattern": {
              "fillmode": "overlay",
              "size": 10,
              "solidity": 0.2
             }
            },
            "type": "histogram"
           }
          ],
          "histogram2d": [
           {
            "colorbar": {
             "outlinewidth": 0,
             "ticks": ""
            },
            "colorscale": [
             [
              0,
              "#0d0887"
             ],
             [
              0.1111111111111111,
              "#46039f"
             ],
             [
              0.2222222222222222,
              "#7201a8"
             ],
             [
              0.3333333333333333,
              "#9c179e"
             ],
             [
              0.4444444444444444,
              "#bd3786"
             ],
             [
              0.5555555555555556,
              "#d8576b"
             ],
             [
              0.6666666666666666,
              "#ed7953"
             ],
             [
              0.7777777777777778,
              "#fb9f3a"
             ],
             [
              0.8888888888888888,
              "#fdca26"
             ],
             [
              1,
              "#f0f921"
             ]
            ],
            "type": "histogram2d"
           }
          ],
          "histogram2dcontour": [
           {
            "colorbar": {
             "outlinewidth": 0,
             "ticks": ""
            },
            "colorscale": [
             [
              0,
              "#0d0887"
             ],
             [
              0.1111111111111111,
              "#46039f"
             ],
             [
              0.2222222222222222,
              "#7201a8"
             ],
             [
              0.3333333333333333,
              "#9c179e"
             ],
             [
              0.4444444444444444,
              "#bd3786"
             ],
             [
              0.5555555555555556,
              "#d8576b"
             ],
             [
              0.6666666666666666,
              "#ed7953"
             ],
             [
              0.7777777777777778,
              "#fb9f3a"
             ],
             [
              0.8888888888888888,
              "#fdca26"
             ],
             [
              1,
              "#f0f921"
             ]
            ],
            "type": "histogram2dcontour"
           }
          ],
          "mesh3d": [
           {
            "colorbar": {
             "outlinewidth": 0,
             "ticks": ""
            },
            "type": "mesh3d"
           }
          ],
          "parcoords": [
           {
            "line": {
             "colorbar": {
              "outlinewidth": 0,
              "ticks": ""
             }
            },
            "type": "parcoords"
           }
          ],
          "pie": [
           {
            "automargin": true,
            "type": "pie"
           }
          ],
          "scatter": [
           {
            "fillpattern": {
             "fillmode": "overlay",
             "size": 10,
             "solidity": 0.2
            },
            "type": "scatter"
           }
          ],
          "scatter3d": [
           {
            "line": {
             "colorbar": {
              "outlinewidth": 0,
              "ticks": ""
             }
            },
            "marker": {
             "colorbar": {
              "outlinewidth": 0,
              "ticks": ""
             }
            },
            "type": "scatter3d"
           }
          ],
          "scattercarpet": [
           {
            "marker": {
             "colorbar": {
              "outlinewidth": 0,
              "ticks": ""
             }
            },
            "type": "scattercarpet"
           }
          ],
          "scattergeo": [
           {
            "marker": {
             "colorbar": {
              "outlinewidth": 0,
              "ticks": ""
             }
            },
            "type": "scattergeo"
           }
          ],
          "scattergl": [
           {
            "marker": {
             "colorbar": {
              "outlinewidth": 0,
              "ticks": ""
             }
            },
            "type": "scattergl"
           }
          ],
          "scattermapbox": [
           {
            "marker": {
             "colorbar": {
              "outlinewidth": 0,
              "ticks": ""
             }
            },
            "type": "scattermapbox"
           }
          ],
          "scatterpolar": [
           {
            "marker": {
             "colorbar": {
              "outlinewidth": 0,
              "ticks": ""
             }
            },
            "type": "scatterpolar"
           }
          ],
          "scatterpolargl": [
           {
            "marker": {
             "colorbar": {
              "outlinewidth": 0,
              "ticks": ""
             }
            },
            "type": "scatterpolargl"
           }
          ],
          "scatterternary": [
           {
            "marker": {
             "colorbar": {
              "outlinewidth": 0,
              "ticks": ""
             }
            },
            "type": "scatterternary"
           }
          ],
          "surface": [
           {
            "colorbar": {
             "outlinewidth": 0,
             "ticks": ""
            },
            "colorscale": [
             [
              0,
              "#0d0887"
             ],
             [
              0.1111111111111111,
              "#46039f"
             ],
             [
              0.2222222222222222,
              "#7201a8"
             ],
             [
              0.3333333333333333,
              "#9c179e"
             ],
             [
              0.4444444444444444,
              "#bd3786"
             ],
             [
              0.5555555555555556,
              "#d8576b"
             ],
             [
              0.6666666666666666,
              "#ed7953"
             ],
             [
              0.7777777777777778,
              "#fb9f3a"
             ],
             [
              0.8888888888888888,
              "#fdca26"
             ],
             [
              1,
              "#f0f921"
             ]
            ],
            "type": "surface"
           }
          ],
          "table": [
           {
            "cells": {
             "fill": {
              "color": "#EBF0F8"
             },
             "line": {
              "color": "white"
             }
            },
            "header": {
             "fill": {
              "color": "#C8D4E3"
             },
             "line": {
              "color": "white"
             }
            },
            "type": "table"
           }
          ]
         },
         "layout": {
          "annotationdefaults": {
           "arrowcolor": "#2a3f5f",
           "arrowhead": 0,
           "arrowwidth": 1
          },
          "autotypenumbers": "strict",
          "coloraxis": {
           "colorbar": {
            "outlinewidth": 0,
            "ticks": ""
           }
          },
          "colorscale": {
           "diverging": [
            [
             0,
             "#8e0152"
            ],
            [
             0.1,
             "#c51b7d"
            ],
            [
             0.2,
             "#de77ae"
            ],
            [
             0.3,
             "#f1b6da"
            ],
            [
             0.4,
             "#fde0ef"
            ],
            [
             0.5,
             "#f7f7f7"
            ],
            [
             0.6,
             "#e6f5d0"
            ],
            [
             0.7,
             "#b8e186"
            ],
            [
             0.8,
             "#7fbc41"
            ],
            [
             0.9,
             "#4d9221"
            ],
            [
             1,
             "#276419"
            ]
           ],
           "sequential": [
            [
             0,
             "#0d0887"
            ],
            [
             0.1111111111111111,
             "#46039f"
            ],
            [
             0.2222222222222222,
             "#7201a8"
            ],
            [
             0.3333333333333333,
             "#9c179e"
            ],
            [
             0.4444444444444444,
             "#bd3786"
            ],
            [
             0.5555555555555556,
             "#d8576b"
            ],
            [
             0.6666666666666666,
             "#ed7953"
            ],
            [
             0.7777777777777778,
             "#fb9f3a"
            ],
            [
             0.8888888888888888,
             "#fdca26"
            ],
            [
             1,
             "#f0f921"
            ]
           ],
           "sequentialminus": [
            [
             0,
             "#0d0887"
            ],
            [
             0.1111111111111111,
             "#46039f"
            ],
            [
             0.2222222222222222,
             "#7201a8"
            ],
            [
             0.3333333333333333,
             "#9c179e"
            ],
            [
             0.4444444444444444,
             "#bd3786"
            ],
            [
             0.5555555555555556,
             "#d8576b"
            ],
            [
             0.6666666666666666,
             "#ed7953"
            ],
            [
             0.7777777777777778,
             "#fb9f3a"
            ],
            [
             0.8888888888888888,
             "#fdca26"
            ],
            [
             1,
             "#f0f921"
            ]
           ]
          },
          "colorway": [
           "#636efa",
           "#EF553B",
           "#00cc96",
           "#ab63fa",
           "#FFA15A",
           "#19d3f3",
           "#FF6692",
           "#B6E880",
           "#FF97FF",
           "#FECB52"
          ],
          "font": {
           "color": "#2a3f5f"
          },
          "geo": {
           "bgcolor": "white",
           "lakecolor": "white",
           "landcolor": "#E5ECF6",
           "showlakes": true,
           "showland": true,
           "subunitcolor": "white"
          },
          "hoverlabel": {
           "align": "left"
          },
          "hovermode": "closest",
          "mapbox": {
           "style": "light"
          },
          "paper_bgcolor": "white",
          "plot_bgcolor": "#E5ECF6",
          "polar": {
           "angularaxis": {
            "gridcolor": "white",
            "linecolor": "white",
            "ticks": ""
           },
           "bgcolor": "#E5ECF6",
           "radialaxis": {
            "gridcolor": "white",
            "linecolor": "white",
            "ticks": ""
           }
          },
          "scene": {
           "xaxis": {
            "backgroundcolor": "#E5ECF6",
            "gridcolor": "white",
            "gridwidth": 2,
            "linecolor": "white",
            "showbackground": true,
            "ticks": "",
            "zerolinecolor": "white"
           },
           "yaxis": {
            "backgroundcolor": "#E5ECF6",
            "gridcolor": "white",
            "gridwidth": 2,
            "linecolor": "white",
            "showbackground": true,
            "ticks": "",
            "zerolinecolor": "white"
           },
           "zaxis": {
            "backgroundcolor": "#E5ECF6",
            "gridcolor": "white",
            "gridwidth": 2,
            "linecolor": "white",
            "showbackground": true,
            "ticks": "",
            "zerolinecolor": "white"
           }
          },
          "shapedefaults": {
           "line": {
            "color": "#2a3f5f"
           }
          },
          "ternary": {
           "aaxis": {
            "gridcolor": "white",
            "linecolor": "white",
            "ticks": ""
           },
           "baxis": {
            "gridcolor": "white",
            "linecolor": "white",
            "ticks": ""
           },
           "bgcolor": "#E5ECF6",
           "caxis": {
            "gridcolor": "white",
            "linecolor": "white",
            "ticks": ""
           }
          },
          "title": {
           "x": 0.05
          },
          "xaxis": {
           "automargin": true,
           "gridcolor": "white",
           "linecolor": "white",
           "ticks": "",
           "title": {
            "standoff": 15
           },
           "zerolinecolor": "white",
           "zerolinewidth": 2
          },
          "yaxis": {
           "automargin": true,
           "gridcolor": "white",
           "linecolor": "white",
           "ticks": "",
           "title": {
            "standoff": 15
           },
           "zerolinecolor": "white",
           "zerolinewidth": 2
          }
         }
        },
        "title": {
         "text": "Contour Plot"
        },
        "xaxis": {
         "range": [
          54.4,
          265.6
         ],
         "title": {
          "text": "downsample_dim"
         }
        },
        "yaxis": {
         "range": [
          2.193479274646104,
          5.096038919914828
         ],
         "title": {
          "text": "guassian_sigma"
         }
        }
       }
      }
     },
     "metadata": {},
     "output_type": "display_data"
    }
   ],
   "source": [
    "fig = optuna.visualization.plot_contour(peanut, params = ['downsample_dim', 'guassian_sigma'])\n",
    "fig.show()"
   ]
  },
  {
   "cell_type": "markdown",
   "metadata": {},
   "source": [
    "Now, after training with 15 AOIs and testing on 3 AOIs using this optimal model, we get the following:"
   ]
  },
  {
   "cell_type": "code",
   "execution_count": 39,
   "metadata": {},
   "outputs": [],
   "source": [
    "import pandas as pd\n",
    "train_report = pd.read_json('../train_report.json')"
   ]
  },
  {
   "cell_type": "code",
   "execution_count": 40,
   "metadata": {},
   "outputs": [
    {
     "data": {
      "text/html": [
       "<div>\n",
       "<style scoped>\n",
       "    .dataframe tbody tr th:only-of-type {\n",
       "        vertical-align: middle;\n",
       "    }\n",
       "\n",
       "    .dataframe tbody tr th {\n",
       "        vertical-align: top;\n",
       "    }\n",
       "\n",
       "    .dataframe thead th {\n",
       "        text-align: right;\n",
       "    }\n",
       "</style>\n",
       "<table border=\"1\" class=\"dataframe\">\n",
       "  <thead>\n",
       "    <tr style=\"text-align: right;\">\n",
       "      <th></th>\n",
       "      <th>train_losses</th>\n",
       "      <th>test_losses</th>\n",
       "      <th>train_accs</th>\n",
       "      <th>test_accs</th>\n",
       "    </tr>\n",
       "  </thead>\n",
       "  <tbody>\n",
       "    <tr>\n",
       "      <th>0</th>\n",
       "      <td>1.625021</td>\n",
       "      <td>1.854282</td>\n",
       "      <td>0.611203</td>\n",
       "      <td>0.289134</td>\n",
       "    </tr>\n",
       "    <tr>\n",
       "      <th>1</th>\n",
       "      <td>1.122677</td>\n",
       "      <td>1.934365</td>\n",
       "      <td>0.611203</td>\n",
       "      <td>0.289134</td>\n",
       "    </tr>\n",
       "    <tr>\n",
       "      <th>2</th>\n",
       "      <td>0.984841</td>\n",
       "      <td>1.816298</td>\n",
       "      <td>0.689522</td>\n",
       "      <td>0.431827</td>\n",
       "    </tr>\n",
       "    <tr>\n",
       "      <th>3</th>\n",
       "      <td>0.942844</td>\n",
       "      <td>1.859381</td>\n",
       "      <td>0.691445</td>\n",
       "      <td>0.291554</td>\n",
       "    </tr>\n",
       "    <tr>\n",
       "      <th>4</th>\n",
       "      <td>0.905462</td>\n",
       "      <td>1.963195</td>\n",
       "      <td>0.689244</td>\n",
       "      <td>0.289134</td>\n",
       "    </tr>\n",
       "    <tr>\n",
       "      <th>5</th>\n",
       "      <td>0.907284</td>\n",
       "      <td>1.828966</td>\n",
       "      <td>0.749423</td>\n",
       "      <td>0.580912</td>\n",
       "    </tr>\n",
       "    <tr>\n",
       "      <th>6</th>\n",
       "      <td>0.866363</td>\n",
       "      <td>2.102630</td>\n",
       "      <td>0.688517</td>\n",
       "      <td>0.289134</td>\n",
       "    </tr>\n",
       "    <tr>\n",
       "      <th>7</th>\n",
       "      <td>0.897736</td>\n",
       "      <td>2.044620</td>\n",
       "      <td>0.691304</td>\n",
       "      <td>0.289134</td>\n",
       "    </tr>\n",
       "    <tr>\n",
       "      <th>8</th>\n",
       "      <td>0.890812</td>\n",
       "      <td>1.996689</td>\n",
       "      <td>0.701512</td>\n",
       "      <td>0.308853</td>\n",
       "    </tr>\n",
       "    <tr>\n",
       "      <th>9</th>\n",
       "      <td>0.865966</td>\n",
       "      <td>2.031786</td>\n",
       "      <td>0.693058</td>\n",
       "      <td>0.289571</td>\n",
       "    </tr>\n",
       "    <tr>\n",
       "      <th>10</th>\n",
       "      <td>0.853939</td>\n",
       "      <td>1.954397</td>\n",
       "      <td>0.751639</td>\n",
       "      <td>0.560299</td>\n",
       "    </tr>\n",
       "    <tr>\n",
       "      <th>11</th>\n",
       "      <td>0.834854</td>\n",
       "      <td>1.915090</td>\n",
       "      <td>0.743448</td>\n",
       "      <td>0.574588</td>\n",
       "    </tr>\n",
       "    <tr>\n",
       "      <th>12</th>\n",
       "      <td>0.825126</td>\n",
       "      <td>1.944407</td>\n",
       "      <td>0.732260</td>\n",
       "      <td>0.532774</td>\n",
       "    </tr>\n",
       "    <tr>\n",
       "      <th>13</th>\n",
       "      <td>0.888879</td>\n",
       "      <td>1.925060</td>\n",
       "      <td>0.725312</td>\n",
       "      <td>0.599380</td>\n",
       "    </tr>\n",
       "    <tr>\n",
       "      <th>14</th>\n",
       "      <td>0.834411</td>\n",
       "      <td>2.176651</td>\n",
       "      <td>0.691762</td>\n",
       "      <td>0.289134</td>\n",
       "    </tr>\n",
       "    <tr>\n",
       "      <th>15</th>\n",
       "      <td>0.875595</td>\n",
       "      <td>2.008220</td>\n",
       "      <td>0.754089</td>\n",
       "      <td>0.576436</td>\n",
       "    </tr>\n",
       "    <tr>\n",
       "      <th>16</th>\n",
       "      <td>0.820236</td>\n",
       "      <td>2.125093</td>\n",
       "      <td>0.696968</td>\n",
       "      <td>0.290981</td>\n",
       "    </tr>\n",
       "    <tr>\n",
       "      <th>17</th>\n",
       "      <td>0.826871</td>\n",
       "      <td>1.999963</td>\n",
       "      <td>0.749985</td>\n",
       "      <td>0.556703</td>\n",
       "    </tr>\n",
       "    <tr>\n",
       "      <th>18</th>\n",
       "      <td>0.819833</td>\n",
       "      <td>2.046910</td>\n",
       "      <td>0.732163</td>\n",
       "      <td>0.525009</td>\n",
       "    </tr>\n",
       "    <tr>\n",
       "      <th>19</th>\n",
       "      <td>0.865079</td>\n",
       "      <td>2.005536</td>\n",
       "      <td>0.719677</td>\n",
       "      <td>0.592459</td>\n",
       "    </tr>\n",
       "    <tr>\n",
       "      <th>20</th>\n",
       "      <td>0.832738</td>\n",
       "      <td>2.086115</td>\n",
       "      <td>0.691539</td>\n",
       "      <td>0.289134</td>\n",
       "    </tr>\n",
       "    <tr>\n",
       "      <th>21</th>\n",
       "      <td>0.842240</td>\n",
       "      <td>2.050333</td>\n",
       "      <td>0.692447</td>\n",
       "      <td>0.343672</td>\n",
       "    </tr>\n",
       "    <tr>\n",
       "      <th>22</th>\n",
       "      <td>0.829616</td>\n",
       "      <td>2.012578</td>\n",
       "      <td>0.735899</td>\n",
       "      <td>0.580261</td>\n",
       "    </tr>\n",
       "    <tr>\n",
       "      <th>23</th>\n",
       "      <td>0.845253</td>\n",
       "      <td>1.912639</td>\n",
       "      <td>0.744446</td>\n",
       "      <td>0.581725</td>\n",
       "    </tr>\n",
       "    <tr>\n",
       "      <th>24</th>\n",
       "      <td>0.844754</td>\n",
       "      <td>2.077039</td>\n",
       "      <td>0.709653</td>\n",
       "      <td>0.592099</td>\n",
       "    </tr>\n",
       "    <tr>\n",
       "      <th>25</th>\n",
       "      <td>0.837874</td>\n",
       "      <td>2.066571</td>\n",
       "      <td>0.695646</td>\n",
       "      <td>0.303802</td>\n",
       "    </tr>\n",
       "    <tr>\n",
       "      <th>26</th>\n",
       "      <td>0.824418</td>\n",
       "      <td>2.078570</td>\n",
       "      <td>0.720519</td>\n",
       "      <td>0.582939</td>\n",
       "    </tr>\n",
       "    <tr>\n",
       "      <th>27</th>\n",
       "      <td>0.816496</td>\n",
       "      <td>2.081081</td>\n",
       "      <td>0.733631</td>\n",
       "      <td>0.578611</td>\n",
       "    </tr>\n",
       "    <tr>\n",
       "      <th>28</th>\n",
       "      <td>0.808734</td>\n",
       "      <td>2.051401</td>\n",
       "      <td>0.754640</td>\n",
       "      <td>0.547728</td>\n",
       "    </tr>\n",
       "    <tr>\n",
       "      <th>29</th>\n",
       "      <td>0.863144</td>\n",
       "      <td>2.066135</td>\n",
       "      <td>0.697176</td>\n",
       "      <td>0.609616</td>\n",
       "    </tr>\n",
       "    <tr>\n",
       "      <th>30</th>\n",
       "      <td>0.825429</td>\n",
       "      <td>2.151357</td>\n",
       "      <td>0.746478</td>\n",
       "      <td>0.547049</td>\n",
       "    </tr>\n",
       "    <tr>\n",
       "      <th>31</th>\n",
       "      <td>0.830638</td>\n",
       "      <td>2.150146</td>\n",
       "      <td>0.727330</td>\n",
       "      <td>0.572520</td>\n",
       "    </tr>\n",
       "    <tr>\n",
       "      <th>32</th>\n",
       "      <td>0.812621</td>\n",
       "      <td>2.134309</td>\n",
       "      <td>0.735953</td>\n",
       "      <td>0.561314</td>\n",
       "    </tr>\n",
       "    <tr>\n",
       "      <th>33</th>\n",
       "      <td>0.821417</td>\n",
       "      <td>2.050539</td>\n",
       "      <td>0.746103</td>\n",
       "      <td>0.564159</td>\n",
       "    </tr>\n",
       "    <tr>\n",
       "      <th>34</th>\n",
       "      <td>0.803702</td>\n",
       "      <td>2.085879</td>\n",
       "      <td>0.721520</td>\n",
       "      <td>0.593801</td>\n",
       "    </tr>\n",
       "    <tr>\n",
       "      <th>35</th>\n",
       "      <td>0.799409</td>\n",
       "      <td>2.104205</td>\n",
       "      <td>0.727627</td>\n",
       "      <td>0.583611</td>\n",
       "    </tr>\n",
       "    <tr>\n",
       "      <th>36</th>\n",
       "      <td>0.794052</td>\n",
       "      <td>2.096821</td>\n",
       "      <td>0.736612</td>\n",
       "      <td>0.573664</td>\n",
       "    </tr>\n",
       "    <tr>\n",
       "      <th>37</th>\n",
       "      <td>0.785394</td>\n",
       "      <td>2.094121</td>\n",
       "      <td>0.740378</td>\n",
       "      <td>0.524747</td>\n",
       "    </tr>\n",
       "    <tr>\n",
       "      <th>38</th>\n",
       "      <td>0.845539</td>\n",
       "      <td>2.114188</td>\n",
       "      <td>0.699306</td>\n",
       "      <td>0.610592</td>\n",
       "    </tr>\n",
       "    <tr>\n",
       "      <th>39</th>\n",
       "      <td>0.805968</td>\n",
       "      <td>2.180750</td>\n",
       "      <td>0.708904</td>\n",
       "      <td>0.597822</td>\n",
       "    </tr>\n",
       "    <tr>\n",
       "      <th>40</th>\n",
       "      <td>0.797193</td>\n",
       "      <td>2.226238</td>\n",
       "      <td>0.714769</td>\n",
       "      <td>0.586195</td>\n",
       "    </tr>\n",
       "    <tr>\n",
       "      <th>41</th>\n",
       "      <td>0.795256</td>\n",
       "      <td>2.196957</td>\n",
       "      <td>0.719767</td>\n",
       "      <td>0.585407</td>\n",
       "    </tr>\n",
       "    <tr>\n",
       "      <th>42</th>\n",
       "      <td>0.798351</td>\n",
       "      <td>2.210308</td>\n",
       "      <td>0.730508</td>\n",
       "      <td>0.583639</td>\n",
       "    </tr>\n",
       "    <tr>\n",
       "      <th>43</th>\n",
       "      <td>0.785386</td>\n",
       "      <td>2.182263</td>\n",
       "      <td>0.731852</td>\n",
       "      <td>0.577896</td>\n",
       "    </tr>\n",
       "    <tr>\n",
       "      <th>44</th>\n",
       "      <td>0.795410</td>\n",
       "      <td>2.235688</td>\n",
       "      <td>0.743542</td>\n",
       "      <td>0.570998</td>\n",
       "    </tr>\n",
       "    <tr>\n",
       "      <th>45</th>\n",
       "      <td>0.777290</td>\n",
       "      <td>2.180994</td>\n",
       "      <td>0.754899</td>\n",
       "      <td>0.554591</td>\n",
       "    </tr>\n",
       "    <tr>\n",
       "      <th>46</th>\n",
       "      <td>0.817539</td>\n",
       "      <td>2.183192</td>\n",
       "      <td>0.703221</td>\n",
       "      <td>0.606113</td>\n",
       "    </tr>\n",
       "    <tr>\n",
       "      <th>47</th>\n",
       "      <td>0.806000</td>\n",
       "      <td>2.191023</td>\n",
       "      <td>0.710998</td>\n",
       "      <td>0.596818</td>\n",
       "    </tr>\n",
       "    <tr>\n",
       "      <th>48</th>\n",
       "      <td>0.792120</td>\n",
       "      <td>2.230679</td>\n",
       "      <td>0.724599</td>\n",
       "      <td>0.581120</td>\n",
       "    </tr>\n",
       "    <tr>\n",
       "      <th>49</th>\n",
       "      <td>0.783383</td>\n",
       "      <td>2.202658</td>\n",
       "      <td>0.732490</td>\n",
       "      <td>0.572435</td>\n",
       "    </tr>\n",
       "  </tbody>\n",
       "</table>\n",
       "</div>"
      ],
      "text/plain": [
       "    train_losses  test_losses  train_accs  test_accs\n",
       "0       1.625021     1.854282    0.611203   0.289134\n",
       "1       1.122677     1.934365    0.611203   0.289134\n",
       "2       0.984841     1.816298    0.689522   0.431827\n",
       "3       0.942844     1.859381    0.691445   0.291554\n",
       "4       0.905462     1.963195    0.689244   0.289134\n",
       "5       0.907284     1.828966    0.749423   0.580912\n",
       "6       0.866363     2.102630    0.688517   0.289134\n",
       "7       0.897736     2.044620    0.691304   0.289134\n",
       "8       0.890812     1.996689    0.701512   0.308853\n",
       "9       0.865966     2.031786    0.693058   0.289571\n",
       "10      0.853939     1.954397    0.751639   0.560299\n",
       "11      0.834854     1.915090    0.743448   0.574588\n",
       "12      0.825126     1.944407    0.732260   0.532774\n",
       "13      0.888879     1.925060    0.725312   0.599380\n",
       "14      0.834411     2.176651    0.691762   0.289134\n",
       "15      0.875595     2.008220    0.754089   0.576436\n",
       "16      0.820236     2.125093    0.696968   0.290981\n",
       "17      0.826871     1.999963    0.749985   0.556703\n",
       "18      0.819833     2.046910    0.732163   0.525009\n",
       "19      0.865079     2.005536    0.719677   0.592459\n",
       "20      0.832738     2.086115    0.691539   0.289134\n",
       "21      0.842240     2.050333    0.692447   0.343672\n",
       "22      0.829616     2.012578    0.735899   0.580261\n",
       "23      0.845253     1.912639    0.744446   0.581725\n",
       "24      0.844754     2.077039    0.709653   0.592099\n",
       "25      0.837874     2.066571    0.695646   0.303802\n",
       "26      0.824418     2.078570    0.720519   0.582939\n",
       "27      0.816496     2.081081    0.733631   0.578611\n",
       "28      0.808734     2.051401    0.754640   0.547728\n",
       "29      0.863144     2.066135    0.697176   0.609616\n",
       "30      0.825429     2.151357    0.746478   0.547049\n",
       "31      0.830638     2.150146    0.727330   0.572520\n",
       "32      0.812621     2.134309    0.735953   0.561314\n",
       "33      0.821417     2.050539    0.746103   0.564159\n",
       "34      0.803702     2.085879    0.721520   0.593801\n",
       "35      0.799409     2.104205    0.727627   0.583611\n",
       "36      0.794052     2.096821    0.736612   0.573664\n",
       "37      0.785394     2.094121    0.740378   0.524747\n",
       "38      0.845539     2.114188    0.699306   0.610592\n",
       "39      0.805968     2.180750    0.708904   0.597822\n",
       "40      0.797193     2.226238    0.714769   0.586195\n",
       "41      0.795256     2.196957    0.719767   0.585407\n",
       "42      0.798351     2.210308    0.730508   0.583639\n",
       "43      0.785386     2.182263    0.731852   0.577896\n",
       "44      0.795410     2.235688    0.743542   0.570998\n",
       "45      0.777290     2.180994    0.754899   0.554591\n",
       "46      0.817539     2.183192    0.703221   0.606113\n",
       "47      0.806000     2.191023    0.710998   0.596818\n",
       "48      0.792120     2.230679    0.724599   0.581120\n",
       "49      0.783383     2.202658    0.732490   0.572435"
      ]
     },
     "execution_count": 40,
     "metadata": {},
     "output_type": "execute_result"
    }
   ],
   "source": [
    "# train_report = train_report.reset_index().rename(columns={'index':'epoch'})\n",
    "train_report"
   ]
  },
  {
   "cell_type": "code",
   "execution_count": 44,
   "metadata": {},
   "outputs": [
    {
     "data": {
      "text/plain": [
       "<AxesSubplot:>"
      ]
     },
     "execution_count": 44,
     "metadata": {},
     "output_type": "execute_result"
    },
    {
     "data": {
      "image/png": "[encoded data removed]",
      "text/plain": [
       "<Figure size 432x288 with 1 Axes>"
      ]
     },
     "metadata": {
      "needs_background": "light"
     },
     "output_type": "display_data"
    }
   ],
   "source": [
    "import matplotlib.pyplot as plt\n",
    "\n",
    "train_report.loc[:,['train_accs','test_accs']].plot()"
   ]
  },
  {
   "cell_type": "code",
   "execution_count": 45,
   "metadata": {},
   "outputs": [
    {
     "data": {
      "text/plain": [
       "<AxesSubplot:>"
      ]
     },
     "execution_count": 45,
     "metadata": {},
     "output_type": "execute_result"
    },
    {
     "data": {
      "image/png": "[encoded data removed]",
      "text/plain": [
       "<Figure size 432x288 with 1 Axes>"
      ]
     },
     "metadata": {
      "needs_background": "light"
     },
     "output_type": "display_data"
    }
   ],
   "source": [
    "train_report.loc[:,['train_losses','test_losses']].plot()"
   ]
  }
 ],
 "metadata": {
  "interpreter": {
   "hash": "66520dd0b33ddabc308eaad2712b98e74c6cde738d930246cae03389f6b8a959"
  },
  "kernelspec": {
   "display_name": "Python 3.9.2 ('CAPP')",
   "language": "python",
   "name": "python3"
  },
  "language_info": {
   "codemirror_mode": {
    "name": "ipython",
    "version": 3
   },
   "file_extension": ".py",
   "mimetype": "text/x-python",
   "name": "python",
   "nbconvert_exporter": "python",
   "pygments_lexer": "ipython3",
   "version": "3.9.2"
  },
  "orig_nbformat": 4
 },
 "nbformat": 4,
 "nbformat_minor": 2
}
